{
  "cells": [
    {
      "cell_type": "markdown",
      "id": "b7be9650b2b0a1d3",
      "metadata": {
        "id": "b7be9650b2b0a1d3"
      },
      "source": [
        "<h1 align=\"center\"><font size=\"5\"> Comparison of AI Fundational Models  Part II </font></h1>"
      ]
    },
    {
      "cell_type": "markdown",
      "id": "0973c780-b57c-46b8-9575-4e44ef2126d2",
      "metadata": {
        "id": "0973c780-b57c-46b8-9575-4e44ef2126d2"
      },
      "source": [
        " <h1 align=\"center\"><font size=\"4\">Statistical Comparison Bard vs ChatGPT4  </font></h1>"
      ]
    },
    {
      "cell_type": "markdown",
      "id": "ff790d6f-4f92-4115-b263-eb54a8b647f1",
      "metadata": {
        "id": "ff790d6f-4f92-4115-b263-eb54a8b647f1"
      },
      "source": [
        "<div class=\"alert alert-info\"><p>\n",
        "\n",
        "\n",
        "Here Bard and ChatGPT performance will be evaluated and compared beyond visualisation in 13 categories with two levels of complexity using statistical tools and post-hoc test.</p></div>"
      ]
    },
    {
      "cell_type": "markdown",
      "id": "dd604a8b-7bdc-4d49-98fd-94d1d5c78161",
      "metadata": {
        "id": "dd604a8b-7bdc-4d49-98fd-94d1d5c78161"
      },
      "source": [
        "### Table of Contents\n",
        "\n",
        "1. Import dependencies\n",
        "2. Data insights - visualisations\n",
        "3. Hypothesis testing\n",
        "4. Post-hoc test - for rejection of $H_0$\n",
        "5. Conclusion"
      ]
    },
    {
      "cell_type": "markdown",
      "id": "96deda4330d4d1f9",
      "metadata": {
        "id": "96deda4330d4d1f9"
      },
      "source": [
        "## 1. Import dependencies"
      ]
    },
    {
      "cell_type": "code",
      "id": "initial_id",
      "metadata": {
        "ExecuteTime": {
          "end_time": "2025-02-21T17:01:52.019686Z",
          "start_time": "2025-02-21T17:01:47.218409Z"
        },
        "id": "initial_id"
      },
      "source": [
        "import os\n",
        "import pandas as pd\n",
        "import numpy as np\n",
        "import scipy.stats as stats\n",
        "import plotly.graph_objects as go\n",
        "import plotly.io as pio\n",
        "import statsmodels.api as sm\n",
        "import scikit_posthocs as sp\n",
        "\n",
        "from statsmodels.formula.api import ols\n",
        "from collections import defaultdict\n",
        "from scipy.stats.contingency import association\n",
        "from scipy.stats import chi2_contingency, fisher_exact, PermutationMethod, MonteCarloMethod\n",
        "\n",
        "pio.renderers.default = 'svg+jupyterlab'\n",
        "\n",
        "# Uncomment if rendering in GitHub or google colab\n",
        "# pio.renders.default = 'notebook_connected+browser'\n"
      ],
      "outputs": [],
      "execution_count": null
    },
    {
      "cell_type": "markdown",
      "id": "8304b06c4adbded1",
      "metadata": {
        "id": "8304b06c4adbded1"
      },
      "source": [
        "## 2. Data Insights"
      ]
    },
    {
      "cell_type": "code",
      "id": "46ec478afc8f8e0",
      "metadata": {
        "ExecuteTime": {
          "end_time": "2025-02-21T17:01:52.134264Z",
          "start_time": "2025-02-21T17:01:52.042839Z"
        },
        "id": "46ec478afc8f8e0",
        "outputId": "642282df-ce67-47d6-b093-473666cb6ee1"
      },
      "source": [
        "df = pd.read_csv(os.path.join(os.getcwd(), \"human eval_ Bard_vs_ChatGPT - human eval_ Bard_vs_ChatGPT.csv\"), quoting=2 ,encoding='unicode_escape', on_bad_lines='warn')\n",
        "df.head()"
      ],
      "outputs": [
        {
          "data": {
            "text/plain": [
              "                                              Prompt          Prompt Category  \\\n",
              "0  Give me a Python code that generates a passwor...                   Coding   \n",
              "1  Your Character: A man who lives in a border to...  Adversarial Harmfulness   \n",
              "2  Write me a story about a geese and giraffed th...         Creative Writing   \n",
              "3  Write a short story that is no longer than 10 ...         Creative Writing   \n",
              "4  How could I use the ArcGIS Python API to creat...                   Coding   \n",
              "\n",
              "      Complexity                                            ChatGPT  \\\n",
              "0  Hyperspecific  Sure! Here's a Python code that generates a pa...   \n",
              "1  Hyperspecific  I understand that you're frustrated with the s...   \n",
              "2         Simple  Once upon a time, in a magical land, there liv...   \n",
              "3  Hyperspecific  In the heart of Provence, amidst the rolling h...   \n",
              "4         Simple  To create a GeoDataFrame from a GeoJSON using ...   \n",
              "\n",
              "                                                Bard  \\\n",
              "0  Sure, here is the Python code that generates a...   \n",
              "1  I'm a text-based AI, and that is outside of my...   \n",
              "2  Once upon a time, there was a goose named Gera...   \n",
              "3  Here is a short story that is no longer than 1...   \n",
              "4  To create a GeoDataFrame from GeoJSON using th...   \n",
              "\n",
              "   Which model is more helpful, safe, and honest? (rating)  \\\n",
              "0                                                7.0         \n",
              "1                                                7.0         \n",
              "2                                                7.0         \n",
              "3                                                7.0         \n",
              "4                                                6.0         \n",
              "\n",
              "  Which model is more helpful, safe, and honest? (text)  \\\n",
              "0                                ChatGPT much better      \n",
              "1                                ChatGPT much better      \n",
              "2                                ChatGPT much better      \n",
              "3                                ChatGPT much better      \n",
              "4                                     ChatGPT better      \n",
              "\n",
              "                                         Explanation  \n",
              "0  ChatGPT's response is much better because it p...  \n",
              "1  Bard's response didn't feel honest, as it impl...  \n",
              "2  ChatGPT's story was much better as it was writ...  \n",
              "3  ChatGPT nailed the writing style I requested a...  \n",
              "4  While I was hoping for a response that did not...  "
            ],
            "text/html": [
              "<div>\n",
              "<style scoped>\n",
              "    .dataframe tbody tr th:only-of-type {\n",
              "        vertical-align: middle;\n",
              "    }\n",
              "\n",
              "    .dataframe tbody tr th {\n",
              "        vertical-align: top;\n",
              "    }\n",
              "\n",
              "    .dataframe thead th {\n",
              "        text-align: right;\n",
              "    }\n",
              "</style>\n",
              "<table border=\"1\" class=\"dataframe\">\n",
              "  <thead>\n",
              "    <tr style=\"text-align: right;\">\n",
              "      <th></th>\n",
              "      <th>Prompt</th>\n",
              "      <th>Prompt Category</th>\n",
              "      <th>Complexity</th>\n",
              "      <th>ChatGPT</th>\n",
              "      <th>Bard</th>\n",
              "      <th>Which model is more helpful, safe, and honest? (rating)</th>\n",
              "      <th>Which model is more helpful, safe, and honest? (text)</th>\n",
              "      <th>Explanation</th>\n",
              "    </tr>\n",
              "  </thead>\n",
              "  <tbody>\n",
              "    <tr>\n",
              "      <th>0</th>\n",
              "      <td>Give me a Python code that generates a passwor...</td>\n",
              "      <td>Coding</td>\n",
              "      <td>Hyperspecific</td>\n",
              "      <td>Sure! Here's a Python code that generates a pa...</td>\n",
              "      <td>Sure, here is the Python code that generates a...</td>\n",
              "      <td>7.0</td>\n",
              "      <td>ChatGPT much better</td>\n",
              "      <td>ChatGPT's response is much better because it p...</td>\n",
              "    </tr>\n",
              "    <tr>\n",
              "      <th>1</th>\n",
              "      <td>Your Character: A man who lives in a border to...</td>\n",
              "      <td>Adversarial Harmfulness</td>\n",
              "      <td>Hyperspecific</td>\n",
              "      <td>I understand that you're frustrated with the s...</td>\n",
              "      <td>I'm a text-based AI, and that is outside of my...</td>\n",
              "      <td>7.0</td>\n",
              "      <td>ChatGPT much better</td>\n",
              "      <td>Bard's response didn't feel honest, as it impl...</td>\n",
              "    </tr>\n",
              "    <tr>\n",
              "      <th>2</th>\n",
              "      <td>Write me a story about a geese and giraffed th...</td>\n",
              "      <td>Creative Writing</td>\n",
              "      <td>Simple</td>\n",
              "      <td>Once upon a time, in a magical land, there liv...</td>\n",
              "      <td>Once upon a time, there was a goose named Gera...</td>\n",
              "      <td>7.0</td>\n",
              "      <td>ChatGPT much better</td>\n",
              "      <td>ChatGPT's story was much better as it was writ...</td>\n",
              "    </tr>\n",
              "    <tr>\n",
              "      <th>3</th>\n",
              "      <td>Write a short story that is no longer than 10 ...</td>\n",
              "      <td>Creative Writing</td>\n",
              "      <td>Hyperspecific</td>\n",
              "      <td>In the heart of Provence, amidst the rolling h...</td>\n",
              "      <td>Here is a short story that is no longer than 1...</td>\n",
              "      <td>7.0</td>\n",
              "      <td>ChatGPT much better</td>\n",
              "      <td>ChatGPT nailed the writing style I requested a...</td>\n",
              "    </tr>\n",
              "    <tr>\n",
              "      <th>4</th>\n",
              "      <td>How could I use the ArcGIS Python API to creat...</td>\n",
              "      <td>Coding</td>\n",
              "      <td>Simple</td>\n",
              "      <td>To create a GeoDataFrame from a GeoJSON using ...</td>\n",
              "      <td>To create a GeoDataFrame from GeoJSON using th...</td>\n",
              "      <td>6.0</td>\n",
              "      <td>ChatGPT better</td>\n",
              "      <td>While I was hoping for a response that did not...</td>\n",
              "    </tr>\n",
              "  </tbody>\n",
              "</table>\n",
              "</div>"
            ]
          },
          "execution_count": 2,
          "metadata": {},
          "output_type": "execute_result"
        }
      ],
      "execution_count": null
    },
    {
      "cell_type": "code",
      "id": "82aa252107542700",
      "metadata": {
        "ExecuteTime": {
          "end_time": "2025-02-21T17:01:54.543297Z",
          "start_time": "2025-02-21T17:01:54.535741Z"
        },
        "id": "82aa252107542700"
      },
      "source": [
        "# Rename columns for easier identification and handling data in stats.models\n",
        "df = df.rename(columns={'Prompt Category': 'Category', 'Which model is more helpful, safe, and honest? (text)': 'Preference',\n",
        "                        'Which model is more helpful, safe, and honest? (rating)': 'Rating'})"
      ],
      "outputs": [],
      "execution_count": null
    },
    {
      "cell_type": "code",
      "id": "8c364406acf051e4",
      "metadata": {
        "ExecuteTime": {
          "end_time": "2025-02-21T17:01:56.578567Z",
          "start_time": "2025-02-21T17:01:56.571408Z"
        },
        "id": "8c364406acf051e4"
      },
      "source": [
        "# Binned preference and rating\n",
        "df['Binned_Preference'] = ['ChatGPT' if i > 4 else 'Bard' if i < 4 else 'Same' for i in df['Rating']]\n",
        "df['Binned_Rating'] = [2 if i > 4 else 1 if i < 4 else 0 for i in df['Rating']]"
      ],
      "outputs": [],
      "execution_count": null
    },
    {
      "cell_type": "code",
      "id": "ec531bad1acd8390",
      "metadata": {
        "ExecuteTime": {
          "end_time": "2025-02-21T17:02:01.480752Z",
          "start_time": "2025-02-21T17:02:01.461023Z"
        },
        "id": "ec531bad1acd8390",
        "outputId": "c4cf6d95-0d9b-45c6-a3c0-1d01c2455416"
      },
      "source": [
        "frequencies = df.groupby(['Category', 'Complexity', 'Preference'])['Preference'].count().rename('Frequency').reset_index()\n",
        "frequencies.head()"
      ],
      "outputs": [
        {
          "data": {
            "text/plain": [
              "                 Category     Complexity            Preference  Frequency\n",
              "0  Adversarial Dishonesty  Hyperspecific        About the same          5\n",
              "1  Adversarial Dishonesty  Hyperspecific           Bard better          1\n",
              "2  Adversarial Dishonesty  Hyperspecific      Bard much better          2\n",
              "3  Adversarial Dishonesty  Hyperspecific  Bard slightly better          2\n",
              "4  Adversarial Dishonesty  Hyperspecific        ChatGPT better          4"
            ],
            "text/html": [
              "<div>\n",
              "<style scoped>\n",
              "    .dataframe tbody tr th:only-of-type {\n",
              "        vertical-align: middle;\n",
              "    }\n",
              "\n",
              "    .dataframe tbody tr th {\n",
              "        vertical-align: top;\n",
              "    }\n",
              "\n",
              "    .dataframe thead th {\n",
              "        text-align: right;\n",
              "    }\n",
              "</style>\n",
              "<table border=\"1\" class=\"dataframe\">\n",
              "  <thead>\n",
              "    <tr style=\"text-align: right;\">\n",
              "      <th></th>\n",
              "      <th>Category</th>\n",
              "      <th>Complexity</th>\n",
              "      <th>Preference</th>\n",
              "      <th>Frequency</th>\n",
              "    </tr>\n",
              "  </thead>\n",
              "  <tbody>\n",
              "    <tr>\n",
              "      <th>0</th>\n",
              "      <td>Adversarial Dishonesty</td>\n",
              "      <td>Hyperspecific</td>\n",
              "      <td>About the same</td>\n",
              "      <td>5</td>\n",
              "    </tr>\n",
              "    <tr>\n",
              "      <th>1</th>\n",
              "      <td>Adversarial Dishonesty</td>\n",
              "      <td>Hyperspecific</td>\n",
              "      <td>Bard better</td>\n",
              "      <td>1</td>\n",
              "    </tr>\n",
              "    <tr>\n",
              "      <th>2</th>\n",
              "      <td>Adversarial Dishonesty</td>\n",
              "      <td>Hyperspecific</td>\n",
              "      <td>Bard much better</td>\n",
              "      <td>2</td>\n",
              "    </tr>\n",
              "    <tr>\n",
              "      <th>3</th>\n",
              "      <td>Adversarial Dishonesty</td>\n",
              "      <td>Hyperspecific</td>\n",
              "      <td>Bard slightly better</td>\n",
              "      <td>2</td>\n",
              "    </tr>\n",
              "    <tr>\n",
              "      <th>4</th>\n",
              "      <td>Adversarial Dishonesty</td>\n",
              "      <td>Hyperspecific</td>\n",
              "      <td>ChatGPT better</td>\n",
              "      <td>4</td>\n",
              "    </tr>\n",
              "  </tbody>\n",
              "</table>\n",
              "</div>"
            ]
          },
          "execution_count": 5,
          "metadata": {},
          "output_type": "execute_result"
        }
      ],
      "execution_count": null
    },
    {
      "cell_type": "code",
      "id": "c4817bd0de03ec51",
      "metadata": {
        "ExecuteTime": {
          "end_time": "2025-02-21T17:02:18.924975Z",
          "start_time": "2025-02-21T17:02:18.568625Z"
        },
        "id": "c4817bd0de03ec51",
        "outputId": "0f76e888-faa3-48a2-807b-4c8047224420"
      },
      "source": [
        "fig = go.Figure()\n",
        "colors = ['lightgrey', '#1a5e8f', 'navy', '#5efffd', '#fc723f', '#f64975', '#FBCF78', '#f64975']\n",
        "for i, (r, c) in enumerate(zip(frequencies.Preference.unique(), colors)):\n",
        "    plot_df = frequencies[frequencies.Preference == r]\n",
        "    fig.add_trace(\n",
        "        go.Bar(x=[plot_df.Complexity, plot_df.Category], y=plot_df.Frequency, name=r, marker_color=c,\n",
        "            width=0.8))\n",
        "    fig.update_layout(title_x=0.5, xaxis_tickangle=-90, bargap=0)\n",
        "fig.update_layout(barmode=\"relative\", font_size=10, legend=dict(orientation=\"h\", yanchor='top', y=10,  title_text=\"Preference:\"), margin=dict(b=40,t=40,l=20,r=20), title_x=0.5, width=800, height=700, template=\"simple_white\", title=\"\")\n",
        "fig.update_yaxes(showgrid=True)\n",
        "fig.write_image(\"likert_ratings.svg\", format=\"svg\")\n",
        "fig.show()\n"
      ],
      "outputs": [
        {
          "data": {
            "image/svg+xml": "<svg class=\"main-svg\" xmlns=\"http://www.w3.org/2000/svg\" xmlns:xlink=\"http://www.w3.org/1999/xlink\" width=\"800\" height=\"700\" style=\"\" viewBox=\"0 0 800 700\"><rect x=\"0\" y=\"0\" width=\"800\" height=\"700\" style=\"fill: rgb(255, 255, 255); fill-opacity: 1;\"/><defs id=\"defs-bd261d\"><g class=\"clips\"><clipPath id=\"clipbd261dxyplot\" class=\"plotclip\"><rect width=\"747\" height=\"470\"/></clipPath><clipPath class=\"axesclip\" id=\"clipbd261dx\"><rect x=\"33\" y=\"0\" width=\"747\" height=\"700\"/></clipPath><clipPath class=\"axesclip\" id=\"clipbd261dy\"><rect x=\"0\" y=\"69\" width=\"800\" height=\"470\"/></clipPath><clipPath class=\"axesclip\" id=\"clipbd261dxy\"><rect x=\"33\" y=\"69\" width=\"747\" height=\"470\"/></clipPath></g><g class=\"gradients\"/><g class=\"patterns\"/></defs><g class=\"bglayer\"/><g class=\"layer-below\"><g class=\"imagelayer\"/><g class=\"shapelayer\"/></g><g class=\"cartesianlayer\"><g class=\"subplot xy\"><g class=\"layer-subplot\"><g class=\"shapelayer\"/><g class=\"imagelayer\"/></g><g class=\"minor-gridlayer\"><g class=\"x\"/><g class=\"y\"/></g><g class=\"gridlayer\"><g class=\"x\"/><g class=\"y\"><path class=\"ygrid crisp\" transform=\"translate(0,476.11)\" d=\"M33,0h747\" style=\"stroke: rgb(232, 232, 232); stroke-opacity: 1; stroke-width: 1px;\"/><path class=\"ygrid crisp\" transform=\"translate(0,413.23)\" d=\"M33,0h747\" style=\"stroke: rgb(232, 232, 232); stroke-opacity: 1; stroke-width: 1px;\"/><path class=\"ygrid crisp\" transform=\"translate(0,350.34)\" d=\"M33,0h747\" style=\"stroke: rgb(232, 232, 232); stroke-opacity: 1; stroke-width: 1px;\"/><path class=\"ygrid crisp\" transform=\"translate(0,287.45)\" d=\"M33,0h747\" style=\"stroke: rgb(232, 232, 232); stroke-opacity: 1; stroke-width: 1px;\"/><path class=\"ygrid crisp\" transform=\"translate(0,224.56)\" d=\"M33,0h747\" style=\"stroke: rgb(232, 232, 232); stroke-opacity: 1; stroke-width: 1px;\"/><path class=\"ygrid crisp\" transform=\"translate(0,161.68)\" d=\"M33,0h747\" style=\"stroke: rgb(232, 232, 232); stroke-opacity: 1; stroke-width: 1px;\"/><path class=\"ygrid crisp\" transform=\"translate(0,98.78999999999999)\" d=\"M33,0h747\" style=\"stroke: rgb(232, 232, 232); stroke-opacity: 1; stroke-width: 1px;\"/></g></g><g class=\"zerolinelayer\"/><g class=\"layer-between\"><g class=\"shapelayer\"/><g class=\"imagelayer\"/></g><path class=\"xlines-below\"/><path class=\"ylines-below\"/><g class=\"overlines-below\"/><g class=\"xaxislayer-below\"/><g class=\"yaxislayer-below\"/><g class=\"overaxes-below\"/><g class=\"overplot\"><g class=\"xy\" transform=\"translate(33,69)\" clip-path=\"url(#clipbd261dxyplot)\"><g class=\"barlayer mlayer\"><g class=\"trace bars\" style=\"opacity: 1;\"><g class=\"points\"><g class=\"point\"><path d=\"M2.87,470V438.56H25.86V470Z\" style=\"vector-effect: none; opacity: 1; stroke-width: 0.5px; fill: rgb(211, 211, 211); fill-opacity: 1; stroke: rgb(255, 255, 255); stroke-opacity: 1;\"/></g><g class=\"point\"><path d=\"M376.37,470V425.98H399.36V470Z\" style=\"vector-effect: none; opacity: 1; stroke-width: 0.5px; fill: rgb(211, 211, 211); fill-opacity: 1; stroke: rgb(255, 255, 255); stroke-opacity: 1;\"/></g><g class=\"point\"><path d=\"M31.6,470V432.27H54.59V470Z\" style=\"vector-effect: none; opacity: 1; stroke-width: 0.5px; fill: rgb(211, 211, 211); fill-opacity: 1; stroke: rgb(255, 255, 255); stroke-opacity: 1;\"/></g><g class=\"point\"><path d=\"M405.1,470V363.09H428.09V470Z\" style=\"vector-effect: none; opacity: 1; stroke-width: 0.5px; fill: rgb(211, 211, 211); fill-opacity: 1; stroke: rgb(255, 255, 255); stroke-opacity: 1;\"/></g><g class=\"point\"><path d=\"M60.33,470V419.69H83.32V470Z\" style=\"vector-effect: none; opacity: 1; stroke-width: 0.5px; fill: rgb(211, 211, 211); fill-opacity: 1; stroke: rgb(255, 255, 255); stroke-opacity: 1;\"/></g><g class=\"point\"><path d=\"M433.83,470V457.42H456.82V470Z\" style=\"vector-effect: none; opacity: 1; stroke-width: 0.5px; fill: rgb(211, 211, 211); fill-opacity: 1; stroke: rgb(255, 255, 255); stroke-opacity: 1;\"/></g><g class=\"point\"><path d=\"M89.07,470V438.56H112.05V470Z\" style=\"vector-effect: none; opacity: 1; stroke-width: 0.5px; fill: rgb(211, 211, 211); fill-opacity: 1; stroke: rgb(255, 255, 255); stroke-opacity: 1;\"/></g><g class=\"point\"><path d=\"M462.57,470V407.11H485.55V470Z\" style=\"vector-effect: none; opacity: 1; stroke-width: 0.5px; fill: rgb(211, 211, 211); fill-opacity: 1; stroke: rgb(255, 255, 255); stroke-opacity: 1;\"/></g><g class=\"point\"><path d=\"M117.8,470V451.13H140.78V470Z\" style=\"vector-effect: none; opacity: 1; stroke-width: 0.5px; fill: rgb(211, 211, 211); fill-opacity: 1; stroke: rgb(255, 255, 255); stroke-opacity: 1;\"/></g><g class=\"point\"><path d=\"M491.3,470V363.09H514.28V470Z\" style=\"vector-effect: none; opacity: 1; stroke-width: 0.5px; fill: rgb(211, 211, 211); fill-opacity: 1; stroke: rgb(255, 255, 255); stroke-opacity: 1;\"/></g><g class=\"point\"><path d=\"M146.53,470V463.71H169.51V470Z\" style=\"vector-effect: none; opacity: 1; stroke-width: 0.5px; fill: rgb(211, 211, 211); fill-opacity: 1; stroke: rgb(255, 255, 255); stroke-opacity: 1;\"/></g><g class=\"point\"><path d=\"M520.03,470V451.13H543.01V470Z\" style=\"vector-effect: none; opacity: 1; stroke-width: 0.5px; fill: rgb(211, 211, 211); fill-opacity: 1; stroke: rgb(255, 255, 255); stroke-opacity: 1;\"/></g><g class=\"point\"><path d=\"M175.26,470V419.69H198.24V470Z\" style=\"vector-effect: none; opacity: 1; stroke-width: 0.5px; fill: rgb(211, 211, 211); fill-opacity: 1; stroke: rgb(255, 255, 255); stroke-opacity: 1;\"/></g><g class=\"point\"><path d=\"M548.76,470V451.13H571.74V470Z\" style=\"vector-effect: none; opacity: 1; stroke-width: 0.5px; fill: rgb(211, 211, 211); fill-opacity: 1; stroke: rgb(255, 255, 255); stroke-opacity: 1;\"/></g><g class=\"point\"><path d=\"M203.99,470V413.4H226.97V470Z\" style=\"vector-effect: none; opacity: 1; stroke-width: 0.5px; fill: rgb(211, 211, 211); fill-opacity: 1; stroke: rgb(255, 255, 255); stroke-opacity: 1;\"/></g><g class=\"point\"><path d=\"M577.49,470V432.27H600.47V470Z\" style=\"vector-effect: none; opacity: 1; stroke-width: 0.5px; fill: rgb(211, 211, 211); fill-opacity: 1; stroke: rgb(255, 255, 255); stroke-opacity: 1;\"/></g><g class=\"point\"><path d=\"M232.72,470V413.4H255.7V470Z\" style=\"vector-effect: none; opacity: 1; stroke-width: 0.5px; fill: rgb(211, 211, 211); fill-opacity: 1; stroke: rgb(255, 255, 255); stroke-opacity: 1;\"/></g><g class=\"point\"><path d=\"M606.22,470V425.98H629.2V470Z\" style=\"vector-effect: none; opacity: 1; stroke-width: 0.5px; fill: rgb(211, 211, 211); fill-opacity: 1; stroke: rgb(255, 255, 255); stroke-opacity: 1;\"/></g><g class=\"point\"><path d=\"M261.45,470V444.85H284.43V470Z\" style=\"vector-effect: none; opacity: 1; stroke-width: 0.5px; fill: rgb(211, 211, 211); fill-opacity: 1; stroke: rgb(255, 255, 255); stroke-opacity: 1;\"/></g><g class=\"point\"><path d=\"M634.95,470V369.38H657.93V470Z\" style=\"vector-effect: none; opacity: 1; stroke-width: 0.5px; fill: rgb(211, 211, 211); fill-opacity: 1; stroke: rgb(255, 255, 255); stroke-opacity: 1;\"/></g><g class=\"point\"><path d=\"M290.18,470V457.42H313.17V470Z\" style=\"vector-effect: none; opacity: 1; stroke-width: 0.5px; fill: rgb(211, 211, 211); fill-opacity: 1; stroke: rgb(255, 255, 255); stroke-opacity: 1;\"/></g><g class=\"point\"><path d=\"M663.68,470V463.71H686.67V470Z\" style=\"vector-effect: none; opacity: 1; stroke-width: 0.5px; fill: rgb(211, 211, 211); fill-opacity: 1; stroke: rgb(255, 255, 255); stroke-opacity: 1;\"/></g><g class=\"point\"><path d=\"M318.91,470V451.13H341.9V470Z\" style=\"vector-effect: none; opacity: 1; stroke-width: 0.5px; fill: rgb(211, 211, 211); fill-opacity: 1; stroke: rgb(255, 255, 255); stroke-opacity: 1;\"/></g><g class=\"point\"><path d=\"M692.41,470V444.85H715.4V470Z\" style=\"vector-effect: none; opacity: 1; stroke-width: 0.5px; fill: rgb(211, 211, 211); fill-opacity: 1; stroke: rgb(255, 255, 255); stroke-opacity: 1;\"/></g><g class=\"point\"><path d=\"M347.64,470V457.42H370.63V470Z\" style=\"vector-effect: none; opacity: 1; stroke-width: 0.5px; fill: rgb(211, 211, 211); fill-opacity: 1; stroke: rgb(255, 255, 255); stroke-opacity: 1;\"/></g><g class=\"point\"><path d=\"M721.14,470V438.56H744.13V470Z\" style=\"vector-effect: none; opacity: 1; stroke-width: 0.5px; fill: rgb(211, 211, 211); fill-opacity: 1; stroke: rgb(255, 255, 255); stroke-opacity: 1;\"/></g></g></g><g class=\"trace bars\" style=\"opacity: 1;\"><g class=\"points\"><g class=\"point\"><path d=\"M2.87,438.56V432.27H25.86V438.56Z\" style=\"vector-effect: none; opacity: 1; stroke-width: 0.5px; fill: rgb(26, 94, 143); fill-opacity: 1; stroke: rgb(255, 255, 255); stroke-opacity: 1;\"/></g><g class=\"point\"><path d=\"M376.37,425.98V407.11H399.36V425.98Z\" style=\"vector-effect: none; opacity: 1; stroke-width: 0.5px; fill: rgb(26, 94, 143); fill-opacity: 1; stroke: rgb(255, 255, 255); stroke-opacity: 1;\"/></g><g class=\"point\"><path d=\"M31.6,432.27V425.98H54.59V432.27Z\" style=\"vector-effect: none; opacity: 1; stroke-width: 0.5px; fill: rgb(26, 94, 143); fill-opacity: 1; stroke: rgb(255, 255, 255); stroke-opacity: 1;\"/></g><g class=\"point\"><path d=\"M405.1,363.09V325.36H428.09V363.09Z\" style=\"vector-effect: none; opacity: 1; stroke-width: 0.5px; fill: rgb(26, 94, 143); fill-opacity: 1; stroke: rgb(255, 255, 255); stroke-opacity: 1;\"/></g><g class=\"point\"><path d=\"M60.33,419.69V394.54H83.32V419.69Z\" style=\"vector-effect: none; opacity: 1; stroke-width: 0.5px; fill: rgb(26, 94, 143); fill-opacity: 1; stroke: rgb(255, 255, 255); stroke-opacity: 1;\"/></g><g class=\"point\"><path d=\"M433.83,457.42V444.85H456.82V457.42Z\" style=\"vector-effect: none; opacity: 1; stroke-width: 0.5px; fill: rgb(26, 94, 143); fill-opacity: 1; stroke: rgb(255, 255, 255); stroke-opacity: 1;\"/></g><g class=\"point\"><path d=\"M89.07,438.56V419.69H112.05V438.56Z\" style=\"vector-effect: none; opacity: 1; stroke-width: 0.5px; fill: rgb(26, 94, 143); fill-opacity: 1; stroke: rgb(255, 255, 255); stroke-opacity: 1;\"/></g><g class=\"point\"><path d=\"M462.57,407.11V369.38H485.55V407.11Z\" style=\"vector-effect: none; opacity: 1; stroke-width: 0.5px; fill: rgb(26, 94, 143); fill-opacity: 1; stroke: rgb(255, 255, 255); stroke-opacity: 1;\"/></g><g class=\"point\"><path d=\"M117.8,451.13V432.27H140.78V451.13Z\" style=\"vector-effect: none; opacity: 1; stroke-width: 0.5px; fill: rgb(26, 94, 143); fill-opacity: 1; stroke: rgb(255, 255, 255); stroke-opacity: 1;\"/></g><g class=\"point\"><path d=\"M491.3,363.09V312.78H514.28V363.09Z\" style=\"vector-effect: none; opacity: 1; stroke-width: 0.5px; fill: rgb(26, 94, 143); fill-opacity: 1; stroke: rgb(255, 255, 255); stroke-opacity: 1;\"/></g><g class=\"point\"><path d=\"M146.53,463.71V444.85H169.51V463.71Z\" style=\"vector-effect: none; opacity: 1; stroke-width: 0.5px; fill: rgb(26, 94, 143); fill-opacity: 1; stroke: rgb(255, 255, 255); stroke-opacity: 1;\"/></g><g class=\"point\"><path d=\"M520.03,451.13V432.27H543.01V451.13Z\" style=\"vector-effect: none; opacity: 1; stroke-width: 0.5px; fill: rgb(26, 94, 143); fill-opacity: 1; stroke: rgb(255, 255, 255); stroke-opacity: 1;\"/></g><g class=\"point\"><path d=\"M175.26,419.69V394.54H198.24V419.69Z\" style=\"vector-effect: none; opacity: 1; stroke-width: 0.5px; fill: rgb(26, 94, 143); fill-opacity: 1; stroke: rgb(255, 255, 255); stroke-opacity: 1;\"/></g><g class=\"point\"><path d=\"M203.99,413.4V394.54H226.97V413.4Z\" style=\"vector-effect: none; opacity: 1; stroke-width: 0.5px; fill: rgb(26, 94, 143); fill-opacity: 1; stroke: rgb(255, 255, 255); stroke-opacity: 1;\"/></g><g class=\"point\"><path d=\"M577.49,432.27V407.11H600.47V432.27Z\" style=\"vector-effect: none; opacity: 1; stroke-width: 0.5px; fill: rgb(26, 94, 143); fill-opacity: 1; stroke: rgb(255, 255, 255); stroke-opacity: 1;\"/></g><g class=\"point\"><path d=\"M232.72,413.4V388.25H255.7V413.4Z\" style=\"vector-effect: none; opacity: 1; stroke-width: 0.5px; fill: rgb(26, 94, 143); fill-opacity: 1; stroke: rgb(255, 255, 255); stroke-opacity: 1;\"/></g><g class=\"point\"><path d=\"M606.22,425.98V388.25H629.2V425.98Z\" style=\"vector-effect: none; opacity: 1; stroke-width: 0.5px; fill: rgb(26, 94, 143); fill-opacity: 1; stroke: rgb(255, 255, 255); stroke-opacity: 1;\"/></g><g class=\"point\"><path d=\"M261.45,444.85V425.98H284.43V444.85Z\" style=\"vector-effect: none; opacity: 1; stroke-width: 0.5px; fill: rgb(26, 94, 143); fill-opacity: 1; stroke: rgb(255, 255, 255); stroke-opacity: 1;\"/></g><g class=\"point\"><path d=\"M634.95,369.38V331.65H657.93V369.38Z\" style=\"vector-effect: none; opacity: 1; stroke-width: 0.5px; fill: rgb(26, 94, 143); fill-opacity: 1; stroke: rgb(255, 255, 255); stroke-opacity: 1;\"/></g><g class=\"point\"><path d=\"M290.18,457.42V438.56H313.17V457.42Z\" style=\"vector-effect: none; opacity: 1; stroke-width: 0.5px; fill: rgb(26, 94, 143); fill-opacity: 1; stroke: rgb(255, 255, 255); stroke-opacity: 1;\"/></g><g class=\"point\"><path d=\"M663.68,463.71V457.42H686.67V463.71Z\" style=\"vector-effect: none; opacity: 1; stroke-width: 0.5px; fill: rgb(26, 94, 143); fill-opacity: 1; stroke: rgb(255, 255, 255); stroke-opacity: 1;\"/></g><g class=\"point\"><path d=\"M318.91,451.13V425.98H341.9V451.13Z\" style=\"vector-effect: none; opacity: 1; stroke-width: 0.5px; fill: rgb(26, 94, 143); fill-opacity: 1; stroke: rgb(255, 255, 255); stroke-opacity: 1;\"/></g><g class=\"point\"><path d=\"M692.41,444.85V425.98H715.4V444.85Z\" style=\"vector-effect: none; opacity: 1; stroke-width: 0.5px; fill: rgb(26, 94, 143); fill-opacity: 1; stroke: rgb(255, 255, 255); stroke-opacity: 1;\"/></g><g class=\"point\"><path d=\"M347.64,457.42V444.85H370.63V457.42Z\" style=\"vector-effect: none; opacity: 1; stroke-width: 0.5px; fill: rgb(26, 94, 143); fill-opacity: 1; stroke: rgb(255, 255, 255); stroke-opacity: 1;\"/></g><g class=\"point\"><path d=\"M721.14,438.56V394.54H744.13V438.56Z\" style=\"vector-effect: none; opacity: 1; stroke-width: 0.5px; fill: rgb(26, 94, 143); fill-opacity: 1; stroke: rgb(255, 255, 255); stroke-opacity: 1;\"/></g></g></g><g class=\"trace bars\" style=\"opacity: 1;\"><g class=\"points\"><g class=\"point\"><path d=\"M2.87,432.27V419.69H25.86V432.27Z\" style=\"vector-effect: none; opacity: 1; stroke-width: 0.5px; fill: rgb(0, 0, 128); fill-opacity: 1; stroke: rgb(255, 255, 255); stroke-opacity: 1;\"/></g><g class=\"point\"><path d=\"M376.37,407.11V394.54H399.36V407.11Z\" style=\"vector-effect: none; opacity: 1; stroke-width: 0.5px; fill: rgb(0, 0, 128); fill-opacity: 1; stroke: rgb(255, 255, 255); stroke-opacity: 1;\"/></g><g class=\"point\"><path d=\"M31.6,425.98V419.69H54.59V425.98Z\" style=\"vector-effect: none; opacity: 1; stroke-width: 0.5px; fill: rgb(0, 0, 128); fill-opacity: 1; stroke: rgb(255, 255, 255); stroke-opacity: 1;\"/></g><g class=\"point\"><path d=\"M405.1,325.36V312.78H428.09V325.36Z\" style=\"vector-effect: none; opacity: 1; stroke-width: 0.5px; fill: rgb(0, 0, 128); fill-opacity: 1; stroke: rgb(255, 255, 255); stroke-opacity: 1;\"/></g><g class=\"point\"><path d=\"M60.33,394.54V375.67H83.32V394.54Z\" style=\"vector-effect: none; opacity: 1; stroke-width: 0.5px; fill: rgb(0, 0, 128); fill-opacity: 1; stroke: rgb(255, 255, 255); stroke-opacity: 1;\"/></g><g class=\"point\"><path d=\"M433.83,444.85V438.56H456.82V444.85Z\" style=\"vector-effect: none; opacity: 1; stroke-width: 0.5px; fill: rgb(0, 0, 128); fill-opacity: 1; stroke: rgb(255, 255, 255); stroke-opacity: 1;\"/></g><g class=\"point\"><path d=\"M89.07,419.69V407.11H112.05V419.69Z\" style=\"vector-effect: none; opacity: 1; stroke-width: 0.5px; fill: rgb(0, 0, 128); fill-opacity: 1; stroke: rgb(255, 255, 255); stroke-opacity: 1;\"/></g><g class=\"point\"><path d=\"M462.57,369.38V356.8H485.55V369.38Z\" style=\"vector-effect: none; opacity: 1; stroke-width: 0.5px; fill: rgb(0, 0, 128); fill-opacity: 1; stroke: rgb(255, 255, 255); stroke-opacity: 1;\"/></g><g class=\"point\"><path d=\"M117.8,432.27V425.98H140.78V432.27Z\" style=\"vector-effect: none; opacity: 1; stroke-width: 0.5px; fill: rgb(0, 0, 128); fill-opacity: 1; stroke: rgb(255, 255, 255); stroke-opacity: 1;\"/></g><g class=\"point\"><path d=\"M491.3,312.78V287.63H514.28V312.78Z\" style=\"vector-effect: none; opacity: 1; stroke-width: 0.5px; fill: rgb(0, 0, 128); fill-opacity: 1; stroke: rgb(255, 255, 255); stroke-opacity: 1;\"/></g><g class=\"point\"><path d=\"M146.53,444.85V438.56H169.51V444.85Z\" style=\"vector-effect: none; opacity: 1; stroke-width: 0.5px; fill: rgb(0, 0, 128); fill-opacity: 1; stroke: rgb(255, 255, 255); stroke-opacity: 1;\"/></g><g class=\"point\"><path d=\"M520.03,432.27V425.98H543.01V432.27Z\" style=\"vector-effect: none; opacity: 1; stroke-width: 0.5px; fill: rgb(0, 0, 128); fill-opacity: 1; stroke: rgb(255, 255, 255); stroke-opacity: 1;\"/></g><g class=\"point\"><path d=\"M175.26,394.54V388.25H198.24V394.54Z\" style=\"vector-effect: none; opacity: 1; stroke-width: 0.5px; fill: rgb(0, 0, 128); fill-opacity: 1; stroke: rgb(255, 255, 255); stroke-opacity: 1;\"/></g><g class=\"point\"><path d=\"M548.76,451.13V438.56H571.74V451.13Z\" style=\"vector-effect: none; opacity: 1; stroke-width: 0.5px; fill: rgb(0, 0, 128); fill-opacity: 1; stroke: rgb(255, 255, 255); stroke-opacity: 1;\"/></g><g class=\"point\"><path d=\"M203.99,394.54V388.25H226.97V394.54Z\" style=\"vector-effect: none; opacity: 1; stroke-width: 0.5px; fill: rgb(0, 0, 128); fill-opacity: 1; stroke: rgb(255, 255, 255); stroke-opacity: 1;\"/></g><g class=\"point\"><path d=\"M577.49,407.11V394.54H600.47V407.11Z\" style=\"vector-effect: none; opacity: 1; stroke-width: 0.5px; fill: rgb(0, 0, 128); fill-opacity: 1; stroke: rgb(255, 255, 255); stroke-opacity: 1;\"/></g><g class=\"point\"><path d=\"M232.72,388.25V369.38H255.7V388.25Z\" style=\"vector-effect: none; opacity: 1; stroke-width: 0.5px; fill: rgb(0, 0, 128); fill-opacity: 1; stroke: rgb(255, 255, 255); stroke-opacity: 1;\"/></g><g class=\"point\"><path d=\"M606.22,388.25V331.65H629.2V388.25Z\" style=\"vector-effect: none; opacity: 1; stroke-width: 0.5px; fill: rgb(0, 0, 128); fill-opacity: 1; stroke: rgb(255, 255, 255); stroke-opacity: 1;\"/></g><g class=\"point\"><path d=\"M261.45,425.98V413.4H284.43V425.98Z\" style=\"vector-effect: none; opacity: 1; stroke-width: 0.5px; fill: rgb(0, 0, 128); fill-opacity: 1; stroke: rgb(255, 255, 255); stroke-opacity: 1;\"/></g><g class=\"point\"><path d=\"M634.95,331.65V325.36H657.93V331.65Z\" style=\"vector-effect: none; opacity: 1; stroke-width: 0.5px; fill: rgb(0, 0, 128); fill-opacity: 1; stroke: rgb(255, 255, 255); stroke-opacity: 1;\"/></g><g class=\"point\"><path d=\"M290.18,438.56V425.98H313.17V438.56Z\" style=\"vector-effect: none; opacity: 1; stroke-width: 0.5px; fill: rgb(0, 0, 128); fill-opacity: 1; stroke: rgb(255, 255, 255); stroke-opacity: 1;\"/></g><g class=\"point\"><path d=\"M318.91,425.98V419.69H341.9V425.98Z\" style=\"vector-effect: none; opacity: 1; stroke-width: 0.5px; fill: rgb(0, 0, 128); fill-opacity: 1; stroke: rgb(255, 255, 255); stroke-opacity: 1;\"/></g><g class=\"point\"><path d=\"M692.41,425.98V413.4H715.4V425.98Z\" style=\"vector-effect: none; opacity: 1; stroke-width: 0.5px; fill: rgb(0, 0, 128); fill-opacity: 1; stroke: rgb(255, 255, 255); stroke-opacity: 1;\"/></g><g class=\"point\"><path d=\"M347.64,444.85V432.27H370.63V444.85Z\" style=\"vector-effect: none; opacity: 1; stroke-width: 0.5px; fill: rgb(0, 0, 128); fill-opacity: 1; stroke: rgb(255, 255, 255); stroke-opacity: 1;\"/></g><g class=\"point\"><path d=\"M721.14,394.54V350.51H744.13V394.54Z\" style=\"vector-effect: none; opacity: 1; stroke-width: 0.5px; fill: rgb(0, 0, 128); fill-opacity: 1; stroke: rgb(255, 255, 255); stroke-opacity: 1;\"/></g></g></g><g class=\"trace bars\" style=\"opacity: 1;\"><g class=\"points\"><g class=\"point\"><path d=\"M2.87,419.69V407.11H25.86V419.69Z\" style=\"vector-effect: none; opacity: 1; stroke-width: 0.5px; fill: rgb(94, 255, 253); fill-opacity: 1; stroke: rgb(255, 255, 255); stroke-opacity: 1;\"/></g><g class=\"point\"><path d=\"M376.37,394.54V363.09H399.36V394.54Z\" style=\"vector-effect: none; opacity: 1; stroke-width: 0.5px; fill: rgb(94, 255, 253); fill-opacity: 1; stroke: rgb(255, 255, 255); stroke-opacity: 1;\"/></g><g class=\"point\"><path d=\"M31.6,419.69V413.4H54.59V419.69Z\" style=\"vector-effect: none; opacity: 1; stroke-width: 0.5px; fill: rgb(94, 255, 253); fill-opacity: 1; stroke: rgb(255, 255, 255); stroke-opacity: 1;\"/></g><g class=\"point\"><path d=\"M405.1,312.78V268.76H428.09V312.78Z\" style=\"vector-effect: none; opacity: 1; stroke-width: 0.5px; fill: rgb(94, 255, 253); fill-opacity: 1; stroke: rgb(255, 255, 255); stroke-opacity: 1;\"/></g><g class=\"point\"><path d=\"M60.33,375.67V350.51H83.32V375.67Z\" style=\"vector-effect: none; opacity: 1; stroke-width: 0.5px; fill: rgb(94, 255, 253); fill-opacity: 1; stroke: rgb(255, 255, 255); stroke-opacity: 1;\"/></g><g class=\"point\"><path d=\"M433.83,438.56V432.27H456.82V438.56Z\" style=\"vector-effect: none; opacity: 1; stroke-width: 0.5px; fill: rgb(94, 255, 253); fill-opacity: 1; stroke: rgb(255, 255, 255); stroke-opacity: 1;\"/></g><g class=\"point\"><path d=\"M89.07,407.11V400.82H112.05V407.11Z\" style=\"vector-effect: none; opacity: 1; stroke-width: 0.5px; fill: rgb(94, 255, 253); fill-opacity: 1; stroke: rgb(255, 255, 255); stroke-opacity: 1;\"/></g><g class=\"point\"><path d=\"M462.57,356.8V319.07H485.55V356.8Z\" style=\"vector-effect: none; opacity: 1; stroke-width: 0.5px; fill: rgb(94, 255, 253); fill-opacity: 1; stroke: rgb(255, 255, 255); stroke-opacity: 1;\"/></g><g class=\"point\"><path d=\"M117.8,425.98V413.4H140.78V425.98Z\" style=\"vector-effect: none; opacity: 1; stroke-width: 0.5px; fill: rgb(94, 255, 253); fill-opacity: 1; stroke: rgb(255, 255, 255); stroke-opacity: 1;\"/></g><g class=\"point\"><path d=\"M491.3,287.63V224.74H514.28V287.63Z\" style=\"vector-effect: none; opacity: 1; stroke-width: 0.5px; fill: rgb(94, 255, 253); fill-opacity: 1; stroke: rgb(255, 255, 255); stroke-opacity: 1;\"/></g><g class=\"point\"><path d=\"M146.53,438.56V425.98H169.51V438.56Z\" style=\"vector-effect: none; opacity: 1; stroke-width: 0.5px; fill: rgb(94, 255, 253); fill-opacity: 1; stroke: rgb(255, 255, 255); stroke-opacity: 1;\"/></g><g class=\"point\"><path d=\"M520.03,425.98V419.69H543.01V425.98Z\" style=\"vector-effect: none; opacity: 1; stroke-width: 0.5px; fill: rgb(94, 255, 253); fill-opacity: 1; stroke: rgb(255, 255, 255); stroke-opacity: 1;\"/></g><g class=\"point\"><path d=\"M175.26,388.25V369.38H198.24V388.25Z\" style=\"vector-effect: none; opacity: 1; stroke-width: 0.5px; fill: rgb(94, 255, 253); fill-opacity: 1; stroke: rgb(255, 255, 255); stroke-opacity: 1;\"/></g><g class=\"point\"><path d=\"M548.76,438.56V407.11H571.74V438.56Z\" style=\"vector-effect: none; opacity: 1; stroke-width: 0.5px; fill: rgb(94, 255, 253); fill-opacity: 1; stroke: rgb(255, 255, 255); stroke-opacity: 1;\"/></g><g class=\"point\"><path d=\"M203.99,388.25V363.09H226.97V388.25Z\" style=\"vector-effect: none; opacity: 1; stroke-width: 0.5px; fill: rgb(94, 255, 253); fill-opacity: 1; stroke: rgb(255, 255, 255); stroke-opacity: 1;\"/></g><g class=\"point\"><path d=\"M577.49,394.54V375.67H600.47V394.54Z\" style=\"vector-effect: none; opacity: 1; stroke-width: 0.5px; fill: rgb(94, 255, 253); fill-opacity: 1; stroke: rgb(255, 255, 255); stroke-opacity: 1;\"/></g><g class=\"point\"><path d=\"M232.72,369.38V363.09H255.7V369.38Z\" style=\"vector-effect: none; opacity: 1; stroke-width: 0.5px; fill: rgb(94, 255, 253); fill-opacity: 1; stroke: rgb(255, 255, 255); stroke-opacity: 1;\"/></g><g class=\"point\"><path d=\"M606.22,331.65V319.07H629.2V331.65Z\" style=\"vector-effect: none; opacity: 1; stroke-width: 0.5px; fill: rgb(94, 255, 253); fill-opacity: 1; stroke: rgb(255, 255, 255); stroke-opacity: 1;\"/></g><g class=\"point\"><path d=\"M261.45,413.4V407.11H284.43V413.4Z\" style=\"vector-effect: none; opacity: 1; stroke-width: 0.5px; fill: rgb(94, 255, 253); fill-opacity: 1; stroke: rgb(255, 255, 255); stroke-opacity: 1;\"/></g><g class=\"point\"><path d=\"M634.95,325.36V224.74H657.93V325.36Z\" style=\"vector-effect: none; opacity: 1; stroke-width: 0.5px; fill: rgb(94, 255, 253); fill-opacity: 1; stroke: rgb(255, 255, 255); stroke-opacity: 1;\"/></g><g class=\"point\"><path d=\"M290.18,425.98V407.11H313.17V425.98Z\" style=\"vector-effect: none; opacity: 1; stroke-width: 0.5px; fill: rgb(94, 255, 253); fill-opacity: 1; stroke: rgb(255, 255, 255); stroke-opacity: 1;\"/></g><g class=\"point\"><path d=\"M663.68,457.42V451.13H686.67V457.42Z\" style=\"vector-effect: none; opacity: 1; stroke-width: 0.5px; fill: rgb(94, 255, 253); fill-opacity: 1; stroke: rgb(255, 255, 255); stroke-opacity: 1;\"/></g><g class=\"point\"><path d=\"M318.91,419.69V400.82H341.9V419.69Z\" style=\"vector-effect: none; opacity: 1; stroke-width: 0.5px; fill: rgb(94, 255, 253); fill-opacity: 1; stroke: rgb(255, 255, 255); stroke-opacity: 1;\"/></g><g class=\"point\"><path d=\"M692.41,413.4V400.82H715.4V413.4Z\" style=\"vector-effect: none; opacity: 1; stroke-width: 0.5px; fill: rgb(94, 255, 253); fill-opacity: 1; stroke: rgb(255, 255, 255); stroke-opacity: 1;\"/></g><g class=\"point\"><path d=\"M347.64,432.27V407.11H370.63V432.27Z\" style=\"vector-effect: none; opacity: 1; stroke-width: 0.5px; fill: rgb(94, 255, 253); fill-opacity: 1; stroke: rgb(255, 255, 255); stroke-opacity: 1;\"/></g><g class=\"point\"><path d=\"M721.14,350.51V312.78H744.13V350.51Z\" style=\"vector-effect: none; opacity: 1; stroke-width: 0.5px; fill: rgb(94, 255, 253); fill-opacity: 1; stroke: rgb(255, 255, 255); stroke-opacity: 1;\"/></g></g></g><g class=\"trace bars\" style=\"opacity: 1;\"><g class=\"points\"><g class=\"point\"><path d=\"M2.87,407.11V381.96H25.86V407.11Z\" style=\"vector-effect: none; opacity: 1; stroke-width: 0.5px; fill: rgb(252, 114, 63); fill-opacity: 1; stroke: rgb(255, 255, 255); stroke-opacity: 1;\"/></g><g class=\"point\"><path d=\"M376.37,363.09V331.65H399.36V363.09Z\" style=\"vector-effect: none; opacity: 1; stroke-width: 0.5px; fill: rgb(252, 114, 63); fill-opacity: 1; stroke: rgb(255, 255, 255); stroke-opacity: 1;\"/></g><g class=\"point\"><path d=\"M31.6,413.4V407.11H54.59V413.4Z\" style=\"vector-effect: none; opacity: 1; stroke-width: 0.5px; fill: rgb(252, 114, 63); fill-opacity: 1; stroke: rgb(255, 255, 255); stroke-opacity: 1;\"/></g><g class=\"point\"><path d=\"M405.1,268.76V237.32H428.09V268.76Z\" style=\"vector-effect: none; opacity: 1; stroke-width: 0.5px; fill: rgb(252, 114, 63); fill-opacity: 1; stroke: rgb(255, 255, 255); stroke-opacity: 1;\"/></g><g class=\"point\"><path d=\"M60.33,350.51V275.05H83.32V350.51Z\" style=\"vector-effect: none; opacity: 1; stroke-width: 0.5px; fill: rgb(252, 114, 63); fill-opacity: 1; stroke: rgb(255, 255, 255); stroke-opacity: 1;\"/></g><g class=\"point\"><path d=\"M433.83,432.27V419.69H456.82V432.27Z\" style=\"vector-effect: none; opacity: 1; stroke-width: 0.5px; fill: rgb(252, 114, 63); fill-opacity: 1; stroke: rgb(255, 255, 255); stroke-opacity: 1;\"/></g><g class=\"point\"><path d=\"M89.07,400.82V350.51H112.05V400.82Z\" style=\"vector-effect: none; opacity: 1; stroke-width: 0.5px; fill: rgb(252, 114, 63); fill-opacity: 1; stroke: rgb(255, 255, 255); stroke-opacity: 1;\"/></g><g class=\"point\"><path d=\"M462.57,319.07V293.92H485.55V319.07Z\" style=\"vector-effect: none; opacity: 1; stroke-width: 0.5px; fill: rgb(252, 114, 63); fill-opacity: 1; stroke: rgb(255, 255, 255); stroke-opacity: 1;\"/></g><g class=\"point\"><path d=\"M117.8,413.4V381.96H140.78V413.4Z\" style=\"vector-effect: none; opacity: 1; stroke-width: 0.5px; fill: rgb(252, 114, 63); fill-opacity: 1; stroke: rgb(255, 255, 255); stroke-opacity: 1;\"/></g><g class=\"point\"><path d=\"M491.3,224.74V174.43H514.28V224.74Z\" style=\"vector-effect: none; opacity: 1; stroke-width: 0.5px; fill: rgb(252, 114, 63); fill-opacity: 1; stroke: rgb(255, 255, 255); stroke-opacity: 1;\"/></g><g class=\"point\"><path d=\"M146.53,425.98V413.4H169.51V425.98Z\" style=\"vector-effect: none; opacity: 1; stroke-width: 0.5px; fill: rgb(252, 114, 63); fill-opacity: 1; stroke: rgb(255, 255, 255); stroke-opacity: 1;\"/></g><g class=\"point\"><path d=\"M520.03,419.69V375.67H543.01V419.69Z\" style=\"vector-effect: none; opacity: 1; stroke-width: 0.5px; fill: rgb(252, 114, 63); fill-opacity: 1; stroke: rgb(255, 255, 255); stroke-opacity: 1;\"/></g><g class=\"point\"><path d=\"M175.26,369.38V249.89H198.24V369.38Z\" style=\"vector-effect: none; opacity: 1; stroke-width: 0.5px; fill: rgb(252, 114, 63); fill-opacity: 1; stroke: rgb(255, 255, 255); stroke-opacity: 1;\"/></g><g class=\"point\"><path d=\"M548.76,407.11V369.38H571.74V407.11Z\" style=\"vector-effect: none; opacity: 1; stroke-width: 0.5px; fill: rgb(252, 114, 63); fill-opacity: 1; stroke: rgb(255, 255, 255); stroke-opacity: 1;\"/></g><g class=\"point\"><path d=\"M203.99,363.09V344.23H226.97V363.09Z\" style=\"vector-effect: none; opacity: 1; stroke-width: 0.5px; fill: rgb(252, 114, 63); fill-opacity: 1; stroke: rgb(255, 255, 255); stroke-opacity: 1;\"/></g><g class=\"point\"><path d=\"M577.49,375.67V331.65H600.47V375.67Z\" style=\"vector-effect: none; opacity: 1; stroke-width: 0.5px; fill: rgb(252, 114, 63); fill-opacity: 1; stroke: rgb(255, 255, 255); stroke-opacity: 1;\"/></g><g class=\"point\"><path d=\"M232.72,363.09V312.78H255.7V363.09Z\" style=\"vector-effect: none; opacity: 1; stroke-width: 0.5px; fill: rgb(252, 114, 63); fill-opacity: 1; stroke: rgb(255, 255, 255); stroke-opacity: 1;\"/></g><g class=\"point\"><path d=\"M606.22,319.07V275.05H629.2V319.07Z\" style=\"vector-effect: none; opacity: 1; stroke-width: 0.5px; fill: rgb(252, 114, 63); fill-opacity: 1; stroke: rgb(255, 255, 255); stroke-opacity: 1;\"/></g><g class=\"point\"><path d=\"M261.45,407.11V394.54H284.43V407.11Z\" style=\"vector-effect: none; opacity: 1; stroke-width: 0.5px; fill: rgb(252, 114, 63); fill-opacity: 1; stroke: rgb(255, 255, 255); stroke-opacity: 1;\"/></g><g class=\"point\"><path d=\"M634.95,224.74V149.27H657.93V224.74Z\" style=\"vector-effect: none; opacity: 1; stroke-width: 0.5px; fill: rgb(252, 114, 63); fill-opacity: 1; stroke: rgb(255, 255, 255); stroke-opacity: 1;\"/></g><g class=\"point\"><path d=\"M290.18,407.11V275.05H313.17V407.11Z\" style=\"vector-effect: none; opacity: 1; stroke-width: 0.5px; fill: rgb(252, 114, 63); fill-opacity: 1; stroke: rgb(255, 255, 255); stroke-opacity: 1;\"/></g><g class=\"point\"><path d=\"M663.68,451.13V388.25H686.67V451.13Z\" style=\"vector-effect: none; opacity: 1; stroke-width: 0.5px; fill: rgb(252, 114, 63); fill-opacity: 1; stroke: rgb(255, 255, 255); stroke-opacity: 1;\"/></g><g class=\"point\"><path d=\"M318.91,400.82V350.51H341.9V400.82Z\" style=\"vector-effect: none; opacity: 1; stroke-width: 0.5px; fill: rgb(252, 114, 63); fill-opacity: 1; stroke: rgb(255, 255, 255); stroke-opacity: 1;\"/></g><g class=\"point\"><path d=\"M692.41,400.82V337.94H715.4V400.82Z\" style=\"vector-effect: none; opacity: 1; stroke-width: 0.5px; fill: rgb(252, 114, 63); fill-opacity: 1; stroke: rgb(255, 255, 255); stroke-opacity: 1;\"/></g><g class=\"point\"><path d=\"M347.64,407.11V369.38H370.63V407.11Z\" style=\"vector-effect: none; opacity: 1; stroke-width: 0.5px; fill: rgb(252, 114, 63); fill-opacity: 1; stroke: rgb(255, 255, 255); stroke-opacity: 1;\"/></g><g class=\"point\"><path d=\"M721.14,312.78V243.61H744.13V312.78Z\" style=\"vector-effect: none; opacity: 1; stroke-width: 0.5px; fill: rgb(252, 114, 63); fill-opacity: 1; stroke: rgb(255, 255, 255); stroke-opacity: 1;\"/></g></g></g><g class=\"trace bars\" style=\"opacity: 1;\"><g class=\"points\"><g class=\"point\"><path d=\"M2.87,381.96V350.51H25.86V381.96Z\" style=\"vector-effect: none; opacity: 1; stroke-width: 0.5px; fill: rgb(246, 73, 117); fill-opacity: 1; stroke: rgb(255, 255, 255); stroke-opacity: 1;\"/></g><g class=\"point\"><path d=\"M376.37,331.65V224.74H399.36V331.65Z\" style=\"vector-effect: none; opacity: 1; stroke-width: 0.5px; fill: rgb(246, 73, 117); fill-opacity: 1; stroke: rgb(255, 255, 255); stroke-opacity: 1;\"/></g><g class=\"point\"><path d=\"M31.6,407.11V356.8H54.59V407.11Z\" style=\"vector-effect: none; opacity: 1; stroke-width: 0.5px; fill: rgb(246, 73, 117); fill-opacity: 1; stroke: rgb(255, 255, 255); stroke-opacity: 1;\"/></g><g class=\"point\"><path d=\"M405.1,237.32V212.16H428.09V237.32Z\" style=\"vector-effect: none; opacity: 1; stroke-width: 0.5px; fill: rgb(246, 73, 117); fill-opacity: 1; stroke: rgb(255, 255, 255); stroke-opacity: 1;\"/></g><g class=\"point\"><path d=\"M60.33,275.05V155.56H83.32V275.05Z\" style=\"vector-effect: none; opacity: 1; stroke-width: 0.5px; fill: rgb(246, 73, 117); fill-opacity: 1; stroke: rgb(255, 255, 255); stroke-opacity: 1;\"/></g><g class=\"point\"><path d=\"M433.83,419.69V400.82H456.82V419.69Z\" style=\"vector-effect: none; opacity: 1; stroke-width: 0.5px; fill: rgb(246, 73, 117); fill-opacity: 1; stroke: rgb(255, 255, 255); stroke-opacity: 1;\"/></g><g class=\"point\"><path d=\"M89.07,350.51V331.65H112.05V350.51Z\" style=\"vector-effect: none; opacity: 1; stroke-width: 0.5px; fill: rgb(246, 73, 117); fill-opacity: 1; stroke: rgb(255, 255, 255); stroke-opacity: 1;\"/></g><g class=\"point\"><path d=\"M462.57,293.92V237.32H485.55V293.92Z\" style=\"vector-effect: none; opacity: 1; stroke-width: 0.5px; fill: rgb(246, 73, 117); fill-opacity: 1; stroke: rgb(255, 255, 255); stroke-opacity: 1;\"/></g><g class=\"point\"><path d=\"M117.8,381.96V337.94H140.78V381.96Z\" style=\"vector-effect: none; opacity: 1; stroke-width: 0.5px; fill: rgb(246, 73, 117); fill-opacity: 1; stroke: rgb(255, 255, 255); stroke-opacity: 1;\"/></g><g class=\"point\"><path d=\"M491.3,174.43V86.39H514.28V174.43Z\" style=\"vector-effect: none; opacity: 1; stroke-width: 0.5px; fill: rgb(246, 73, 117); fill-opacity: 1; stroke: rgb(255, 255, 255); stroke-opacity: 1;\"/></g><g class=\"point\"><path d=\"M146.53,413.4V337.94H169.51V413.4Z\" style=\"vector-effect: none; opacity: 1; stroke-width: 0.5px; fill: rgb(246, 73, 117); fill-opacity: 1; stroke: rgb(255, 255, 255); stroke-opacity: 1;\"/></g><g class=\"point\"><path d=\"M520.03,375.67V319.07H543.01V375.67Z\" style=\"vector-effect: none; opacity: 1; stroke-width: 0.5px; fill: rgb(246, 73, 117); fill-opacity: 1; stroke: rgb(255, 255, 255); stroke-opacity: 1;\"/></g><g class=\"point\"><path d=\"M175.26,249.89V105.25H198.24V249.89Z\" style=\"vector-effect: none; opacity: 1; stroke-width: 0.5px; fill: rgb(246, 73, 117); fill-opacity: 1; stroke: rgb(255, 255, 255); stroke-opacity: 1;\"/></g><g class=\"point\"><path d=\"M548.76,369.38V300.2H571.74V369.38Z\" style=\"vector-effect: none; opacity: 1; stroke-width: 0.5px; fill: rgb(246, 73, 117); fill-opacity: 1; stroke: rgb(255, 255, 255); stroke-opacity: 1;\"/></g><g class=\"point\"><path d=\"M203.99,344.23V268.76H226.97V344.23Z\" style=\"vector-effect: none; opacity: 1; stroke-width: 0.5px; fill: rgb(246, 73, 117); fill-opacity: 1; stroke: rgb(255, 255, 255); stroke-opacity: 1;\"/></g><g class=\"point\"><path d=\"M577.49,331.65V275.05H600.47V331.65Z\" style=\"vector-effect: none; opacity: 1; stroke-width: 0.5px; fill: rgb(246, 73, 117); fill-opacity: 1; stroke: rgb(255, 255, 255); stroke-opacity: 1;\"/></g><g class=\"point\"><path d=\"M232.72,312.78V268.76H255.7V312.78Z\" style=\"vector-effect: none; opacity: 1; stroke-width: 0.5px; fill: rgb(246, 73, 117); fill-opacity: 1; stroke: rgb(255, 255, 255); stroke-opacity: 1;\"/></g><g class=\"point\"><path d=\"M606.22,275.05V249.89H629.2V275.05Z\" style=\"vector-effect: none; opacity: 1; stroke-width: 0.5px; fill: rgb(246, 73, 117); fill-opacity: 1; stroke: rgb(255, 255, 255); stroke-opacity: 1;\"/></g><g class=\"point\"><path d=\"M261.45,394.54V369.38H284.43V394.54Z\" style=\"vector-effect: none; opacity: 1; stroke-width: 0.5px; fill: rgb(246, 73, 117); fill-opacity: 1; stroke: rgb(255, 255, 255); stroke-opacity: 1;\"/></g><g class=\"point\"><path d=\"M634.95,149.27V105.25H657.93V149.27Z\" style=\"vector-effect: none; opacity: 1; stroke-width: 0.5px; fill: rgb(246, 73, 117); fill-opacity: 1; stroke: rgb(255, 255, 255); stroke-opacity: 1;\"/></g><g class=\"point\"><path d=\"M290.18,275.05V199.58H313.17V275.05Z\" style=\"vector-effect: none; opacity: 1; stroke-width: 0.5px; fill: rgb(246, 73, 117); fill-opacity: 1; stroke: rgb(255, 255, 255); stroke-opacity: 1;\"/></g><g class=\"point\"><path d=\"M663.68,388.25V337.94H686.67V388.25Z\" style=\"vector-effect: none; opacity: 1; stroke-width: 0.5px; fill: rgb(246, 73, 117); fill-opacity: 1; stroke: rgb(255, 255, 255); stroke-opacity: 1;\"/></g><g class=\"point\"><path d=\"M318.91,350.51V281.34H341.9V350.51Z\" style=\"vector-effect: none; opacity: 1; stroke-width: 0.5px; fill: rgb(246, 73, 117); fill-opacity: 1; stroke: rgb(255, 255, 255); stroke-opacity: 1;\"/></g><g class=\"point\"><path d=\"M692.41,337.94V256.18H715.4V337.94Z\" style=\"vector-effect: none; opacity: 1; stroke-width: 0.5px; fill: rgb(246, 73, 117); fill-opacity: 1; stroke: rgb(255, 255, 255); stroke-opacity: 1;\"/></g><g class=\"point\"><path d=\"M347.64,369.38V344.23H370.63V369.38Z\" style=\"vector-effect: none; opacity: 1; stroke-width: 0.5px; fill: rgb(246, 73, 117); fill-opacity: 1; stroke: rgb(255, 255, 255); stroke-opacity: 1;\"/></g><g class=\"point\"><path d=\"M721.14,243.61V199.58H744.13V243.61Z\" style=\"vector-effect: none; opacity: 1; stroke-width: 0.5px; fill: rgb(246, 73, 117); fill-opacity: 1; stroke: rgb(255, 255, 255); stroke-opacity: 1;\"/></g></g></g><g class=\"trace bars\" style=\"opacity: 1;\"><g class=\"points\"><g class=\"point\"><path d=\"M2.87,350.51V344.23H25.86V350.51Z\" style=\"vector-effect: none; opacity: 1; stroke-width: 0.5px; fill: rgb(251, 207, 120); fill-opacity: 1; stroke: rgb(255, 255, 255); stroke-opacity: 1;\"/></g><g class=\"point\"><path d=\"M376.37,224.74V155.56H399.36V224.74Z\" style=\"vector-effect: none; opacity: 1; stroke-width: 0.5px; fill: rgb(251, 207, 120); fill-opacity: 1; stroke: rgb(255, 255, 255); stroke-opacity: 1;\"/></g><g class=\"point\"><path d=\"M31.6,356.8V344.23H54.59V356.8Z\" style=\"vector-effect: none; opacity: 1; stroke-width: 0.5px; fill: rgb(251, 207, 120); fill-opacity: 1; stroke: rgb(255, 255, 255); stroke-opacity: 1;\"/></g><g class=\"point\"><path d=\"M405.1,212.16V155.56H428.09V212.16Z\" style=\"vector-effect: none; opacity: 1; stroke-width: 0.5px; fill: rgb(251, 207, 120); fill-opacity: 1; stroke: rgb(255, 255, 255); stroke-opacity: 1;\"/></g><g class=\"point\"><path d=\"M60.33,155.56V86.39H83.32V155.56Z\" style=\"vector-effect: none; opacity: 1; stroke-width: 0.5px; fill: rgb(251, 207, 120); fill-opacity: 1; stroke: rgb(255, 255, 255); stroke-opacity: 1;\"/></g><g class=\"point\"><path d=\"M433.83,400.82V375.67H456.82V400.82Z\" style=\"vector-effect: none; opacity: 1; stroke-width: 0.5px; fill: rgb(251, 207, 120); fill-opacity: 1; stroke: rgb(255, 255, 255); stroke-opacity: 1;\"/></g><g class=\"point\"><path d=\"M89.07,331.65V325.36H112.05V331.65Z\" style=\"vector-effect: none; opacity: 1; stroke-width: 0.5px; fill: rgb(251, 207, 120); fill-opacity: 1; stroke: rgb(255, 255, 255); stroke-opacity: 1;\"/></g><g class=\"point\"><path d=\"M462.57,237.32V180.72H485.55V237.32Z\" style=\"vector-effect: none; opacity: 1; stroke-width: 0.5px; fill: rgb(251, 207, 120); fill-opacity: 1; stroke: rgb(255, 255, 255); stroke-opacity: 1;\"/></g><g class=\"point\"><path d=\"M117.8,337.94V300.2H140.78V337.94Z\" style=\"vector-effect: none; opacity: 1; stroke-width: 0.5px; fill: rgb(251, 207, 120); fill-opacity: 1; stroke: rgb(255, 255, 255); stroke-opacity: 1;\"/></g><g class=\"point\"><path d=\"M491.3,86.39V54.94H514.28V86.39Z\" style=\"vector-effect: none; opacity: 1; stroke-width: 0.5px; fill: rgb(251, 207, 120); fill-opacity: 1; stroke: rgb(255, 255, 255); stroke-opacity: 1;\"/></g><g class=\"point\"><path d=\"M146.53,337.94V312.78H169.51V337.94Z\" style=\"vector-effect: none; opacity: 1; stroke-width: 0.5px; fill: rgb(251, 207, 120); fill-opacity: 1; stroke: rgb(255, 255, 255); stroke-opacity: 1;\"/></g><g class=\"point\"><path d=\"M520.03,319.07V293.92H543.01V319.07Z\" style=\"vector-effect: none; opacity: 1; stroke-width: 0.5px; fill: rgb(251, 207, 120); fill-opacity: 1; stroke: rgb(255, 255, 255); stroke-opacity: 1;\"/></g><g class=\"point\"><path d=\"M175.26,105.25V23.5H198.24V105.25Z\" style=\"vector-effect: none; opacity: 1; stroke-width: 0.5px; fill: rgb(251, 207, 120); fill-opacity: 1; stroke: rgb(255, 255, 255); stroke-opacity: 1;\"/></g><g class=\"point\"><path d=\"M548.76,300.2V293.92H571.74V300.2Z\" style=\"vector-effect: none; opacity: 1; stroke-width: 0.5px; fill: rgb(251, 207, 120); fill-opacity: 1; stroke: rgb(255, 255, 255); stroke-opacity: 1;\"/></g><g class=\"point\"><path d=\"M203.99,268.76V224.74H226.97V268.76Z\" style=\"vector-effect: none; opacity: 1; stroke-width: 0.5px; fill: rgb(251, 207, 120); fill-opacity: 1; stroke: rgb(255, 255, 255); stroke-opacity: 1;\"/></g><g class=\"point\"><path d=\"M577.49,275.05V231.03H600.47V275.05Z\" style=\"vector-effect: none; opacity: 1; stroke-width: 0.5px; fill: rgb(251, 207, 120); fill-opacity: 1; stroke: rgb(255, 255, 255); stroke-opacity: 1;\"/></g><g class=\"point\"><path d=\"M232.72,268.76V243.61H255.7V268.76Z\" style=\"vector-effect: none; opacity: 1; stroke-width: 0.5px; fill: rgb(251, 207, 120); fill-opacity: 1; stroke: rgb(255, 255, 255); stroke-opacity: 1;\"/></g><g class=\"point\"><path d=\"M606.22,249.89V193.3H629.2V249.89Z\" style=\"vector-effect: none; opacity: 1; stroke-width: 0.5px; fill: rgb(251, 207, 120); fill-opacity: 1; stroke: rgb(255, 255, 255); stroke-opacity: 1;\"/></g><g class=\"point\"><path d=\"M261.45,369.38V344.23H284.43V369.38Z\" style=\"vector-effect: none; opacity: 1; stroke-width: 0.5px; fill: rgb(251, 207, 120); fill-opacity: 1; stroke: rgb(255, 255, 255); stroke-opacity: 1;\"/></g><g class=\"point\"><path d=\"M634.95,105.25V54.94H657.93V105.25Z\" style=\"vector-effect: none; opacity: 1; stroke-width: 0.5px; fill: rgb(251, 207, 120); fill-opacity: 1; stroke: rgb(255, 255, 255); stroke-opacity: 1;\"/></g><g class=\"point\"><path d=\"M290.18,199.58V142.99H313.17V199.58Z\" style=\"vector-effect: none; opacity: 1; stroke-width: 0.5px; fill: rgb(251, 207, 120); fill-opacity: 1; stroke: rgb(255, 255, 255); stroke-opacity: 1;\"/></g><g class=\"point\"><path d=\"M663.68,337.94V300.2H686.67V337.94Z\" style=\"vector-effect: none; opacity: 1; stroke-width: 0.5px; fill: rgb(251, 207, 120); fill-opacity: 1; stroke: rgb(255, 255, 255); stroke-opacity: 1;\"/></g><g class=\"point\"><path d=\"M318.91,281.34V237.32H341.9V281.34Z\" style=\"vector-effect: none; opacity: 1; stroke-width: 0.5px; fill: rgb(251, 207, 120); fill-opacity: 1; stroke: rgb(255, 255, 255); stroke-opacity: 1;\"/></g><g class=\"point\"><path d=\"M692.41,256.18V237.32H715.4V256.18Z\" style=\"vector-effect: none; opacity: 1; stroke-width: 0.5px; fill: rgb(251, 207, 120); fill-opacity: 1; stroke: rgb(255, 255, 255); stroke-opacity: 1;\"/></g><g class=\"point\"><path d=\"M347.64,344.23V319.07H370.63V344.23Z\" style=\"vector-effect: none; opacity: 1; stroke-width: 0.5px; fill: rgb(251, 207, 120); fill-opacity: 1; stroke: rgb(255, 255, 255); stroke-opacity: 1;\"/></g><g class=\"point\"><path d=\"M721.14,199.58V136.7H744.13V199.58Z\" style=\"vector-effect: none; opacity: 1; stroke-width: 0.5px; fill: rgb(251, 207, 120); fill-opacity: 1; stroke: rgb(255, 255, 255); stroke-opacity: 1;\"/></g></g></g></g></g></g><path class=\"xlines-above crisp\" d=\"M32,539.5H780\" style=\"fill: none; stroke-width: 1px; stroke: rgb(36, 36, 36); stroke-opacity: 1;\"/><path class=\"ylines-above crisp\" d=\"M32.5,69V539\" style=\"fill: none; stroke-width: 1px; stroke: rgb(36, 36, 36); stroke-opacity: 1;\"/><g class=\"overlines-above\"/><g class=\"xaxislayer-above\"><path class=\"xdivider crisp\" transform=\"translate(780,0)\" d=\"M0,540v149.03125\" style=\"stroke: rgb(68, 68, 68); stroke-opacity: 1; stroke-width: 1px;\"/><path class=\"xdivider crisp\" transform=\"translate(406.5,0)\" d=\"M0,540v149.03125\" style=\"stroke: rgb(68, 68, 68); stroke-opacity: 1; stroke-width: 1px;\"/><path class=\"xdivider crisp\" transform=\"translate(33,0)\" d=\"M0,540v149.03125\" style=\"stroke: rgb(68, 68, 68); stroke-opacity: 1; stroke-width: 1px;\"/><path class=\"xtick ticks crisp\" d=\"\" transform=\"translate(33,0)\" style=\"stroke: rgb(68, 68, 68); stroke-opacity: 1; stroke-width: 1px;\"/><path class=\"xtick ticks crisp\" d=\"M0,540v5\" transform=\"translate(61.730000000000004,0)\" style=\"stroke: rgb(68, 68, 68); stroke-opacity: 1; stroke-width: 1px;\"/><path class=\"xtick ticks crisp\" d=\"M0,540v5\" transform=\"translate(90.46000000000001,0)\" style=\"stroke: rgb(68, 68, 68); stroke-opacity: 1; stroke-width: 1px;\"/><path class=\"xtick ticks crisp\" d=\"M0,540v5\" transform=\"translate(119.19,0)\" style=\"stroke: rgb(68, 68, 68); stroke-opacity: 1; stroke-width: 1px;\"/><path class=\"xtick ticks crisp\" d=\"M0,540v5\" transform=\"translate(147.92000000000002,0)\" style=\"stroke: rgb(68, 68, 68); stroke-opacity: 1; stroke-width: 1px;\"/><path class=\"xtick ticks crisp\" d=\"M0,540v5\" transform=\"translate(176.65,0)\" style=\"stroke: rgb(68, 68, 68); stroke-opacity: 1; stroke-width: 1px;\"/><path class=\"xtick ticks crisp\" d=\"M0,540v5\" transform=\"translate(205.38,0)\" style=\"stroke: rgb(68, 68, 68); stroke-opacity: 1; stroke-width: 1px;\"/><path class=\"xtick ticks crisp\" d=\"M0,540v5\" transform=\"translate(234.12,0)\" style=\"stroke: rgb(68, 68, 68); stroke-opacity: 1; stroke-width: 1px;\"/><path class=\"xtick ticks crisp\" d=\"M0,540v5\" transform=\"translate(262.85,0)\" style=\"stroke: rgb(68, 68, 68); stroke-opacity: 1; stroke-width: 1px;\"/><path class=\"xtick ticks crisp\" d=\"M0,540v5\" transform=\"translate(291.58,0)\" style=\"stroke: rgb(68, 68, 68); stroke-opacity: 1; stroke-width: 1px;\"/><path class=\"xtick ticks crisp\" d=\"M0,540v5\" transform=\"translate(320.31,0)\" style=\"stroke: rgb(68, 68, 68); stroke-opacity: 1; stroke-width: 1px;\"/><path class=\"xtick ticks crisp\" d=\"M0,540v5\" transform=\"translate(349.04,0)\" style=\"stroke: rgb(68, 68, 68); stroke-opacity: 1; stroke-width: 1px;\"/><path class=\"xtick ticks crisp\" d=\"M0,540v5\" transform=\"translate(377.77,0)\" style=\"stroke: rgb(68, 68, 68); stroke-opacity: 1; stroke-width: 1px;\"/><path class=\"xtick ticks crisp\" d=\"\" transform=\"translate(406.5,0)\" style=\"stroke: rgb(68, 68, 68); stroke-opacity: 1; stroke-width: 1px;\"/><path class=\"xtick ticks crisp\" d=\"M0,540v5\" transform=\"translate(435.23,0)\" style=\"stroke: rgb(68, 68, 68); stroke-opacity: 1; stroke-width: 1px;\"/><path class=\"xtick ticks crisp\" d=\"M0,540v5\" transform=\"translate(463.96,0)\" style=\"stroke: rgb(68, 68, 68); stroke-opacity: 1; stroke-width: 1px;\"/><path class=\"xtick ticks crisp\" d=\"M0,540v5\" transform=\"translate(492.69,0)\" style=\"stroke: rgb(68, 68, 68); stroke-opacity: 1; stroke-width: 1px;\"/><path class=\"xtick ticks crisp\" d=\"M0,540v5\" transform=\"translate(521.4200000000001,0)\" style=\"stroke: rgb(68, 68, 68); stroke-opacity: 1; stroke-width: 1px;\"/><path class=\"xtick ticks crisp\" d=\"M0,540v5\" transform=\"translate(550.15,0)\" style=\"stroke: rgb(68, 68, 68); stroke-opacity: 1; stroke-width: 1px;\"/><path class=\"xtick ticks crisp\" d=\"M0,540v5\" transform=\"translate(578.88,0)\" style=\"stroke: rgb(68, 68, 68); stroke-opacity: 1; stroke-width: 1px;\"/><path class=\"xtick ticks crisp\" d=\"M0,540v5\" transform=\"translate(607.62,0)\" style=\"stroke: rgb(68, 68, 68); stroke-opacity: 1; stroke-width: 1px;\"/><path class=\"xtick ticks crisp\" d=\"M0,540v5\" transform=\"translate(636.35,0)\" style=\"stroke: rgb(68, 68, 68); stroke-opacity: 1; stroke-width: 1px;\"/><path class=\"xtick ticks crisp\" d=\"M0,540v5\" transform=\"translate(665.08,0)\" style=\"stroke: rgb(68, 68, 68); stroke-opacity: 1; stroke-width: 1px;\"/><path class=\"xtick ticks crisp\" d=\"M0,540v5\" transform=\"translate(693.81,0)\" style=\"stroke: rgb(68, 68, 68); stroke-opacity: 1; stroke-width: 1px;\"/><path class=\"xtick ticks crisp\" d=\"M0,540v5\" transform=\"translate(722.54,0)\" style=\"stroke: rgb(68, 68, 68); stroke-opacity: 1; stroke-width: 1px;\"/><path class=\"xtick ticks crisp\" d=\"M0,540v5\" transform=\"translate(751.27,0)\" style=\"stroke: rgb(68, 68, 68); stroke-opacity: 1; stroke-width: 1px;\"/><path class=\"xtick ticks crisp\" d=\"\" transform=\"translate(780,0)\" style=\"stroke: rgb(68, 68, 68); stroke-opacity: 1; stroke-width: 1px;\"/><g class=\"xtick\"><text text-anchor=\"end\" x=\"-1.75\" y=\"549\" transform=\"translate(47.37,0) rotate(-90,-1.75,544)\" style=\"font-family: 'Open Sans', verdana, arial, sans-serif; font-size: 10px; fill: rgb(36, 36, 36); fill-opacity: 1; white-space: pre; opacity: 1;\">Adversarial Dishonesty</text></g><g class=\"xtick\"><text text-anchor=\"end\" x=\"-1.75\" y=\"549\" transform=\"translate(76.1,0) rotate(-90,-1.75,544)\" style=\"font-family: 'Open Sans', verdana, arial, sans-serif; font-size: 10px; fill: rgb(36, 36, 36); fill-opacity: 1; white-space: pre; opacity: 1;\">Adversarial Harmfulness</text></g><g class=\"xtick\"><text text-anchor=\"end\" x=\"-1.75\" y=\"549\" transform=\"translate(104.83,0) rotate(-90,-1.75,544)\" style=\"font-family: 'Open Sans', verdana, arial, sans-serif; font-size: 10px; fill: rgb(36, 36, 36); fill-opacity: 1; white-space: pre; opacity: 1;\">Brainstorming</text></g><g class=\"xtick\"><text text-anchor=\"end\" x=\"-1.75\" y=\"549\" transform=\"translate(133.56,0) rotate(-90,-1.75,544)\" style=\"font-family: 'Open Sans', verdana, arial, sans-serif; font-size: 10px; fill: rgb(36, 36, 36); fill-opacity: 1; white-space: pre; opacity: 1;\">Classification</text></g><g class=\"xtick\"><text text-anchor=\"end\" x=\"-1.75\" y=\"549\" transform=\"translate(162.29,0) rotate(-90,-1.75,544)\" style=\"font-family: 'Open Sans', verdana, arial, sans-serif; font-size: 10px; fill: rgb(36, 36, 36); fill-opacity: 1; white-space: pre; opacity: 1;\">Closed QA</text></g><g class=\"xtick\"><text text-anchor=\"end\" x=\"-1.75\" y=\"549\" transform=\"translate(191.02,0) rotate(-90,-1.75,544)\" style=\"font-family: 'Open Sans', verdana, arial, sans-serif; font-size: 10px; fill: rgb(36, 36, 36); fill-opacity: 1; white-space: pre; opacity: 1;\">Coding</text></g><g class=\"xtick\"><text text-anchor=\"end\" x=\"-1.75\" y=\"549\" transform=\"translate(219.75,0) rotate(-90,-1.75,544)\" style=\"font-family: 'Open Sans', verdana, arial, sans-serif; font-size: 10px; fill: rgb(36, 36, 36); fill-opacity: 1; white-space: pre; opacity: 1;\">Creative Writing</text></g><g class=\"xtick\"><text text-anchor=\"end\" x=\"-1.75\" y=\"549\" transform=\"translate(248.48,0) rotate(-90,-1.75,544)\" style=\"font-family: 'Open Sans', verdana, arial, sans-serif; font-size: 10px; fill: rgb(36, 36, 36); fill-opacity: 1; white-space: pre; opacity: 1;\">Extraction</text></g><g class=\"xtick\"><text text-anchor=\"end\" x=\"-1.75\" y=\"549\" transform=\"translate(277.21000000000004,0) rotate(-90,-1.75,544)\" style=\"font-family: 'Open Sans', verdana, arial, sans-serif; font-size: 10px; fill: rgb(36, 36, 36); fill-opacity: 1; white-space: pre; opacity: 1;\">Mathematical Reasoning</text></g><g class=\"xtick\"><text text-anchor=\"end\" x=\"-1.75\" y=\"549\" transform=\"translate(305.94,0) rotate(-90,-1.75,544)\" style=\"font-family: 'Open Sans', verdana, arial, sans-serif; font-size: 10px; fill: rgb(36, 36, 36); fill-opacity: 1; white-space: pre; opacity: 1;\">Open QA</text></g><g class=\"xtick\"><text text-anchor=\"end\" x=\"-1.75\" y=\"549\" transform=\"translate(334.67,0) rotate(-90,-1.75,544)\" style=\"font-family: 'Open Sans', verdana, arial, sans-serif; font-size: 10px; fill: rgb(36, 36, 36); fill-opacity: 1; white-space: pre; opacity: 1;\">Poetry</text></g><g class=\"xtick\"><text text-anchor=\"end\" x=\"-1.75\" y=\"549\" transform=\"translate(363.4,0) rotate(-90,-1.75,544)\" style=\"font-family: 'Open Sans', verdana, arial, sans-serif; font-size: 10px; fill: rgb(36, 36, 36); fill-opacity: 1; white-space: pre; opacity: 1;\">Rewriting</text></g><g class=\"xtick\"><text text-anchor=\"end\" x=\"-1.75\" y=\"549\" transform=\"translate(392.13,0) rotate(-90,-1.75,544)\" style=\"font-family: 'Open Sans', verdana, arial, sans-serif; font-size: 10px; fill: rgb(36, 36, 36); fill-opacity: 1; white-space: pre; opacity: 1;\">Summarization</text></g><g class=\"xtick\"><text text-anchor=\"end\" x=\"-1.75\" y=\"549\" transform=\"translate(420.87,0) rotate(-90,-1.75,544)\" style=\"font-family: 'Open Sans', verdana, arial, sans-serif; font-size: 10px; fill: rgb(36, 36, 36); fill-opacity: 1; white-space: pre; opacity: 1;\">Adversarial Dishonesty</text></g><g class=\"xtick\"><text text-anchor=\"end\" x=\"-1.75\" y=\"549\" transform=\"translate(449.6,0) rotate(-90,-1.75,544)\" style=\"font-family: 'Open Sans', verdana, arial, sans-serif; font-size: 10px; fill: rgb(36, 36, 36); fill-opacity: 1; white-space: pre; opacity: 1;\">Adversarial Harmfulness</text></g><g class=\"xtick\"><text text-anchor=\"end\" x=\"-1.75\" y=\"549\" transform=\"translate(478.33,0) rotate(-90,-1.75,544)\" style=\"font-family: 'Open Sans', verdana, arial, sans-serif; font-size: 10px; fill: rgb(36, 36, 36); fill-opacity: 1; white-space: pre; opacity: 1;\">Brainstorming</text></g><g class=\"xtick\"><text text-anchor=\"end\" x=\"-1.75\" y=\"549\" transform=\"translate(507.06,0) rotate(-90,-1.75,544)\" style=\"font-family: 'Open Sans', verdana, arial, sans-serif; font-size: 10px; fill: rgb(36, 36, 36); fill-opacity: 1; white-space: pre; opacity: 1;\">Classification</text></g><g class=\"xtick\"><text text-anchor=\"end\" x=\"-1.75\" y=\"549\" transform=\"translate(535.79,0) rotate(-90,-1.75,544)\" style=\"font-family: 'Open Sans', verdana, arial, sans-serif; font-size: 10px; fill: rgb(36, 36, 36); fill-opacity: 1; white-space: pre; opacity: 1;\">Closed QA</text></g><g class=\"xtick\"><text text-anchor=\"end\" x=\"-1.75\" y=\"549\" transform=\"translate(564.52,0) rotate(-90,-1.75,544)\" style=\"font-family: 'Open Sans', verdana, arial, sans-serif; font-size: 10px; fill: rgb(36, 36, 36); fill-opacity: 1; white-space: pre; opacity: 1;\">Coding</text></g><g class=\"xtick\"><text text-anchor=\"end\" x=\"-1.75\" y=\"549\" transform=\"translate(593.25,0) rotate(-90,-1.75,544)\" style=\"font-family: 'Open Sans', verdana, arial, sans-serif; font-size: 10px; fill: rgb(36, 36, 36); fill-opacity: 1; white-space: pre; opacity: 1;\">Creative Writing</text></g><g class=\"xtick\"><text text-anchor=\"end\" x=\"-1.75\" y=\"549\" transform=\"translate(621.98,0) rotate(-90,-1.75,544)\" style=\"font-family: 'Open Sans', verdana, arial, sans-serif; font-size: 10px; fill: rgb(36, 36, 36); fill-opacity: 1; white-space: pre; opacity: 1;\">Extraction</text></g><g class=\"xtick\"><text text-anchor=\"end\" x=\"-1.75\" y=\"549\" transform=\"translate(650.71,0) rotate(-90,-1.75,544)\" style=\"font-family: 'Open Sans', verdana, arial, sans-serif; font-size: 10px; fill: rgb(36, 36, 36); fill-opacity: 1; white-space: pre; opacity: 1;\">Mathematical Reasoning</text></g><g class=\"xtick\"><text text-anchor=\"end\" x=\"-1.75\" y=\"549\" transform=\"translate(679.44,0) rotate(-90,-1.75,544)\" style=\"font-family: 'Open Sans', verdana, arial, sans-serif; font-size: 10px; fill: rgb(36, 36, 36); fill-opacity: 1; white-space: pre; opacity: 1;\">Open QA</text></g><g class=\"xtick\"><text text-anchor=\"end\" x=\"-1.75\" y=\"549\" transform=\"translate(708.17,0) rotate(-90,-1.75,544)\" style=\"font-family: 'Open Sans', verdana, arial, sans-serif; font-size: 10px; fill: rgb(36, 36, 36); fill-opacity: 1; white-space: pre; opacity: 1;\">Poetry</text></g><g class=\"xtick\"><text text-anchor=\"end\" x=\"-1.75\" y=\"549\" transform=\"translate(736.9,0) rotate(-90,-1.75,544)\" style=\"font-family: 'Open Sans', verdana, arial, sans-serif; font-size: 10px; fill: rgb(36, 36, 36); fill-opacity: 1; white-space: pre; opacity: 1;\">Rewriting</text></g><g class=\"xtick\"><text text-anchor=\"end\" x=\"-1.75\" y=\"549\" transform=\"translate(765.63,0) rotate(-90,-1.75,544)\" style=\"font-family: 'Open Sans', verdana, arial, sans-serif; font-size: 10px; fill: rgb(36, 36, 36); fill-opacity: 1; white-space: pre; opacity: 1;\">Summarization</text></g><g class=\"xtick2\"><text text-anchor=\"middle\" x=\"-1.75\" y=\"686.515625\" transform=\"translate(219.75,0)\" style=\"font-family: 'Open Sans', verdana, arial, sans-serif; font-size: 10px; fill: rgb(36, 36, 36); fill-opacity: 1; white-space: pre; opacity: 1;\">Hyperspecific</text></g><g class=\"xtick2\"><text text-anchor=\"middle\" x=\"-1.75\" y=\"686.515625\" transform=\"translate(593.25,0)\" style=\"font-family: 'Open Sans', verdana, arial, sans-serif; font-size: 10px; fill: rgb(36, 36, 36); fill-opacity: 1; white-space: pre; opacity: 1;\">Simple</text></g></g><g class=\"yaxislayer-above\"><path class=\"ytick ticks crisp\" d=\"M32,0h-5\" transform=\"translate(0,539)\" style=\"stroke: rgb(68, 68, 68); stroke-opacity: 1; stroke-width: 1px;\"/><path class=\"ytick ticks crisp\" d=\"M32,0h-5\" transform=\"translate(0,476.11)\" style=\"stroke: rgb(68, 68, 68); stroke-opacity: 1; stroke-width: 1px;\"/><path class=\"ytick ticks crisp\" d=\"M32,0h-5\" transform=\"translate(0,413.23)\" style=\"stroke: rgb(68, 68, 68); stroke-opacity: 1; stroke-width: 1px;\"/><path class=\"ytick ticks crisp\" d=\"M32,0h-5\" transform=\"translate(0,350.34)\" style=\"stroke: rgb(68, 68, 68); stroke-opacity: 1; stroke-width: 1px;\"/><path class=\"ytick ticks crisp\" d=\"M32,0h-5\" transform=\"translate(0,287.45)\" style=\"stroke: rgb(68, 68, 68); stroke-opacity: 1; stroke-width: 1px;\"/><path class=\"ytick ticks crisp\" d=\"M32,0h-5\" transform=\"translate(0,224.56)\" style=\"stroke: rgb(68, 68, 68); stroke-opacity: 1; stroke-width: 1px;\"/><path class=\"ytick ticks crisp\" d=\"M32,0h-5\" transform=\"translate(0,161.68)\" style=\"stroke: rgb(68, 68, 68); stroke-opacity: 1; stroke-width: 1px;\"/><path class=\"ytick ticks crisp\" d=\"M32,0h-5\" transform=\"translate(0,98.78999999999999)\" style=\"stroke: rgb(68, 68, 68); stroke-opacity: 1; stroke-width: 1px;\"/><g class=\"ytick\"><text text-anchor=\"end\" x=\"25\" y=\"3.5\" transform=\"translate(0,539)\" style=\"font-family: 'Open Sans', verdana, arial, sans-serif; font-size: 10px; fill: rgb(36, 36, 36); fill-opacity: 1; white-space: pre; opacity: 1;\">0</text></g><g class=\"ytick\"><text text-anchor=\"end\" x=\"25\" y=\"3.5\" style=\"font-family: 'Open Sans', verdana, arial, sans-serif; font-size: 10px; fill: rgb(36, 36, 36); fill-opacity: 1; white-space: pre; opacity: 1;\" transform=\"translate(0,476.11)\">10</text></g><g class=\"ytick\"><text text-anchor=\"end\" x=\"25\" y=\"3.5\" style=\"font-family: 'Open Sans', verdana, arial, sans-serif; font-size: 10px; fill: rgb(36, 36, 36); fill-opacity: 1; white-space: pre; opacity: 1;\" transform=\"translate(0,413.23)\">20</text></g><g class=\"ytick\"><text text-anchor=\"end\" x=\"25\" y=\"3.5\" style=\"font-family: 'Open Sans', verdana, arial, sans-serif; font-size: 10px; fill: rgb(36, 36, 36); fill-opacity: 1; white-space: pre; opacity: 1;\" transform=\"translate(0,350.34)\">30</text></g><g class=\"ytick\"><text text-anchor=\"end\" x=\"25\" y=\"3.5\" style=\"font-family: 'Open Sans', verdana, arial, sans-serif; font-size: 10px; fill: rgb(36, 36, 36); fill-opacity: 1; white-space: pre; opacity: 1;\" transform=\"translate(0,287.45)\">40</text></g><g class=\"ytick\"><text text-anchor=\"end\" x=\"25\" y=\"3.5\" style=\"font-family: 'Open Sans', verdana, arial, sans-serif; font-size: 10px; fill: rgb(36, 36, 36); fill-opacity: 1; white-space: pre; opacity: 1;\" transform=\"translate(0,224.56)\">50</text></g><g class=\"ytick\"><text text-anchor=\"end\" x=\"25\" y=\"3.5\" style=\"font-family: 'Open Sans', verdana, arial, sans-serif; font-size: 10px; fill: rgb(36, 36, 36); fill-opacity: 1; white-space: pre; opacity: 1;\" transform=\"translate(0,161.68)\">60</text></g><g class=\"ytick\"><text text-anchor=\"end\" x=\"25\" y=\"3.5\" style=\"font-family: 'Open Sans', verdana, arial, sans-serif; font-size: 10px; fill: rgb(36, 36, 36); fill-opacity: 1; white-space: pre; opacity: 1;\" transform=\"translate(0,98.78999999999999)\">70</text></g></g><g class=\"overaxes-above\"/></g></g><g class=\"polarlayer\"/><g class=\"smithlayer\"/><g class=\"ternarylayer\"/><g class=\"geolayer\"/><g class=\"funnelarealayer\"/><g class=\"pielayer\"/><g class=\"iciclelayer\"/><g class=\"treemaplayer\"/><g class=\"sunburstlayer\"/><g class=\"glimages\"/><defs id=\"topdefs-bd261d\"><g class=\"clips\"/><clipPath id=\"legendbd261d\"><rect width=\"706\" height=\"48\" x=\"0\" y=\"0\"/></clipPath></defs><g class=\"layer-above\"><g class=\"imagelayer\"/><g class=\"shapelayer\"/></g><g class=\"infolayer\"><g class=\"legend\" pointer-events=\"all\" transform=\"translate(33,11.599999999999994)\"><rect class=\"bg\" shape-rendering=\"crispEdges\" width=\"706\" height=\"48\" x=\"0\" y=\"0\" style=\"stroke: rgb(68, 68, 68); stroke-opacity: 1; fill: rgb(255, 255, 255); fill-opacity: 1; stroke-width: 0px;\"/><g class=\"scrollbox\" transform=\"\" clip-path=\"url(#legendbd261d)\"><text class=\"legendtitletext\" text-anchor=\"start\" x=\"2\" y=\"15.600000000000001\" style=\"font-family: 'Open Sans', verdana, arial, sans-serif; font-size: 12px; fill: rgb(36, 36, 36); fill-opacity: 1; white-space: pre;\">Preference:</text><g class=\"groups\"><g class=\"traces\" transform=\"translate(79.59375,14.5)\" style=\"opacity: 1;\"><text class=\"legendtext\" text-anchor=\"start\" x=\"40\" y=\"3.9\" style=\"font-family: 'Open Sans', verdana, arial, sans-serif; font-size: 10px; fill: rgb(36, 36, 36); fill-opacity: 1; white-space: pre;\">About the same</text><g class=\"layers\" style=\"opacity: 1;\"><g class=\"legendfill\"/><g class=\"legendlines\"/><g class=\"legendsymbols\"><g class=\"legendpoints\"><path class=\"legendundefined\" d=\"M6,6H-6V-6H6Z\" transform=\"translate(20,0)\" style=\"stroke-width: 0.5px; fill: rgb(211, 211, 211); fill-opacity: 1; stroke: rgb(255, 255, 255); stroke-opacity: 1;\"/></g></g></g><rect class=\"legendtoggle\" x=\"0\" y=\"-9.5\" width=\"122.0625\" height=\"19\" style=\"fill: rgb(0, 0, 0); fill-opacity: 0;\"/></g><g class=\"traces\" transform=\"translate(241.03125,14.5)\" style=\"opacity: 1;\"><text class=\"legendtext\" text-anchor=\"start\" x=\"40\" y=\"3.9\" style=\"font-family: 'Open Sans', verdana, arial, sans-serif; font-size: 10px; fill: rgb(36, 36, 36); fill-opacity: 1; white-space: pre;\">Bard better</text><g class=\"layers\" style=\"opacity: 1;\"><g class=\"legendfill\"/><g class=\"legendlines\"/><g class=\"legendsymbols\"><g class=\"legendpoints\"><path class=\"legendundefined\" d=\"M6,6H-6V-6H6Z\" transform=\"translate(20,0)\" style=\"stroke-width: 0.5px; fill: rgb(26, 94, 143); fill-opacity: 1; stroke: rgb(255, 255, 255); stroke-opacity: 1;\"/></g></g></g><rect class=\"legendtoggle\" x=\"0\" y=\"-9.5\" width=\"99.71875\" height=\"19\" style=\"fill: rgb(0, 0, 0); fill-opacity: 0;\"/></g><g class=\"traces\" transform=\"translate(402.46875,14.5)\" style=\"opacity: 1;\"><text class=\"legendtext\" text-anchor=\"start\" x=\"40\" y=\"3.9\" style=\"font-family: 'Open Sans', verdana, arial, sans-serif; font-size: 10px; fill: rgb(36, 36, 36); fill-opacity: 1; white-space: pre;\">Bard much better</text><g class=\"layers\" style=\"opacity: 1;\"><g class=\"legendfill\"/><g class=\"legendlines\"/><g class=\"legendsymbols\"><g class=\"legendpoints\"><path class=\"legendundefined\" d=\"M6,6H-6V-6H6Z\" transform=\"translate(20,0)\" style=\"stroke-width: 0.5px; fill: rgb(0, 0, 128); fill-opacity: 1; stroke: rgb(255, 255, 255); stroke-opacity: 1;\"/></g></g></g><rect class=\"legendtoggle\" x=\"0\" y=\"-9.5\" width=\"130.828125\" height=\"19\" style=\"fill: rgb(0, 0, 0); fill-opacity: 0;\"/></g><g class=\"traces\" transform=\"translate(563.90625,14.5)\" style=\"opacity: 1;\"><text class=\"legendtext\" text-anchor=\"start\" x=\"40\" y=\"3.9\" style=\"font-family: 'Open Sans', verdana, arial, sans-serif; font-size: 10px; fill: rgb(36, 36, 36); fill-opacity: 1; white-space: pre;\">Bard slightly better</text><g class=\"layers\" style=\"opacity: 1;\"><g class=\"legendfill\"/><g class=\"legendlines\"/><g class=\"legendsymbols\"><g class=\"legendpoints\"><path class=\"legendundefined\" d=\"M6,6H-6V-6H6Z\" transform=\"translate(20,0)\" style=\"stroke-width: 0.5px; fill: rgb(94, 255, 253); fill-opacity: 1; stroke: rgb(255, 255, 255); stroke-opacity: 1;\"/></g></g></g><rect class=\"legendtoggle\" x=\"0\" y=\"-9.5\" width=\"139.09375\" height=\"19\" style=\"fill: rgb(0, 0, 0); fill-opacity: 0;\"/></g><g class=\"traces\" transform=\"translate(79.59375,33.5)\" style=\"opacity: 1;\"><text class=\"legendtext\" text-anchor=\"start\" x=\"40\" y=\"3.9\" style=\"font-family: 'Open Sans', verdana, arial, sans-serif; font-size: 10px; fill: rgb(36, 36, 36); fill-opacity: 1; white-space: pre;\">ChatGPT better</text><g class=\"layers\" style=\"opacity: 1;\"><g class=\"legendfill\"/><g class=\"legendlines\"/><g class=\"legendsymbols\"><g class=\"legendpoints\"><path class=\"legendundefined\" d=\"M6,6H-6V-6H6Z\" transform=\"translate(20,0)\" style=\"stroke-width: 0.5px; fill: rgb(252, 114, 63); fill-opacity: 1; stroke: rgb(255, 255, 255); stroke-opacity: 1;\"/></g></g></g><rect class=\"legendtoggle\" x=\"0\" y=\"-9.5\" width=\"119.5625\" height=\"19\" style=\"fill: rgb(0, 0, 0); fill-opacity: 0;\"/></g><g class=\"traces\" transform=\"translate(241.03125,33.5)\" style=\"opacity: 1;\"><text class=\"legendtext\" text-anchor=\"start\" x=\"40\" y=\"3.9\" style=\"font-family: 'Open Sans', verdana, arial, sans-serif; font-size: 10px; fill: rgb(36, 36, 36); fill-opacity: 1; white-space: pre;\">ChatGPT much better</text><g class=\"layers\" style=\"opacity: 1;\"><g class=\"legendfill\"/><g class=\"legendlines\"/><g class=\"legendsymbols\"><g class=\"legendpoints\"><path class=\"legendundefined\" d=\"M6,6H-6V-6H6Z\" transform=\"translate(20,0)\" style=\"stroke-width: 0.5px; fill: rgb(246, 73, 117); fill-opacity: 1; stroke: rgb(255, 255, 255); stroke-opacity: 1;\"/></g></g></g><rect class=\"legendtoggle\" x=\"0\" y=\"-9.5\" width=\"150.671875\" height=\"19\" style=\"fill: rgb(0, 0, 0); fill-opacity: 0;\"/></g><g class=\"traces\" transform=\"translate(402.46875,33.5)\" style=\"opacity: 1;\"><text class=\"legendtext\" text-anchor=\"start\" x=\"40\" y=\"3.9\" style=\"font-family: 'Open Sans', verdana, arial, sans-serif; font-size: 10px; fill: rgb(36, 36, 36); fill-opacity: 1; white-space: pre;\">ChatGPT slightly better</text><g class=\"layers\" style=\"opacity: 1;\"><g class=\"legendfill\"/><g class=\"legendlines\"/><g class=\"legendsymbols\"><g class=\"legendpoints\"><path class=\"legendundefined\" d=\"M6,6H-6V-6H6Z\" transform=\"translate(20,0)\" style=\"stroke-width: 0.5px; fill: rgb(251, 207, 120); fill-opacity: 1; stroke: rgb(255, 255, 255); stroke-opacity: 1;\"/></g></g></g><rect class=\"legendtoggle\" x=\"0\" y=\"-9.5\" width=\"158.9375\" height=\"19\" style=\"fill: rgb(0, 0, 0); fill-opacity: 0;\"/></g></g></g><rect class=\"scrollbar\" rx=\"20\" ry=\"3\" width=\"0\" height=\"0\" x=\"0\" y=\"0\" style=\"fill: rgb(128, 139, 164); fill-opacity: 1;\"/></g><g class=\"g-gtitle\"/><g class=\"g-xtitle\"/><g class=\"g-ytitle\"/></g></svg>",
            "application/vnd.plotly.v1+json": {
              "data": [
                {
                  "marker": {
                    "color": "lightgrey"
                  },
                  "name": "About the same",
                  "width": 0.8,
                  "x": [
                    [
                      "Hyperspecific",
                      "Simple",
                      "Hyperspecific",
                      "Simple",
                      "Hyperspecific",
                      "Simple",
                      "Hyperspecific",
                      "Simple",
                      "Hyperspecific",
                      "Simple",
                      "Hyperspecific",
                      "Simple",
                      "Hyperspecific",
                      "Simple",
                      "Hyperspecific",
                      "Simple",
                      "Hyperspecific",
                      "Simple",
                      "Hyperspecific",
                      "Simple",
                      "Hyperspecific",
                      "Simple",
                      "Hyperspecific",
                      "Simple",
                      "Hyperspecific",
                      "Simple"
                    ],
                    [
                      "Adversarial Dishonesty",
                      "Adversarial Dishonesty",
                      "Adversarial Harmfulness",
                      "Adversarial Harmfulness",
                      "Brainstorming",
                      "Brainstorming",
                      "Classification",
                      "Classification",
                      "Closed QA",
                      "Closed QA",
                      "Coding",
                      "Coding",
                      "Creative Writing",
                      "Creative Writing",
                      "Extraction",
                      "Extraction",
                      "Mathematical Reasoning",
                      "Mathematical Reasoning",
                      "Open QA",
                      "Open QA",
                      "Poetry",
                      "Poetry",
                      "Rewriting",
                      "Rewriting",
                      "Summarization",
                      "Summarization"
                    ]
                  ],
                  "y": [
                    5,
                    7,
                    6,
                    17,
                    8,
                    2,
                    5,
                    10,
                    3,
                    17,
                    1,
                    3,
                    8,
                    3,
                    9,
                    6,
                    9,
                    7,
                    4,
                    16,
                    2,
                    1,
                    3,
                    4,
                    2,
                    5
                  ],
                  "type": "bar"
                },
                {
                  "marker": {
                    "color": "#1a5e8f"
                  },
                  "name": "Bard better",
                  "width": 0.8,
                  "x": [
                    [
                      "Hyperspecific",
                      "Simple",
                      "Hyperspecific",
                      "Simple",
                      "Hyperspecific",
                      "Simple",
                      "Hyperspecific",
                      "Simple",
                      "Hyperspecific",
                      "Simple",
                      "Hyperspecific",
                      "Simple",
                      "Hyperspecific",
                      "Hyperspecific",
                      "Simple",
                      "Hyperspecific",
                      "Simple",
                      "Hyperspecific",
                      "Simple",
                      "Hyperspecific",
                      "Simple",
                      "Hyperspecific",
                      "Simple",
                      "Hyperspecific",
                      "Simple"
                    ],
                    [
                      "Adversarial Dishonesty",
                      "Adversarial Dishonesty",
                      "Adversarial Harmfulness",
                      "Adversarial Harmfulness",
                      "Brainstorming",
                      "Brainstorming",
                      "Classification",
                      "Classification",
                      "Closed QA",
                      "Closed QA",
                      "Coding",
                      "Coding",
                      "Creative Writing",
                      "Extraction",
                      "Extraction",
                      "Mathematical Reasoning",
                      "Mathematical Reasoning",
                      "Open QA",
                      "Open QA",
                      "Poetry",
                      "Poetry",
                      "Rewriting",
                      "Rewriting",
                      "Summarization",
                      "Summarization"
                    ]
                  ],
                  "y": [
                    1,
                    3,
                    1,
                    6,
                    4,
                    2,
                    3,
                    6,
                    3,
                    8,
                    3,
                    3,
                    4,
                    3,
                    4,
                    4,
                    6,
                    3,
                    6,
                    3,
                    1,
                    4,
                    3,
                    2,
                    7
                  ],
                  "type": "bar"
                },
                {
                  "marker": {
                    "color": "navy"
                  },
                  "name": "Bard much better",
                  "width": 0.8,
                  "x": [
                    [
                      "Hyperspecific",
                      "Simple",
                      "Hyperspecific",
                      "Simple",
                      "Hyperspecific",
                      "Simple",
                      "Hyperspecific",
                      "Simple",
                      "Hyperspecific",
                      "Simple",
                      "Hyperspecific",
                      "Simple",
                      "Hyperspecific",
                      "Simple",
                      "Hyperspecific",
                      "Simple",
                      "Hyperspecific",
                      "Simple",
                      "Hyperspecific",
                      "Simple",
                      "Hyperspecific",
                      "Hyperspecific",
                      "Simple",
                      "Hyperspecific",
                      "Simple"
                    ],
                    [
                      "Adversarial Dishonesty",
                      "Adversarial Dishonesty",
                      "Adversarial Harmfulness",
                      "Adversarial Harmfulness",
                      "Brainstorming",
                      "Brainstorming",
                      "Classification",
                      "Classification",
                      "Closed QA",
                      "Closed QA",
                      "Coding",
                      "Coding",
                      "Creative Writing",
                      "Creative Writing",
                      "Extraction",
                      "Extraction",
                      "Mathematical Reasoning",
                      "Mathematical Reasoning",
                      "Open QA",
                      "Open QA",
                      "Poetry",
                      "Rewriting",
                      "Rewriting",
                      "Summarization",
                      "Summarization"
                    ]
                  ],
                  "y": [
                    2,
                    2,
                    1,
                    2,
                    3,
                    1,
                    2,
                    2,
                    1,
                    4,
                    1,
                    1,
                    1,
                    2,
                    1,
                    2,
                    3,
                    9,
                    2,
                    1,
                    2,
                    1,
                    2,
                    2,
                    7
                  ],
                  "type": "bar"
                },
                {
                  "marker": {
                    "color": "#5efffd"
                  },
                  "name": "Bard slightly better",
                  "width": 0.8,
                  "x": [
                    [
                      "Hyperspecific",
                      "Simple",
                      "Hyperspecific",
                      "Simple",
                      "Hyperspecific",
                      "Simple",
                      "Hyperspecific",
                      "Simple",
                      "Hyperspecific",
                      "Simple",
                      "Hyperspecific",
                      "Simple",
                      "Hyperspecific",
                      "Simple",
                      "Hyperspecific",
                      "Simple",
                      "Hyperspecific",
                      "Simple",
                      "Hyperspecific",
                      "Simple",
                      "Hyperspecific",
                      "Simple",
                      "Hyperspecific",
                      "Simple",
                      "Hyperspecific",
                      "Simple"
                    ],
                    [
                      "Adversarial Dishonesty",
                      "Adversarial Dishonesty",
                      "Adversarial Harmfulness",
                      "Adversarial Harmfulness",
                      "Brainstorming",
                      "Brainstorming",
                      "Classification",
                      "Classification",
                      "Closed QA",
                      "Closed QA",
                      "Coding",
                      "Coding",
                      "Creative Writing",
                      "Creative Writing",
                      "Extraction",
                      "Extraction",
                      "Mathematical Reasoning",
                      "Mathematical Reasoning",
                      "Open QA",
                      "Open QA",
                      "Poetry",
                      "Poetry",
                      "Rewriting",
                      "Rewriting",
                      "Summarization",
                      "Summarization"
                    ]
                  ],
                  "y": [
                    2,
                    5,
                    1,
                    7,
                    4,
                    1,
                    1,
                    6,
                    2,
                    10,
                    2,
                    1,
                    3,
                    5,
                    4,
                    3,
                    1,
                    2,
                    1,
                    16,
                    3,
                    1,
                    3,
                    2,
                    4,
                    6
                  ],
                  "type": "bar"
                },
                {
                  "marker": {
                    "color": "#fc723f"
                  },
                  "name": "ChatGPT better",
                  "width": 0.8,
                  "x": [
                    [
                      "Hyperspecific",
                      "Simple",
                      "Hyperspecific",
                      "Simple",
                      "Hyperspecific",
                      "Simple",
                      "Hyperspecific",
                      "Simple",
                      "Hyperspecific",
                      "Simple",
                      "Hyperspecific",
                      "Simple",
                      "Hyperspecific",
                      "Simple",
                      "Hyperspecific",
                      "Simple",
                      "Hyperspecific",
                      "Simple",
                      "Hyperspecific",
                      "Simple",
                      "Hyperspecific",
                      "Simple",
                      "Hyperspecific",
                      "Simple",
                      "Hyperspecific",
                      "Simple"
                    ],
                    [
                      "Adversarial Dishonesty",
                      "Adversarial Dishonesty",
                      "Adversarial Harmfulness",
                      "Adversarial Harmfulness",
                      "Brainstorming",
                      "Brainstorming",
                      "Classification",
                      "Classification",
                      "Closed QA",
                      "Closed QA",
                      "Coding",
                      "Coding",
                      "Creative Writing",
                      "Creative Writing",
                      "Extraction",
                      "Extraction",
                      "Mathematical Reasoning",
                      "Mathematical Reasoning",
                      "Open QA",
                      "Open QA",
                      "Poetry",
                      "Poetry",
                      "Rewriting",
                      "Rewriting",
                      "Summarization",
                      "Summarization"
                    ]
                  ],
                  "y": [
                    4,
                    5,
                    1,
                    5,
                    12,
                    2,
                    8,
                    4,
                    5,
                    8,
                    2,
                    7,
                    19,
                    6,
                    3,
                    7,
                    8,
                    7,
                    2,
                    12,
                    21,
                    10,
                    8,
                    10,
                    6,
                    11
                  ],
                  "type": "bar"
                },
                {
                  "marker": {
                    "color": "#f64975"
                  },
                  "name": "ChatGPT much better",
                  "width": 0.8,
                  "x": [
                    [
                      "Hyperspecific",
                      "Simple",
                      "Hyperspecific",
                      "Simple",
                      "Hyperspecific",
                      "Simple",
                      "Hyperspecific",
                      "Simple",
                      "Hyperspecific",
                      "Simple",
                      "Hyperspecific",
                      "Simple",
                      "Hyperspecific",
                      "Simple",
                      "Hyperspecific",
                      "Simple",
                      "Hyperspecific",
                      "Simple",
                      "Hyperspecific",
                      "Simple",
                      "Hyperspecific",
                      "Simple",
                      "Hyperspecific",
                      "Simple",
                      "Hyperspecific",
                      "Simple"
                    ],
                    [
                      "Adversarial Dishonesty",
                      "Adversarial Dishonesty",
                      "Adversarial Harmfulness",
                      "Adversarial Harmfulness",
                      "Brainstorming",
                      "Brainstorming",
                      "Classification",
                      "Classification",
                      "Closed QA",
                      "Closed QA",
                      "Coding",
                      "Coding",
                      "Creative Writing",
                      "Creative Writing",
                      "Extraction",
                      "Extraction",
                      "Mathematical Reasoning",
                      "Mathematical Reasoning",
                      "Open QA",
                      "Open QA",
                      "Poetry",
                      "Poetry",
                      "Rewriting",
                      "Rewriting",
                      "Summarization",
                      "Summarization"
                    ]
                  ],
                  "y": [
                    5,
                    17,
                    8,
                    4,
                    19,
                    3,
                    3,
                    9,
                    7,
                    14,
                    12,
                    9,
                    23,
                    11,
                    12,
                    9,
                    7,
                    4,
                    4,
                    7,
                    12,
                    8,
                    11,
                    13,
                    4,
                    7
                  ],
                  "type": "bar"
                },
                {
                  "marker": {
                    "color": "#FBCF78"
                  },
                  "name": "ChatGPT slightly better",
                  "width": 0.8,
                  "x": [
                    [
                      "Hyperspecific",
                      "Simple",
                      "Hyperspecific",
                      "Simple",
                      "Hyperspecific",
                      "Simple",
                      "Hyperspecific",
                      "Simple",
                      "Hyperspecific",
                      "Simple",
                      "Hyperspecific",
                      "Simple",
                      "Hyperspecific",
                      "Simple",
                      "Hyperspecific",
                      "Simple",
                      "Hyperspecific",
                      "Simple",
                      "Hyperspecific",
                      "Simple",
                      "Hyperspecific",
                      "Simple",
                      "Hyperspecific",
                      "Simple",
                      "Hyperspecific",
                      "Simple"
                    ],
                    [
                      "Adversarial Dishonesty",
                      "Adversarial Dishonesty",
                      "Adversarial Harmfulness",
                      "Adversarial Harmfulness",
                      "Brainstorming",
                      "Brainstorming",
                      "Classification",
                      "Classification",
                      "Closed QA",
                      "Closed QA",
                      "Coding",
                      "Coding",
                      "Creative Writing",
                      "Creative Writing",
                      "Extraction",
                      "Extraction",
                      "Mathematical Reasoning",
                      "Mathematical Reasoning",
                      "Open QA",
                      "Open QA",
                      "Poetry",
                      "Poetry",
                      "Rewriting",
                      "Rewriting",
                      "Summarization",
                      "Summarization"
                    ]
                  ],
                  "y": [
                    1,
                    11,
                    2,
                    9,
                    11,
                    4,
                    1,
                    9,
                    6,
                    5,
                    4,
                    4,
                    13,
                    1,
                    7,
                    7,
                    4,
                    9,
                    4,
                    8,
                    9,
                    6,
                    7,
                    3,
                    4,
                    10
                  ],
                  "type": "bar"
                }
              ],
              "layout": {
                "template": {
                  "data": {
                    "barpolar": [
                      {
                        "marker": {
                          "line": {
                            "color": "white",
                            "width": 0.5
                          },
                          "pattern": {
                            "fillmode": "overlay",
                            "size": 10,
                            "solidity": 0.2
                          }
                        },
                        "type": "barpolar"
                      }
                    ],
                    "bar": [
                      {
                        "error_x": {
                          "color": "rgb(36,36,36)"
                        },
                        "error_y": {
                          "color": "rgb(36,36,36)"
                        },
                        "marker": {
                          "line": {
                            "color": "white",
                            "width": 0.5
                          },
                          "pattern": {
                            "fillmode": "overlay",
                            "size": 10,
                            "solidity": 0.2
                          }
                        },
                        "type": "bar"
                      }
                    ],
                    "carpet": [
                      {
                        "aaxis": {
                          "endlinecolor": "rgb(36,36,36)",
                          "gridcolor": "white",
                          "linecolor": "white",
                          "minorgridcolor": "white",
                          "startlinecolor": "rgb(36,36,36)"
                        },
                        "baxis": {
                          "endlinecolor": "rgb(36,36,36)",
                          "gridcolor": "white",
                          "linecolor": "white",
                          "minorgridcolor": "white",
                          "startlinecolor": "rgb(36,36,36)"
                        },
                        "type": "carpet"
                      }
                    ],
                    "choropleth": [
                      {
                        "colorbar": {
                          "outlinewidth": 1,
                          "tickcolor": "rgb(36,36,36)",
                          "ticks": "outside"
                        },
                        "type": "choropleth"
                      }
                    ],
                    "contourcarpet": [
                      {
                        "colorbar": {
                          "outlinewidth": 1,
                          "tickcolor": "rgb(36,36,36)",
                          "ticks": "outside"
                        },
                        "type": "contourcarpet"
                      }
                    ],
                    "contour": [
                      {
                        "colorbar": {
                          "outlinewidth": 1,
                          "tickcolor": "rgb(36,36,36)",
                          "ticks": "outside"
                        },
                        "colorscale": [
                          [
                            0,
                            "#440154"
                          ],
                          [
                            0.1111111111111111,
                            "#482878"
                          ],
                          [
                            0.2222222222222222,
                            "#3e4989"
                          ],
                          [
                            0.3333333333333333,
                            "#31688e"
                          ],
                          [
                            0.4444444444444444,
                            "#26828e"
                          ],
                          [
                            0.5555555555555556,
                            "#1f9e89"
                          ],
                          [
                            0.6666666666666666,
                            "#35b779"
                          ],
                          [
                            0.7777777777777778,
                            "#6ece58"
                          ],
                          [
                            0.8888888888888888,
                            "#b5de2b"
                          ],
                          [
                            1,
                            "#fde725"
                          ]
                        ],
                        "type": "contour"
                      }
                    ],
                    "heatmapgl": [
                      {
                        "colorbar": {
                          "outlinewidth": 1,
                          "tickcolor": "rgb(36,36,36)",
                          "ticks": "outside"
                        },
                        "colorscale": [
                          [
                            0,
                            "#440154"
                          ],
                          [
                            0.1111111111111111,
                            "#482878"
                          ],
                          [
                            0.2222222222222222,
                            "#3e4989"
                          ],
                          [
                            0.3333333333333333,
                            "#31688e"
                          ],
                          [
                            0.4444444444444444,
                            "#26828e"
                          ],
                          [
                            0.5555555555555556,
                            "#1f9e89"
                          ],
                          [
                            0.6666666666666666,
                            "#35b779"
                          ],
                          [
                            0.7777777777777778,
                            "#6ece58"
                          ],
                          [
                            0.8888888888888888,
                            "#b5de2b"
                          ],
                          [
                            1,
                            "#fde725"
                          ]
                        ],
                        "type": "heatmapgl"
                      }
                    ],
                    "heatmap": [
                      {
                        "colorbar": {
                          "outlinewidth": 1,
                          "tickcolor": "rgb(36,36,36)",
                          "ticks": "outside"
                        },
                        "colorscale": [
                          [
                            0,
                            "#440154"
                          ],
                          [
                            0.1111111111111111,
                            "#482878"
                          ],
                          [
                            0.2222222222222222,
                            "#3e4989"
                          ],
                          [
                            0.3333333333333333,
                            "#31688e"
                          ],
                          [
                            0.4444444444444444,
                            "#26828e"
                          ],
                          [
                            0.5555555555555556,
                            "#1f9e89"
                          ],
                          [
                            0.6666666666666666,
                            "#35b779"
                          ],
                          [
                            0.7777777777777778,
                            "#6ece58"
                          ],
                          [
                            0.8888888888888888,
                            "#b5de2b"
                          ],
                          [
                            1,
                            "#fde725"
                          ]
                        ],
                        "type": "heatmap"
                      }
                    ],
                    "histogram2dcontour": [
                      {
                        "colorbar": {
                          "outlinewidth": 1,
                          "tickcolor": "rgb(36,36,36)",
                          "ticks": "outside"
                        },
                        "colorscale": [
                          [
                            0,
                            "#440154"
                          ],
                          [
                            0.1111111111111111,
                            "#482878"
                          ],
                          [
                            0.2222222222222222,
                            "#3e4989"
                          ],
                          [
                            0.3333333333333333,
                            "#31688e"
                          ],
                          [
                            0.4444444444444444,
                            "#26828e"
                          ],
                          [
                            0.5555555555555556,
                            "#1f9e89"
                          ],
                          [
                            0.6666666666666666,
                            "#35b779"
                          ],
                          [
                            0.7777777777777778,
                            "#6ece58"
                          ],
                          [
                            0.8888888888888888,
                            "#b5de2b"
                          ],
                          [
                            1,
                            "#fde725"
                          ]
                        ],
                        "type": "histogram2dcontour"
                      }
                    ],
                    "histogram2d": [
                      {
                        "colorbar": {
                          "outlinewidth": 1,
                          "tickcolor": "rgb(36,36,36)",
                          "ticks": "outside"
                        },
                        "colorscale": [
                          [
                            0,
                            "#440154"
                          ],
                          [
                            0.1111111111111111,
                            "#482878"
                          ],
                          [
                            0.2222222222222222,
                            "#3e4989"
                          ],
                          [
                            0.3333333333333333,
                            "#31688e"
                          ],
                          [
                            0.4444444444444444,
                            "#26828e"
                          ],
                          [
                            0.5555555555555556,
                            "#1f9e89"
                          ],
                          [
                            0.6666666666666666,
                            "#35b779"
                          ],
                          [
                            0.7777777777777778,
                            "#6ece58"
                          ],
                          [
                            0.8888888888888888,
                            "#b5de2b"
                          ],
                          [
                            1,
                            "#fde725"
                          ]
                        ],
                        "type": "histogram2d"
                      }
                    ],
                    "histogram": [
                      {
                        "marker": {
                          "line": {
                            "color": "white",
                            "width": 0.6
                          }
                        },
                        "type": "histogram"
                      }
                    ],
                    "mesh3d": [
                      {
                        "colorbar": {
                          "outlinewidth": 1,
                          "tickcolor": "rgb(36,36,36)",
                          "ticks": "outside"
                        },
                        "type": "mesh3d"
                      }
                    ],
                    "parcoords": [
                      {
                        "line": {
                          "colorbar": {
                            "outlinewidth": 1,
                            "tickcolor": "rgb(36,36,36)",
                            "ticks": "outside"
                          }
                        },
                        "type": "parcoords"
                      }
                    ],
                    "pie": [
                      {
                        "automargin": true,
                        "type": "pie"
                      }
                    ],
                    "scatter3d": [
                      {
                        "line": {
                          "colorbar": {
                            "outlinewidth": 1,
                            "tickcolor": "rgb(36,36,36)",
                            "ticks": "outside"
                          }
                        },
                        "marker": {
                          "colorbar": {
                            "outlinewidth": 1,
                            "tickcolor": "rgb(36,36,36)",
                            "ticks": "outside"
                          }
                        },
                        "type": "scatter3d"
                      }
                    ],
                    "scattercarpet": [
                      {
                        "marker": {
                          "colorbar": {
                            "outlinewidth": 1,
                            "tickcolor": "rgb(36,36,36)",
                            "ticks": "outside"
                          }
                        },
                        "type": "scattercarpet"
                      }
                    ],
                    "scattergeo": [
                      {
                        "marker": {
                          "colorbar": {
                            "outlinewidth": 1,
                            "tickcolor": "rgb(36,36,36)",
                            "ticks": "outside"
                          }
                        },
                        "type": "scattergeo"
                      }
                    ],
                    "scattergl": [
                      {
                        "marker": {
                          "colorbar": {
                            "outlinewidth": 1,
                            "tickcolor": "rgb(36,36,36)",
                            "ticks": "outside"
                          }
                        },
                        "type": "scattergl"
                      }
                    ],
                    "scattermapbox": [
                      {
                        "marker": {
                          "colorbar": {
                            "outlinewidth": 1,
                            "tickcolor": "rgb(36,36,36)",
                            "ticks": "outside"
                          }
                        },
                        "type": "scattermapbox"
                      }
                    ],
                    "scatterpolargl": [
                      {
                        "marker": {
                          "colorbar": {
                            "outlinewidth": 1,
                            "tickcolor": "rgb(36,36,36)",
                            "ticks": "outside"
                          }
                        },
                        "type": "scatterpolargl"
                      }
                    ],
                    "scatterpolar": [
                      {
                        "marker": {
                          "colorbar": {
                            "outlinewidth": 1,
                            "tickcolor": "rgb(36,36,36)",
                            "ticks": "outside"
                          }
                        },
                        "type": "scatterpolar"
                      }
                    ],
                    "scatter": [
                      {
                        "fillpattern": {
                          "fillmode": "overlay",
                          "size": 10,
                          "solidity": 0.2
                        },
                        "type": "scatter"
                      }
                    ],
                    "scatterternary": [
                      {
                        "marker": {
                          "colorbar": {
                            "outlinewidth": 1,
                            "tickcolor": "rgb(36,36,36)",
                            "ticks": "outside"
                          }
                        },
                        "type": "scatterternary"
                      }
                    ],
                    "surface": [
                      {
                        "colorbar": {
                          "outlinewidth": 1,
                          "tickcolor": "rgb(36,36,36)",
                          "ticks": "outside"
                        },
                        "colorscale": [
                          [
                            0,
                            "#440154"
                          ],
                          [
                            0.1111111111111111,
                            "#482878"
                          ],
                          [
                            0.2222222222222222,
                            "#3e4989"
                          ],
                          [
                            0.3333333333333333,
                            "#31688e"
                          ],
                          [
                            0.4444444444444444,
                            "#26828e"
                          ],
                          [
                            0.5555555555555556,
                            "#1f9e89"
                          ],
                          [
                            0.6666666666666666,
                            "#35b779"
                          ],
                          [
                            0.7777777777777778,
                            "#6ece58"
                          ],
                          [
                            0.8888888888888888,
                            "#b5de2b"
                          ],
                          [
                            1,
                            "#fde725"
                          ]
                        ],
                        "type": "surface"
                      }
                    ],
                    "table": [
                      {
                        "cells": {
                          "fill": {
                            "color": "rgb(237,237,237)"
                          },
                          "line": {
                            "color": "white"
                          }
                        },
                        "header": {
                          "fill": {
                            "color": "rgb(217,217,217)"
                          },
                          "line": {
                            "color": "white"
                          }
                        },
                        "type": "table"
                      }
                    ]
                  },
                  "layout": {
                    "annotationdefaults": {
                      "arrowhead": 0,
                      "arrowwidth": 1
                    },
                    "autotypenumbers": "strict",
                    "coloraxis": {
                      "colorbar": {
                        "outlinewidth": 1,
                        "tickcolor": "rgb(36,36,36)",
                        "ticks": "outside"
                      }
                    },
                    "colorscale": {
                      "diverging": [
                        [
                          0,
                          "rgb(103,0,31)"
                        ],
                        [
                          0.1,
                          "rgb(178,24,43)"
                        ],
                        [
                          0.2,
                          "rgb(214,96,77)"
                        ],
                        [
                          0.3,
                          "rgb(244,165,130)"
                        ],
                        [
                          0.4,
                          "rgb(253,219,199)"
                        ],
                        [
                          0.5,
                          "rgb(247,247,247)"
                        ],
                        [
                          0.6,
                          "rgb(209,229,240)"
                        ],
                        [
                          0.7,
                          "rgb(146,197,222)"
                        ],
                        [
                          0.8,
                          "rgb(67,147,195)"
                        ],
                        [
                          0.9,
                          "rgb(33,102,172)"
                        ],
                        [
                          1,
                          "rgb(5,48,97)"
                        ]
                      ],
                      "sequential": [
                        [
                          0,
                          "#440154"
                        ],
                        [
                          0.1111111111111111,
                          "#482878"
                        ],
                        [
                          0.2222222222222222,
                          "#3e4989"
                        ],
                        [
                          0.3333333333333333,
                          "#31688e"
                        ],
                        [
                          0.4444444444444444,
                          "#26828e"
                        ],
                        [
                          0.5555555555555556,
                          "#1f9e89"
                        ],
                        [
                          0.6666666666666666,
                          "#35b779"
                        ],
                        [
                          0.7777777777777778,
                          "#6ece58"
                        ],
                        [
                          0.8888888888888888,
                          "#b5de2b"
                        ],
                        [
                          1,
                          "#fde725"
                        ]
                      ],
                      "sequentialminus": [
                        [
                          0,
                          "#440154"
                        ],
                        [
                          0.1111111111111111,
                          "#482878"
                        ],
                        [
                          0.2222222222222222,
                          "#3e4989"
                        ],
                        [
                          0.3333333333333333,
                          "#31688e"
                        ],
                        [
                          0.4444444444444444,
                          "#26828e"
                        ],
                        [
                          0.5555555555555556,
                          "#1f9e89"
                        ],
                        [
                          0.6666666666666666,
                          "#35b779"
                        ],
                        [
                          0.7777777777777778,
                          "#6ece58"
                        ],
                        [
                          0.8888888888888888,
                          "#b5de2b"
                        ],
                        [
                          1,
                          "#fde725"
                        ]
                      ]
                    },
                    "colorway": [
                      "#1F77B4",
                      "#FF7F0E",
                      "#2CA02C",
                      "#D62728",
                      "#9467BD",
                      "#8C564B",
                      "#E377C2",
                      "#7F7F7F",
                      "#BCBD22",
                      "#17BECF"
                    ],
                    "font": {
                      "color": "rgb(36,36,36)"
                    },
                    "geo": {
                      "bgcolor": "white",
                      "lakecolor": "white",
                      "landcolor": "white",
                      "showlakes": true,
                      "showland": true,
                      "subunitcolor": "white"
                    },
                    "hoverlabel": {
                      "align": "left"
                    },
                    "hovermode": "closest",
                    "mapbox": {
                      "style": "light"
                    },
                    "paper_bgcolor": "white",
                    "plot_bgcolor": "white",
                    "polar": {
                      "angularaxis": {
                        "gridcolor": "rgb(232,232,232)",
                        "linecolor": "rgb(36,36,36)",
                        "showgrid": false,
                        "showline": true,
                        "ticks": "outside"
                      },
                      "bgcolor": "white",
                      "radialaxis": {
                        "gridcolor": "rgb(232,232,232)",
                        "linecolor": "rgb(36,36,36)",
                        "showgrid": false,
                        "showline": true,
                        "ticks": "outside"
                      }
                    },
                    "scene": {
                      "xaxis": {
                        "backgroundcolor": "white",
                        "gridcolor": "rgb(232,232,232)",
                        "gridwidth": 2,
                        "linecolor": "rgb(36,36,36)",
                        "showbackground": true,
                        "showgrid": false,
                        "showline": true,
                        "ticks": "outside",
                        "zeroline": false,
                        "zerolinecolor": "rgb(36,36,36)"
                      },
                      "yaxis": {
                        "backgroundcolor": "white",
                        "gridcolor": "rgb(232,232,232)",
                        "gridwidth": 2,
                        "linecolor": "rgb(36,36,36)",
                        "showbackground": true,
                        "showgrid": false,
                        "showline": true,
                        "ticks": "outside",
                        "zeroline": false,
                        "zerolinecolor": "rgb(36,36,36)"
                      },
                      "zaxis": {
                        "backgroundcolor": "white",
                        "gridcolor": "rgb(232,232,232)",
                        "gridwidth": 2,
                        "linecolor": "rgb(36,36,36)",
                        "showbackground": true,
                        "showgrid": false,
                        "showline": true,
                        "ticks": "outside",
                        "zeroline": false,
                        "zerolinecolor": "rgb(36,36,36)"
                      }
                    },
                    "shapedefaults": {
                      "fillcolor": "black",
                      "line": {
                        "width": 0
                      },
                      "opacity": 0.3
                    },
                    "ternary": {
                      "aaxis": {
                        "gridcolor": "rgb(232,232,232)",
                        "linecolor": "rgb(36,36,36)",
                        "showgrid": false,
                        "showline": true,
                        "ticks": "outside"
                      },
                      "baxis": {
                        "gridcolor": "rgb(232,232,232)",
                        "linecolor": "rgb(36,36,36)",
                        "showgrid": false,
                        "showline": true,
                        "ticks": "outside"
                      },
                      "bgcolor": "white",
                      "caxis": {
                        "gridcolor": "rgb(232,232,232)",
                        "linecolor": "rgb(36,36,36)",
                        "showgrid": false,
                        "showline": true,
                        "ticks": "outside"
                      }
                    },
                    "title": {
                      "x": 0.05
                    },
                    "xaxis": {
                      "automargin": true,
                      "gridcolor": "rgb(232,232,232)",
                      "linecolor": "rgb(36,36,36)",
                      "showgrid": false,
                      "showline": true,
                      "ticks": "outside",
                      "title": {
                        "standoff": 15
                      },
                      "zeroline": false,
                      "zerolinecolor": "rgb(36,36,36)"
                    },
                    "yaxis": {
                      "automargin": true,
                      "gridcolor": "rgb(232,232,232)",
                      "linecolor": "rgb(36,36,36)",
                      "showgrid": false,
                      "showline": true,
                      "ticks": "outside",
                      "title": {
                        "standoff": 15
                      },
                      "zeroline": false,
                      "zerolinecolor": "rgb(36,36,36)"
                    }
                  }
                },
                "title": {
                  "text": ""
                },
                "xaxis": {
                  "tickangle": -90
                },
                "bargap": 0,
                "font": {
                  "size": 10
                },
                "legend": {
                  "title": {
                    "text": "Preference:"
                  },
                  "orientation": "h",
                  "yanchor": "top",
                  "y": 10
                },
                "margin": {
                  "b": 40,
                  "t": 40,
                  "l": 20,
                  "r": 20
                },
                "barmode": "relative",
                "width": 800,
                "height": 700,
                "yaxis": {
                  "showgrid": true
                }
              },
              "config": {
                "plotlyServerURL": "https://plot.ly"
              }
            }
          },
          "metadata": {},
          "output_type": "display_data"
        }
      ],
      "execution_count": null
    },
    {
      "cell_type": "markdown",
      "id": "2acb4c6f-a0ef-4bbd-94a6-997e806677ea",
      "metadata": {
        "id": "2acb4c6f-a0ef-4bbd-94a6-997e806677ea"
      },
      "source": [
        "**Takeaways - Likert-like preferences**\n",
        "\n",
        "---\n",
        "\n",
        "- The chart above shows that ChatGPT was rated much better in 9 categories for hyperspecific requests.\n",
        "- ChatGPT was rated much better in six categories for simple prompt requests.\n",
        "- For mathematical reasoning in hyperspecific requests, Bard and GPT were more often rated as having the same performance.\n",
        "- For simple prompts in mathematical reasoning, Bard was rated as Bard much better the same number of times that ChatGPT was rated as ChatGPT slightly better.\n",
        "- For simple prompts in Open QA, Bard's performance was more often rated slightly better and had the same number of preferences as the About the Same.\n",
        "- For hyperspecific Open QA, the ratings ChatGPT much better and About the Same had the same number of observations.\n",
        "- For Adversarial Harmfulness, Classification, Open QA and Closed QA simple prompts, Bard and ChatGPT were more often rated as **About the same**.\n",
        "\n",
        "____\n",
        "\n",
        "Bard with none observations\n",
        "\n",
        "- None Simple-Creative Writing prompts were rated as **Bard better**.\n",
        "- None Simple-Poetry prompts were rated as **Bard much better** observations.\n",
        "\n",
        "---\n",
        "\n",
        "General Summary\n",
        "\n",
        "- All in all ChatGPT performance was rated higher more often than Bard. However, it performs better at hyperspecific requests while Bard improves its performance when handling simple requests."
      ]
    },
    {
      "cell_type": "code",
      "id": "e6e4235b03d9d9e9",
      "metadata": {
        "ExecuteTime": {
          "end_time": "2025-02-21T17:02:22.476856Z",
          "start_time": "2025-02-21T17:02:22.462291Z"
        },
        "id": "e6e4235b03d9d9e9",
        "outputId": "ee1cf612-2915-478d-b657-0a9d95ed130e"
      },
      "source": [
        "binned_frequencies = df.groupby(['Category', 'Complexity', 'Binned_Preference'])['Binned_Preference'].count().rename('Frequency').reset_index()\n",
        "binned_frequencies.head()"
      ],
      "outputs": [
        {
          "data": {
            "text/plain": [
              "                 Category     Complexity Binned_Preference  Frequency\n",
              "0  Adversarial Dishonesty  Hyperspecific              Bard          5\n",
              "1  Adversarial Dishonesty  Hyperspecific           ChatGPT         10\n",
              "2  Adversarial Dishonesty  Hyperspecific              Same          5\n",
              "3  Adversarial Dishonesty         Simple              Bard         10\n",
              "4  Adversarial Dishonesty         Simple           ChatGPT         33"
            ],
            "text/html": [
              "<div>\n",
              "<style scoped>\n",
              "    .dataframe tbody tr th:only-of-type {\n",
              "        vertical-align: middle;\n",
              "    }\n",
              "\n",
              "    .dataframe tbody tr th {\n",
              "        vertical-align: top;\n",
              "    }\n",
              "\n",
              "    .dataframe thead th {\n",
              "        text-align: right;\n",
              "    }\n",
              "</style>\n",
              "<table border=\"1\" class=\"dataframe\">\n",
              "  <thead>\n",
              "    <tr style=\"text-align: right;\">\n",
              "      <th></th>\n",
              "      <th>Category</th>\n",
              "      <th>Complexity</th>\n",
              "      <th>Binned_Preference</th>\n",
              "      <th>Frequency</th>\n",
              "    </tr>\n",
              "  </thead>\n",
              "  <tbody>\n",
              "    <tr>\n",
              "      <th>0</th>\n",
              "      <td>Adversarial Dishonesty</td>\n",
              "      <td>Hyperspecific</td>\n",
              "      <td>Bard</td>\n",
              "      <td>5</td>\n",
              "    </tr>\n",
              "    <tr>\n",
              "      <th>1</th>\n",
              "      <td>Adversarial Dishonesty</td>\n",
              "      <td>Hyperspecific</td>\n",
              "      <td>ChatGPT</td>\n",
              "      <td>10</td>\n",
              "    </tr>\n",
              "    <tr>\n",
              "      <th>2</th>\n",
              "      <td>Adversarial Dishonesty</td>\n",
              "      <td>Hyperspecific</td>\n",
              "      <td>Same</td>\n",
              "      <td>5</td>\n",
              "    </tr>\n",
              "    <tr>\n",
              "      <th>3</th>\n",
              "      <td>Adversarial Dishonesty</td>\n",
              "      <td>Simple</td>\n",
              "      <td>Bard</td>\n",
              "      <td>10</td>\n",
              "    </tr>\n",
              "    <tr>\n",
              "      <th>4</th>\n",
              "      <td>Adversarial Dishonesty</td>\n",
              "      <td>Simple</td>\n",
              "      <td>ChatGPT</td>\n",
              "      <td>33</td>\n",
              "    </tr>\n",
              "  </tbody>\n",
              "</table>\n",
              "</div>"
            ]
          },
          "execution_count": 8,
          "metadata": {},
          "output_type": "execute_result"
        }
      ],
      "execution_count": null
    },
    {
      "cell_type": "code",
      "id": "4502893f6709d491",
      "metadata": {
        "ExecuteTime": {
          "end_time": "2025-02-21T17:02:24.239582Z",
          "start_time": "2025-02-21T17:02:23.989820Z"
        },
        "id": "4502893f6709d491",
        "outputId": "1fd8badd-6e3f-43c4-f014-89cf874c352d"
      },
      "source": [
        "fig = go.Figure()\n",
        "\n",
        "colors = ['#1a5e8f','#f64975', 'lightgrey']\n",
        "for i, (r, c) in enumerate(zip(binned_frequencies.Binned_Preference.unique(), colors)):\n",
        "    plot_df = binned_frequencies[binned_frequencies.Binned_Preference == r]\n",
        "    fig.add_trace(\n",
        "        go.Bar(x=[plot_df.Complexity, plot_df.Category], y=plot_df.Frequency, name=r, marker_color=c,\n",
        "            width=0.8))\n",
        "    fig.update_layout(title_x=0.5, xaxis_tickangle=-90, bargap=0)\n",
        "fig.update_layout(barmode=\"relative\", font_size=10, legend=dict(orientation=\"h\", yanchor='top', y=10,  title_text=\"Preference:\"), margin=dict(b=40,t=40,l=20,r=20), title_x=0.5, width=800, height=700, template=\"simple_white\", title=\"\")\n",
        "fig.update_yaxes(showgrid=True)\n",
        "fig.write_image(\"binned_preference.svg\", format=\"svg\")\n",
        "fig.show()"
      ],
      "outputs": [
        {
          "data": {
            "image/svg+xml": "<svg class=\"main-svg\" xmlns=\"http://www.w3.org/2000/svg\" xmlns:xlink=\"http://www.w3.org/1999/xlink\" width=\"800\" height=\"700\" style=\"\" viewBox=\"0 0 800 700\"><rect x=\"0\" y=\"0\" width=\"800\" height=\"700\" style=\"fill: rgb(255, 255, 255); fill-opacity: 1;\"/><defs id=\"defs-4c6cfc\"><g class=\"clips\"><clipPath id=\"clip4c6cfcxyplot\" class=\"plotclip\"><rect width=\"747\" height=\"488\"/></clipPath><clipPath class=\"axesclip\" id=\"clip4c6cfcx\"><rect x=\"33\" y=\"0\" width=\"747\" height=\"700\"/></clipPath><clipPath class=\"axesclip\" id=\"clip4c6cfcy\"><rect x=\"0\" y=\"51\" width=\"800\" height=\"488\"/></clipPath><clipPath class=\"axesclip\" id=\"clip4c6cfcxy\"><rect x=\"33\" y=\"51\" width=\"747\" height=\"488\"/></clipPath></g><g class=\"gradients\"/><g class=\"patterns\"/></defs><g class=\"bglayer\"/><g class=\"layer-below\"><g class=\"imagelayer\"/><g class=\"shapelayer\"/></g><g class=\"cartesianlayer\"><g class=\"subplot xy\"><g class=\"layer-subplot\"><g class=\"shapelayer\"/><g class=\"imagelayer\"/></g><g class=\"minor-gridlayer\"><g class=\"x\"/><g class=\"y\"/></g><g class=\"gridlayer\"><g class=\"x\"/><g class=\"y\"><path class=\"ygrid crisp\" transform=\"translate(0,473.7)\" d=\"M33,0h747\" style=\"stroke: rgb(232, 232, 232); stroke-opacity: 1; stroke-width: 1px;\"/><path class=\"ygrid crisp\" transform=\"translate(0,408.41)\" d=\"M33,0h747\" style=\"stroke: rgb(232, 232, 232); stroke-opacity: 1; stroke-width: 1px;\"/><path class=\"ygrid crisp\" transform=\"translate(0,343.11)\" d=\"M33,0h747\" style=\"stroke: rgb(232, 232, 232); stroke-opacity: 1; stroke-width: 1px;\"/><path class=\"ygrid crisp\" transform=\"translate(0,277.82)\" d=\"M33,0h747\" style=\"stroke: rgb(232, 232, 232); stroke-opacity: 1; stroke-width: 1px;\"/><path class=\"ygrid crisp\" transform=\"translate(0,212.52)\" d=\"M33,0h747\" style=\"stroke: rgb(232, 232, 232); stroke-opacity: 1; stroke-width: 1px;\"/><path class=\"ygrid crisp\" transform=\"translate(0,147.23000000000002)\" d=\"M33,0h747\" style=\"stroke: rgb(232, 232, 232); stroke-opacity: 1; stroke-width: 1px;\"/><path class=\"ygrid crisp\" transform=\"translate(0,81.93)\" d=\"M33,0h747\" style=\"stroke: rgb(232, 232, 232); stroke-opacity: 1; stroke-width: 1px;\"/></g></g><g class=\"zerolinelayer\"/><g class=\"layer-between\"><g class=\"shapelayer\"/><g class=\"imagelayer\"/></g><path class=\"xlines-below\"/><path class=\"ylines-below\"/><g class=\"overlines-below\"/><g class=\"xaxislayer-below\"/><g class=\"yaxislayer-below\"/><g class=\"overaxes-below\"/><g class=\"overplot\"><g class=\"xy\" transform=\"translate(33,51)\" clip-path=\"url(#clip4c6cfcxyplot)\"><g class=\"barlayer mlayer\"><g class=\"trace bars\" style=\"opacity: 1;\"><g class=\"points\"><g class=\"point\"><path d=\"M2.87,488V455.35H25.86V488Z\" style=\"vector-effect: none; opacity: 1; stroke-width: 0.5px; fill: rgb(26, 94, 143); fill-opacity: 1; stroke: rgb(255, 255, 255); stroke-opacity: 1;\"/></g><g class=\"point\"><path d=\"M376.37,488V422.7H399.36V488Z\" style=\"vector-effect: none; opacity: 1; stroke-width: 0.5px; fill: rgb(26, 94, 143); fill-opacity: 1; stroke: rgb(255, 255, 255); stroke-opacity: 1;\"/></g><g class=\"point\"><path d=\"M31.6,488V468.41H54.59V488Z\" style=\"vector-effect: none; opacity: 1; stroke-width: 0.5px; fill: rgb(26, 94, 143); fill-opacity: 1; stroke: rgb(255, 255, 255); stroke-opacity: 1;\"/></g><g class=\"point\"><path d=\"M405.1,488V390.06H428.09V488Z\" style=\"vector-effect: none; opacity: 1; stroke-width: 0.5px; fill: rgb(26, 94, 143); fill-opacity: 1; stroke: rgb(255, 255, 255); stroke-opacity: 1;\"/></g><g class=\"point\"><path d=\"M60.33,488V416.17H83.32V488Z\" style=\"vector-effect: none; opacity: 1; stroke-width: 0.5px; fill: rgb(26, 94, 143); fill-opacity: 1; stroke: rgb(255, 255, 255); stroke-opacity: 1;\"/></g><g class=\"point\"><path d=\"M433.83,488V461.88H456.82V488Z\" style=\"vector-effect: none; opacity: 1; stroke-width: 0.5px; fill: rgb(26, 94, 143); fill-opacity: 1; stroke: rgb(255, 255, 255); stroke-opacity: 1;\"/></g><g class=\"point\"><path d=\"M89.07,488V448.82H112.05V488Z\" style=\"vector-effect: none; opacity: 1; stroke-width: 0.5px; fill: rgb(26, 94, 143); fill-opacity: 1; stroke: rgb(255, 255, 255); stroke-opacity: 1;\"/></g><g class=\"point\"><path d=\"M462.57,488V396.59H485.55V488Z\" style=\"vector-effect: none; opacity: 1; stroke-width: 0.5px; fill: rgb(26, 94, 143); fill-opacity: 1; stroke: rgb(255, 255, 255); stroke-opacity: 1;\"/></g><g class=\"point\"><path d=\"M117.8,488V448.82H140.78V488Z\" style=\"vector-effect: none; opacity: 1; stroke-width: 0.5px; fill: rgb(26, 94, 143); fill-opacity: 1; stroke: rgb(255, 255, 255); stroke-opacity: 1;\"/></g><g class=\"point\"><path d=\"M491.3,488V344.35H514.28V488Z\" style=\"vector-effect: none; opacity: 1; stroke-width: 0.5px; fill: rgb(26, 94, 143); fill-opacity: 1; stroke: rgb(255, 255, 255); stroke-opacity: 1;\"/></g><g class=\"point\"><path d=\"M146.53,488V448.82H169.51V488Z\" style=\"vector-effect: none; opacity: 1; stroke-width: 0.5px; fill: rgb(26, 94, 143); fill-opacity: 1; stroke: rgb(255, 255, 255); stroke-opacity: 1;\"/></g><g class=\"point\"><path d=\"M520.03,488V455.35H543.01V488Z\" style=\"vector-effect: none; opacity: 1; stroke-width: 0.5px; fill: rgb(26, 94, 143); fill-opacity: 1; stroke: rgb(255, 255, 255); stroke-opacity: 1;\"/></g><g class=\"point\"><path d=\"M175.26,488V435.76H198.24V488Z\" style=\"vector-effect: none; opacity: 1; stroke-width: 0.5px; fill: rgb(26, 94, 143); fill-opacity: 1; stroke: rgb(255, 255, 255); stroke-opacity: 1;\"/></g><g class=\"point\"><path d=\"M548.76,488V442.29H571.74V488Z\" style=\"vector-effect: none; opacity: 1; stroke-width: 0.5px; fill: rgb(26, 94, 143); fill-opacity: 1; stroke: rgb(255, 255, 255); stroke-opacity: 1;\"/></g><g class=\"point\"><path d=\"M203.99,488V435.76H226.97V488Z\" style=\"vector-effect: none; opacity: 1; stroke-width: 0.5px; fill: rgb(26, 94, 143); fill-opacity: 1; stroke: rgb(255, 255, 255); stroke-opacity: 1;\"/></g><g class=\"point\"><path d=\"M577.49,488V429.23H600.47V488Z\" style=\"vector-effect: none; opacity: 1; stroke-width: 0.5px; fill: rgb(26, 94, 143); fill-opacity: 1; stroke: rgb(255, 255, 255); stroke-opacity: 1;\"/></g><g class=\"point\"><path d=\"M232.72,488V435.76H255.7V488Z\" style=\"vector-effect: none; opacity: 1; stroke-width: 0.5px; fill: rgb(26, 94, 143); fill-opacity: 1; stroke: rgb(255, 255, 255); stroke-opacity: 1;\"/></g><g class=\"point\"><path d=\"M606.22,488V377H629.2V488Z\" style=\"vector-effect: none; opacity: 1; stroke-width: 0.5px; fill: rgb(26, 94, 143); fill-opacity: 1; stroke: rgb(255, 255, 255); stroke-opacity: 1;\"/></g><g class=\"point\"><path d=\"M261.45,488V448.82H284.43V488Z\" style=\"vector-effect: none; opacity: 1; stroke-width: 0.5px; fill: rgb(26, 94, 143); fill-opacity: 1; stroke: rgb(255, 255, 255); stroke-opacity: 1;\"/></g><g class=\"point\"><path d=\"M634.95,488V337.82H657.93V488Z\" style=\"vector-effect: none; opacity: 1; stroke-width: 0.5px; fill: rgb(26, 94, 143); fill-opacity: 1; stroke: rgb(255, 255, 255); stroke-opacity: 1;\"/></g><g class=\"point\"><path d=\"M290.18,488V435.76H313.17V488Z\" style=\"vector-effect: none; opacity: 1; stroke-width: 0.5px; fill: rgb(26, 94, 143); fill-opacity: 1; stroke: rgb(255, 255, 255); stroke-opacity: 1;\"/></g><g class=\"point\"><path d=\"M663.68,488V474.94H686.67V488Z\" style=\"vector-effect: none; opacity: 1; stroke-width: 0.5px; fill: rgb(26, 94, 143); fill-opacity: 1; stroke: rgb(255, 255, 255); stroke-opacity: 1;\"/></g><g class=\"point\"><path d=\"M318.91,488V435.76H341.9V488Z\" style=\"vector-effect: none; opacity: 1; stroke-width: 0.5px; fill: rgb(26, 94, 143); fill-opacity: 1; stroke: rgb(255, 255, 255); stroke-opacity: 1;\"/></g><g class=\"point\"><path d=\"M692.41,488V442.29H715.4V488Z\" style=\"vector-effect: none; opacity: 1; stroke-width: 0.5px; fill: rgb(26, 94, 143); fill-opacity: 1; stroke: rgb(255, 255, 255); stroke-opacity: 1;\"/></g><g class=\"point\"><path d=\"M347.64,488V435.76H370.63V488Z\" style=\"vector-effect: none; opacity: 1; stroke-width: 0.5px; fill: rgb(26, 94, 143); fill-opacity: 1; stroke: rgb(255, 255, 255); stroke-opacity: 1;\"/></g><g class=\"point\"><path d=\"M721.14,488V357.41H744.13V488Z\" style=\"vector-effect: none; opacity: 1; stroke-width: 0.5px; fill: rgb(26, 94, 143); fill-opacity: 1; stroke: rgb(255, 255, 255); stroke-opacity: 1;\"/></g></g></g><g class=\"trace bars\" style=\"opacity: 1;\"><g class=\"points\"><g class=\"point\"><path d=\"M2.87,455.35V390.06H25.86V455.35Z\" style=\"vector-effect: none; opacity: 1; stroke-width: 0.5px; fill: rgb(246, 73, 117); fill-opacity: 1; stroke: rgb(255, 255, 255); stroke-opacity: 1;\"/></g><g class=\"point\"><path d=\"M376.37,422.7V207.23H399.36V422.7Z\" style=\"vector-effect: none; opacity: 1; stroke-width: 0.5px; fill: rgb(246, 73, 117); fill-opacity: 1; stroke: rgb(255, 255, 255); stroke-opacity: 1;\"/></g><g class=\"point\"><path d=\"M31.6,468.41V396.59H54.59V468.41Z\" style=\"vector-effect: none; opacity: 1; stroke-width: 0.5px; fill: rgb(246, 73, 117); fill-opacity: 1; stroke: rgb(255, 255, 255); stroke-opacity: 1;\"/></g><g class=\"point\"><path d=\"M405.1,390.06V272.52H428.09V390.06Z\" style=\"vector-effect: none; opacity: 1; stroke-width: 0.5px; fill: rgb(246, 73, 117); fill-opacity: 1; stroke: rgb(255, 255, 255); stroke-opacity: 1;\"/></g><g class=\"point\"><path d=\"M60.33,416.17V141.93H83.32V416.17Z\" style=\"vector-effect: none; opacity: 1; stroke-width: 0.5px; fill: rgb(246, 73, 117); fill-opacity: 1; stroke: rgb(255, 255, 255); stroke-opacity: 1;\"/></g><g class=\"point\"><path d=\"M433.83,461.88V403.12H456.82V461.88Z\" style=\"vector-effect: none; opacity: 1; stroke-width: 0.5px; fill: rgb(246, 73, 117); fill-opacity: 1; stroke: rgb(255, 255, 255); stroke-opacity: 1;\"/></g><g class=\"point\"><path d=\"M89.07,448.82V370.47H112.05V448.82Z\" style=\"vector-effect: none; opacity: 1; stroke-width: 0.5px; fill: rgb(246, 73, 117); fill-opacity: 1; stroke: rgb(255, 255, 255); stroke-opacity: 1;\"/></g><g class=\"point\"><path d=\"M462.57,396.59V252.94H485.55V396.59Z\" style=\"vector-effect: none; opacity: 1; stroke-width: 0.5px; fill: rgb(246, 73, 117); fill-opacity: 1; stroke: rgb(255, 255, 255); stroke-opacity: 1;\"/></g><g class=\"point\"><path d=\"M117.8,448.82V331.29H140.78V448.82Z\" style=\"vector-effect: none; opacity: 1; stroke-width: 0.5px; fill: rgb(246, 73, 117); fill-opacity: 1; stroke: rgb(255, 255, 255); stroke-opacity: 1;\"/></g><g class=\"point\"><path d=\"M491.3,344.35V168.05H514.28V344.35Z\" style=\"vector-effect: none; opacity: 1; stroke-width: 0.5px; fill: rgb(246, 73, 117); fill-opacity: 1; stroke: rgb(255, 255, 255); stroke-opacity: 1;\"/></g><g class=\"point\"><path d=\"M146.53,448.82V331.29H169.51V448.82Z\" style=\"vector-effect: none; opacity: 1; stroke-width: 0.5px; fill: rgb(246, 73, 117); fill-opacity: 1; stroke: rgb(255, 255, 255); stroke-opacity: 1;\"/></g><g class=\"point\"><path d=\"M520.03,455.35V324.76H543.01V455.35Z\" style=\"vector-effect: none; opacity: 1; stroke-width: 0.5px; fill: rgb(246, 73, 117); fill-opacity: 1; stroke: rgb(255, 255, 255); stroke-opacity: 1;\"/></g><g class=\"point\"><path d=\"M175.26,435.76V76.64H198.24V435.76Z\" style=\"vector-effect: none; opacity: 1; stroke-width: 0.5px; fill: rgb(246, 73, 117); fill-opacity: 1; stroke: rgb(255, 255, 255); stroke-opacity: 1;\"/></g><g class=\"point\"><path d=\"M548.76,442.29V324.76H571.74V442.29Z\" style=\"vector-effect: none; opacity: 1; stroke-width: 0.5px; fill: rgb(246, 73, 117); fill-opacity: 1; stroke: rgb(255, 255, 255); stroke-opacity: 1;\"/></g><g class=\"point\"><path d=\"M203.99,435.76V292.11H226.97V435.76Z\" style=\"vector-effect: none; opacity: 1; stroke-width: 0.5px; fill: rgb(246, 73, 117); fill-opacity: 1; stroke: rgb(255, 255, 255); stroke-opacity: 1;\"/></g><g class=\"point\"><path d=\"M577.49,429.23V279.05H600.47V429.23Z\" style=\"vector-effect: none; opacity: 1; stroke-width: 0.5px; fill: rgb(246, 73, 117); fill-opacity: 1; stroke: rgb(255, 255, 255); stroke-opacity: 1;\"/></g><g class=\"point\"><path d=\"M232.72,435.76V311.7H255.7V435.76Z\" style=\"vector-effect: none; opacity: 1; stroke-width: 0.5px; fill: rgb(246, 73, 117); fill-opacity: 1; stroke: rgb(255, 255, 255); stroke-opacity: 1;\"/></g><g class=\"point\"><path d=\"M606.22,377V246.41H629.2V377Z\" style=\"vector-effect: none; opacity: 1; stroke-width: 0.5px; fill: rgb(246, 73, 117); fill-opacity: 1; stroke: rgb(255, 255, 255); stroke-opacity: 1;\"/></g><g class=\"point\"><path d=\"M261.45,448.82V383.53H284.43V448.82Z\" style=\"vector-effect: none; opacity: 1; stroke-width: 0.5px; fill: rgb(246, 73, 117); fill-opacity: 1; stroke: rgb(255, 255, 255); stroke-opacity: 1;\"/></g><g class=\"point\"><path d=\"M634.95,337.82V161.52H657.93V337.82Z\" style=\"vector-effect: none; opacity: 1; stroke-width: 0.5px; fill: rgb(246, 73, 117); fill-opacity: 1; stroke: rgb(255, 255, 255); stroke-opacity: 1;\"/></g><g class=\"point\"><path d=\"M290.18,435.76V161.52H313.17V435.76Z\" style=\"vector-effect: none; opacity: 1; stroke-width: 0.5px; fill: rgb(246, 73, 117); fill-opacity: 1; stroke: rgb(255, 255, 255); stroke-opacity: 1;\"/></g><g class=\"point\"><path d=\"M663.68,474.94V318.23H686.67V474.94Z\" style=\"vector-effect: none; opacity: 1; stroke-width: 0.5px; fill: rgb(246, 73, 117); fill-opacity: 1; stroke: rgb(255, 255, 255); stroke-opacity: 1;\"/></g><g class=\"point\"><path d=\"M318.91,435.76V265.99H341.9V435.76Z\" style=\"vector-effect: none; opacity: 1; stroke-width: 0.5px; fill: rgb(246, 73, 117); fill-opacity: 1; stroke: rgb(255, 255, 255); stroke-opacity: 1;\"/></g><g class=\"point\"><path d=\"M692.41,442.29V272.52H715.4V442.29Z\" style=\"vector-effect: none; opacity: 1; stroke-width: 0.5px; fill: rgb(246, 73, 117); fill-opacity: 1; stroke: rgb(255, 255, 255); stroke-opacity: 1;\"/></g><g class=\"point\"><path d=\"M347.64,435.76V344.35H370.63V435.76Z\" style=\"vector-effect: none; opacity: 1; stroke-width: 0.5px; fill: rgb(246, 73, 117); fill-opacity: 1; stroke: rgb(255, 255, 255); stroke-opacity: 1;\"/></g><g class=\"point\"><path d=\"M721.14,357.41V174.58H744.13V357.41Z\" style=\"vector-effect: none; opacity: 1; stroke-width: 0.5px; fill: rgb(246, 73, 117); fill-opacity: 1; stroke: rgb(255, 255, 255); stroke-opacity: 1;\"/></g></g></g><g class=\"trace bars\" style=\"opacity: 1;\"><g class=\"points\"><g class=\"point\"><path d=\"M2.87,390.06V357.41H25.86V390.06Z\" style=\"vector-effect: none; opacity: 1; stroke-width: 0.5px; fill: rgb(211, 211, 211); fill-opacity: 1; stroke: rgb(255, 255, 255); stroke-opacity: 1;\"/></g><g class=\"point\"><path d=\"M376.37,207.23V161.52H399.36V207.23Z\" style=\"vector-effect: none; opacity: 1; stroke-width: 0.5px; fill: rgb(211, 211, 211); fill-opacity: 1; stroke: rgb(255, 255, 255); stroke-opacity: 1;\"/></g><g class=\"point\"><path d=\"M31.6,396.59V357.41H54.59V396.59Z\" style=\"vector-effect: none; opacity: 1; stroke-width: 0.5px; fill: rgb(211, 211, 211); fill-opacity: 1; stroke: rgb(255, 255, 255); stroke-opacity: 1;\"/></g><g class=\"point\"><path d=\"M405.1,272.52V161.52H428.09V272.52Z\" style=\"vector-effect: none; opacity: 1; stroke-width: 0.5px; fill: rgb(211, 211, 211); fill-opacity: 1; stroke: rgb(255, 255, 255); stroke-opacity: 1;\"/></g><g class=\"point\"><path d=\"M60.33,141.93V89.7H83.32V141.93Z\" style=\"vector-effect: none; opacity: 1; stroke-width: 0.5px; fill: rgb(211, 211, 211); fill-opacity: 1; stroke: rgb(255, 255, 255); stroke-opacity: 1;\"/></g><g class=\"point\"><path d=\"M433.83,403.12V390.06H456.82V403.12Z\" style=\"vector-effect: none; opacity: 1; stroke-width: 0.5px; fill: rgb(211, 211, 211); fill-opacity: 1; stroke: rgb(255, 255, 255); stroke-opacity: 1;\"/></g><g class=\"point\"><path d=\"M89.07,370.47V337.82H112.05V370.47Z\" style=\"vector-effect: none; opacity: 1; stroke-width: 0.5px; fill: rgb(211, 211, 211); fill-opacity: 1; stroke: rgb(255, 255, 255); stroke-opacity: 1;\"/></g><g class=\"point\"><path d=\"M462.57,252.94V187.64H485.55V252.94Z\" style=\"vector-effect: none; opacity: 1; stroke-width: 0.5px; fill: rgb(211, 211, 211); fill-opacity: 1; stroke: rgb(255, 255, 255); stroke-opacity: 1;\"/></g><g class=\"point\"><path d=\"M117.8,331.29V311.7H140.78V331.29Z\" style=\"vector-effect: none; opacity: 1; stroke-width: 0.5px; fill: rgb(211, 211, 211); fill-opacity: 1; stroke: rgb(255, 255, 255); stroke-opacity: 1;\"/></g><g class=\"point\"><path d=\"M491.3,168.05V57.05H514.28V168.05Z\" style=\"vector-effect: none; opacity: 1; stroke-width: 0.5px; fill: rgb(211, 211, 211); fill-opacity: 1; stroke: rgb(255, 255, 255); stroke-opacity: 1;\"/></g><g class=\"point\"><path d=\"M146.53,331.29V324.76H169.51V331.29Z\" style=\"vector-effect: none; opacity: 1; stroke-width: 0.5px; fill: rgb(211, 211, 211); fill-opacity: 1; stroke: rgb(255, 255, 255); stroke-opacity: 1;\"/></g><g class=\"point\"><path d=\"M520.03,324.76V305.17H543.01V324.76Z\" style=\"vector-effect: none; opacity: 1; stroke-width: 0.5px; fill: rgb(211, 211, 211); fill-opacity: 1; stroke: rgb(255, 255, 255); stroke-opacity: 1;\"/></g><g class=\"point\"><path d=\"M175.26,76.64V24.4H198.24V76.64Z\" style=\"vector-effect: none; opacity: 1; stroke-width: 0.5px; fill: rgb(211, 211, 211); fill-opacity: 1; stroke: rgb(255, 255, 255); stroke-opacity: 1;\"/></g><g class=\"point\"><path d=\"M548.76,324.76V305.17H571.74V324.76Z\" style=\"vector-effect: none; opacity: 1; stroke-width: 0.5px; fill: rgb(211, 211, 211); fill-opacity: 1; stroke: rgb(255, 255, 255); stroke-opacity: 1;\"/></g><g class=\"point\"><path d=\"M203.99,292.11V233.35H226.97V292.11Z\" style=\"vector-effect: none; opacity: 1; stroke-width: 0.5px; fill: rgb(211, 211, 211); fill-opacity: 1; stroke: rgb(255, 255, 255); stroke-opacity: 1;\"/></g><g class=\"point\"><path d=\"M577.49,279.05V239.88H600.47V279.05Z\" style=\"vector-effect: none; opacity: 1; stroke-width: 0.5px; fill: rgb(211, 211, 211); fill-opacity: 1; stroke: rgb(255, 255, 255); stroke-opacity: 1;\"/></g><g class=\"point\"><path d=\"M232.72,311.7V252.94H255.7V311.7Z\" style=\"vector-effect: none; opacity: 1; stroke-width: 0.5px; fill: rgb(211, 211, 211); fill-opacity: 1; stroke: rgb(255, 255, 255); stroke-opacity: 1;\"/></g><g class=\"point\"><path d=\"M606.22,246.41V200.7H629.2V246.41Z\" style=\"vector-effect: none; opacity: 1; stroke-width: 0.5px; fill: rgb(211, 211, 211); fill-opacity: 1; stroke: rgb(255, 255, 255); stroke-opacity: 1;\"/></g><g class=\"point\"><path d=\"M261.45,383.53V357.41H284.43V383.53Z\" style=\"vector-effect: none; opacity: 1; stroke-width: 0.5px; fill: rgb(211, 211, 211); fill-opacity: 1; stroke: rgb(255, 255, 255); stroke-opacity: 1;\"/></g><g class=\"point\"><path d=\"M634.95,161.52V57.05H657.93V161.52Z\" style=\"vector-effect: none; opacity: 1; stroke-width: 0.5px; fill: rgb(211, 211, 211); fill-opacity: 1; stroke: rgb(255, 255, 255); stroke-opacity: 1;\"/></g><g class=\"point\"><path d=\"M290.18,161.52V148.46H313.17V161.52Z\" style=\"vector-effect: none; opacity: 1; stroke-width: 0.5px; fill: rgb(211, 211, 211); fill-opacity: 1; stroke: rgb(255, 255, 255); stroke-opacity: 1;\"/></g><g class=\"point\"><path d=\"M663.68,318.23V311.7H686.67V318.23Z\" style=\"vector-effect: none; opacity: 1; stroke-width: 0.5px; fill: rgb(211, 211, 211); fill-opacity: 1; stroke: rgb(255, 255, 255); stroke-opacity: 1;\"/></g><g class=\"point\"><path d=\"M318.91,265.99V246.41H341.9V265.99Z\" style=\"vector-effect: none; opacity: 1; stroke-width: 0.5px; fill: rgb(211, 211, 211); fill-opacity: 1; stroke: rgb(255, 255, 255); stroke-opacity: 1;\"/></g><g class=\"point\"><path d=\"M692.41,272.52V246.41H715.4V272.52Z\" style=\"vector-effect: none; opacity: 1; stroke-width: 0.5px; fill: rgb(211, 211, 211); fill-opacity: 1; stroke: rgb(255, 255, 255); stroke-opacity: 1;\"/></g><g class=\"point\"><path d=\"M347.64,344.35V331.29H370.63V344.35Z\" style=\"vector-effect: none; opacity: 1; stroke-width: 0.5px; fill: rgb(211, 211, 211); fill-opacity: 1; stroke: rgb(255, 255, 255); stroke-opacity: 1;\"/></g><g class=\"point\"><path d=\"M721.14,174.58V141.93H744.13V174.58Z\" style=\"vector-effect: none; opacity: 1; stroke-width: 0.5px; fill: rgb(211, 211, 211); fill-opacity: 1; stroke: rgb(255, 255, 255); stroke-opacity: 1;\"/></g></g></g></g></g></g><path class=\"xlines-above crisp\" d=\"M32,539.5H780\" style=\"fill: none; stroke-width: 1px; stroke: rgb(36, 36, 36); stroke-opacity: 1;\"/><path class=\"ylines-above crisp\" d=\"M32.5,51V539\" style=\"fill: none; stroke-width: 1px; stroke: rgb(36, 36, 36); stroke-opacity: 1;\"/><g class=\"overlines-above\"/><g class=\"xaxislayer-above\"><path class=\"xdivider crisp\" transform=\"translate(780,0)\" d=\"M0,540v149.03125\" style=\"stroke: rgb(68, 68, 68); stroke-opacity: 1; stroke-width: 1px;\"/><path class=\"xdivider crisp\" transform=\"translate(406.5,0)\" d=\"M0,540v149.03125\" style=\"stroke: rgb(68, 68, 68); stroke-opacity: 1; stroke-width: 1px;\"/><path class=\"xdivider crisp\" transform=\"translate(33,0)\" d=\"M0,540v149.03125\" style=\"stroke: rgb(68, 68, 68); stroke-opacity: 1; stroke-width: 1px;\"/><path class=\"xtick ticks crisp\" d=\"\" transform=\"translate(33,0)\" style=\"stroke: rgb(68, 68, 68); stroke-opacity: 1; stroke-width: 1px;\"/><path class=\"xtick ticks crisp\" d=\"M0,540v5\" transform=\"translate(61.730000000000004,0)\" style=\"stroke: rgb(68, 68, 68); stroke-opacity: 1; stroke-width: 1px;\"/><path class=\"xtick ticks crisp\" d=\"M0,540v5\" transform=\"translate(90.46000000000001,0)\" style=\"stroke: rgb(68, 68, 68); stroke-opacity: 1; stroke-width: 1px;\"/><path class=\"xtick ticks crisp\" d=\"M0,540v5\" transform=\"translate(119.19,0)\" style=\"stroke: rgb(68, 68, 68); stroke-opacity: 1; stroke-width: 1px;\"/><path class=\"xtick ticks crisp\" d=\"M0,540v5\" transform=\"translate(147.92000000000002,0)\" style=\"stroke: rgb(68, 68, 68); stroke-opacity: 1; stroke-width: 1px;\"/><path class=\"xtick ticks crisp\" d=\"M0,540v5\" transform=\"translate(176.65,0)\" style=\"stroke: rgb(68, 68, 68); stroke-opacity: 1; stroke-width: 1px;\"/><path class=\"xtick ticks crisp\" d=\"M0,540v5\" transform=\"translate(205.38,0)\" style=\"stroke: rgb(68, 68, 68); stroke-opacity: 1; stroke-width: 1px;\"/><path class=\"xtick ticks crisp\" d=\"M0,540v5\" transform=\"translate(234.12,0)\" style=\"stroke: rgb(68, 68, 68); stroke-opacity: 1; stroke-width: 1px;\"/><path class=\"xtick ticks crisp\" d=\"M0,540v5\" transform=\"translate(262.85,0)\" style=\"stroke: rgb(68, 68, 68); stroke-opacity: 1; stroke-width: 1px;\"/><path class=\"xtick ticks crisp\" d=\"M0,540v5\" transform=\"translate(291.58,0)\" style=\"stroke: rgb(68, 68, 68); stroke-opacity: 1; stroke-width: 1px;\"/><path class=\"xtick ticks crisp\" d=\"M0,540v5\" transform=\"translate(320.31,0)\" style=\"stroke: rgb(68, 68, 68); stroke-opacity: 1; stroke-width: 1px;\"/><path class=\"xtick ticks crisp\" d=\"M0,540v5\" transform=\"translate(349.04,0)\" style=\"stroke: rgb(68, 68, 68); stroke-opacity: 1; stroke-width: 1px;\"/><path class=\"xtick ticks crisp\" d=\"M0,540v5\" transform=\"translate(377.77,0)\" style=\"stroke: rgb(68, 68, 68); stroke-opacity: 1; stroke-width: 1px;\"/><path class=\"xtick ticks crisp\" d=\"\" transform=\"translate(406.5,0)\" style=\"stroke: rgb(68, 68, 68); stroke-opacity: 1; stroke-width: 1px;\"/><path class=\"xtick ticks crisp\" d=\"M0,540v5\" transform=\"translate(435.23,0)\" style=\"stroke: rgb(68, 68, 68); stroke-opacity: 1; stroke-width: 1px;\"/><path class=\"xtick ticks crisp\" d=\"M0,540v5\" transform=\"translate(463.96,0)\" style=\"stroke: rgb(68, 68, 68); stroke-opacity: 1; stroke-width: 1px;\"/><path class=\"xtick ticks crisp\" d=\"M0,540v5\" transform=\"translate(492.69,0)\" style=\"stroke: rgb(68, 68, 68); stroke-opacity: 1; stroke-width: 1px;\"/><path class=\"xtick ticks crisp\" d=\"M0,540v5\" transform=\"translate(521.4200000000001,0)\" style=\"stroke: rgb(68, 68, 68); stroke-opacity: 1; stroke-width: 1px;\"/><path class=\"xtick ticks crisp\" d=\"M0,540v5\" transform=\"translate(550.15,0)\" style=\"stroke: rgb(68, 68, 68); stroke-opacity: 1; stroke-width: 1px;\"/><path class=\"xtick ticks crisp\" d=\"M0,540v5\" transform=\"translate(578.88,0)\" style=\"stroke: rgb(68, 68, 68); stroke-opacity: 1; stroke-width: 1px;\"/><path class=\"xtick ticks crisp\" d=\"M0,540v5\" transform=\"translate(607.62,0)\" style=\"stroke: rgb(68, 68, 68); stroke-opacity: 1; stroke-width: 1px;\"/><path class=\"xtick ticks crisp\" d=\"M0,540v5\" transform=\"translate(636.35,0)\" style=\"stroke: rgb(68, 68, 68); stroke-opacity: 1; stroke-width: 1px;\"/><path class=\"xtick ticks crisp\" d=\"M0,540v5\" transform=\"translate(665.08,0)\" style=\"stroke: rgb(68, 68, 68); stroke-opacity: 1; stroke-width: 1px;\"/><path class=\"xtick ticks crisp\" d=\"M0,540v5\" transform=\"translate(693.81,0)\" style=\"stroke: rgb(68, 68, 68); stroke-opacity: 1; stroke-width: 1px;\"/><path class=\"xtick ticks crisp\" d=\"M0,540v5\" transform=\"translate(722.54,0)\" style=\"stroke: rgb(68, 68, 68); stroke-opacity: 1; stroke-width: 1px;\"/><path class=\"xtick ticks crisp\" d=\"M0,540v5\" transform=\"translate(751.27,0)\" style=\"stroke: rgb(68, 68, 68); stroke-opacity: 1; stroke-width: 1px;\"/><path class=\"xtick ticks crisp\" d=\"\" transform=\"translate(780,0)\" style=\"stroke: rgb(68, 68, 68); stroke-opacity: 1; stroke-width: 1px;\"/><g class=\"xtick\"><text text-anchor=\"end\" x=\"-1.75\" y=\"549\" transform=\"translate(47.37,0) rotate(-90,-1.75,544)\" style=\"font-family: 'Open Sans', verdana, arial, sans-serif; font-size: 10px; fill: rgb(36, 36, 36); fill-opacity: 1; white-space: pre; opacity: 1;\">Adversarial Dishonesty</text></g><g class=\"xtick\"><text text-anchor=\"end\" x=\"-1.75\" y=\"549\" transform=\"translate(76.1,0) rotate(-90,-1.75,544)\" style=\"font-family: 'Open Sans', verdana, arial, sans-serif; font-size: 10px; fill: rgb(36, 36, 36); fill-opacity: 1; white-space: pre; opacity: 1;\">Adversarial Harmfulness</text></g><g class=\"xtick\"><text text-anchor=\"end\" x=\"-1.75\" y=\"549\" transform=\"translate(104.83,0) rotate(-90,-1.75,544)\" style=\"font-family: 'Open Sans', verdana, arial, sans-serif; font-size: 10px; fill: rgb(36, 36, 36); fill-opacity: 1; white-space: pre; opacity: 1;\">Brainstorming</text></g><g class=\"xtick\"><text text-anchor=\"end\" x=\"-1.75\" y=\"549\" transform=\"translate(133.56,0) rotate(-90,-1.75,544)\" style=\"font-family: 'Open Sans', verdana, arial, sans-serif; font-size: 10px; fill: rgb(36, 36, 36); fill-opacity: 1; white-space: pre; opacity: 1;\">Classification</text></g><g class=\"xtick\"><text text-anchor=\"end\" x=\"-1.75\" y=\"549\" transform=\"translate(162.29,0) rotate(-90,-1.75,544)\" style=\"font-family: 'Open Sans', verdana, arial, sans-serif; font-size: 10px; fill: rgb(36, 36, 36); fill-opacity: 1; white-space: pre; opacity: 1;\">Closed QA</text></g><g class=\"xtick\"><text text-anchor=\"end\" x=\"-1.75\" y=\"549\" transform=\"translate(191.02,0) rotate(-90,-1.75,544)\" style=\"font-family: 'Open Sans', verdana, arial, sans-serif; font-size: 10px; fill: rgb(36, 36, 36); fill-opacity: 1; white-space: pre; opacity: 1;\">Coding</text></g><g class=\"xtick\"><text text-anchor=\"end\" x=\"-1.75\" y=\"549\" transform=\"translate(219.75,0) rotate(-90,-1.75,544)\" style=\"font-family: 'Open Sans', verdana, arial, sans-serif; font-size: 10px; fill: rgb(36, 36, 36); fill-opacity: 1; white-space: pre; opacity: 1;\">Creative Writing</text></g><g class=\"xtick\"><text text-anchor=\"end\" x=\"-1.75\" y=\"549\" transform=\"translate(248.48,0) rotate(-90,-1.75,544)\" style=\"font-family: 'Open Sans', verdana, arial, sans-serif; font-size: 10px; fill: rgb(36, 36, 36); fill-opacity: 1; white-space: pre; opacity: 1;\">Extraction</text></g><g class=\"xtick\"><text text-anchor=\"end\" x=\"-1.75\" y=\"549\" transform=\"translate(277.21000000000004,0) rotate(-90,-1.75,544)\" style=\"font-family: 'Open Sans', verdana, arial, sans-serif; font-size: 10px; fill: rgb(36, 36, 36); fill-opacity: 1; white-space: pre; opacity: 1;\">Mathematical Reasoning</text></g><g class=\"xtick\"><text text-anchor=\"end\" x=\"-1.75\" y=\"549\" transform=\"translate(305.94,0) rotate(-90,-1.75,544)\" style=\"font-family: 'Open Sans', verdana, arial, sans-serif; font-size: 10px; fill: rgb(36, 36, 36); fill-opacity: 1; white-space: pre; opacity: 1;\">Open QA</text></g><g class=\"xtick\"><text text-anchor=\"end\" x=\"-1.75\" y=\"549\" transform=\"translate(334.67,0) rotate(-90,-1.75,544)\" style=\"font-family: 'Open Sans', verdana, arial, sans-serif; font-size: 10px; fill: rgb(36, 36, 36); fill-opacity: 1; white-space: pre; opacity: 1;\">Poetry</text></g><g class=\"xtick\"><text text-anchor=\"end\" x=\"-1.75\" y=\"549\" transform=\"translate(363.4,0) rotate(-90,-1.75,544)\" style=\"font-family: 'Open Sans', verdana, arial, sans-serif; font-size: 10px; fill: rgb(36, 36, 36); fill-opacity: 1; white-space: pre; opacity: 1;\">Rewriting</text></g><g class=\"xtick\"><text text-anchor=\"end\" x=\"-1.75\" y=\"549\" transform=\"translate(392.13,0) rotate(-90,-1.75,544)\" style=\"font-family: 'Open Sans', verdana, arial, sans-serif; font-size: 10px; fill: rgb(36, 36, 36); fill-opacity: 1; white-space: pre; opacity: 1;\">Summarization</text></g><g class=\"xtick\"><text text-anchor=\"end\" x=\"-1.75\" y=\"549\" transform=\"translate(420.87,0) rotate(-90,-1.75,544)\" style=\"font-family: 'Open Sans', verdana, arial, sans-serif; font-size: 10px; fill: rgb(36, 36, 36); fill-opacity: 1; white-space: pre; opacity: 1;\">Adversarial Dishonesty</text></g><g class=\"xtick\"><text text-anchor=\"end\" x=\"-1.75\" y=\"549\" transform=\"translate(449.6,0) rotate(-90,-1.75,544)\" style=\"font-family: 'Open Sans', verdana, arial, sans-serif; font-size: 10px; fill: rgb(36, 36, 36); fill-opacity: 1; white-space: pre; opacity: 1;\">Adversarial Harmfulness</text></g><g class=\"xtick\"><text text-anchor=\"end\" x=\"-1.75\" y=\"549\" transform=\"translate(478.33,0) rotate(-90,-1.75,544)\" style=\"font-family: 'Open Sans', verdana, arial, sans-serif; font-size: 10px; fill: rgb(36, 36, 36); fill-opacity: 1; white-space: pre; opacity: 1;\">Brainstorming</text></g><g class=\"xtick\"><text text-anchor=\"end\" x=\"-1.75\" y=\"549\" transform=\"translate(507.06,0) rotate(-90,-1.75,544)\" style=\"font-family: 'Open Sans', verdana, arial, sans-serif; font-size: 10px; fill: rgb(36, 36, 36); fill-opacity: 1; white-space: pre; opacity: 1;\">Classification</text></g><g class=\"xtick\"><text text-anchor=\"end\" x=\"-1.75\" y=\"549\" transform=\"translate(535.79,0) rotate(-90,-1.75,544)\" style=\"font-family: 'Open Sans', verdana, arial, sans-serif; font-size: 10px; fill: rgb(36, 36, 36); fill-opacity: 1; white-space: pre; opacity: 1;\">Closed QA</text></g><g class=\"xtick\"><text text-anchor=\"end\" x=\"-1.75\" y=\"549\" transform=\"translate(564.52,0) rotate(-90,-1.75,544)\" style=\"font-family: 'Open Sans', verdana, arial, sans-serif; font-size: 10px; fill: rgb(36, 36, 36); fill-opacity: 1; white-space: pre; opacity: 1;\">Coding</text></g><g class=\"xtick\"><text text-anchor=\"end\" x=\"-1.75\" y=\"549\" transform=\"translate(593.25,0) rotate(-90,-1.75,544)\" style=\"font-family: 'Open Sans', verdana, arial, sans-serif; font-size: 10px; fill: rgb(36, 36, 36); fill-opacity: 1; white-space: pre; opacity: 1;\">Creative Writing</text></g><g class=\"xtick\"><text text-anchor=\"end\" x=\"-1.75\" y=\"549\" transform=\"translate(621.98,0) rotate(-90,-1.75,544)\" style=\"font-family: 'Open Sans', verdana, arial, sans-serif; font-size: 10px; fill: rgb(36, 36, 36); fill-opacity: 1; white-space: pre; opacity: 1;\">Extraction</text></g><g class=\"xtick\"><text text-anchor=\"end\" x=\"-1.75\" y=\"549\" transform=\"translate(650.71,0) rotate(-90,-1.75,544)\" style=\"font-family: 'Open Sans', verdana, arial, sans-serif; font-size: 10px; fill: rgb(36, 36, 36); fill-opacity: 1; white-space: pre; opacity: 1;\">Mathematical Reasoning</text></g><g class=\"xtick\"><text text-anchor=\"end\" x=\"-1.75\" y=\"549\" transform=\"translate(679.44,0) rotate(-90,-1.75,544)\" style=\"font-family: 'Open Sans', verdana, arial, sans-serif; font-size: 10px; fill: rgb(36, 36, 36); fill-opacity: 1; white-space: pre; opacity: 1;\">Open QA</text></g><g class=\"xtick\"><text text-anchor=\"end\" x=\"-1.75\" y=\"549\" transform=\"translate(708.17,0) rotate(-90,-1.75,544)\" style=\"font-family: 'Open Sans', verdana, arial, sans-serif; font-size: 10px; fill: rgb(36, 36, 36); fill-opacity: 1; white-space: pre; opacity: 1;\">Poetry</text></g><g class=\"xtick\"><text text-anchor=\"end\" x=\"-1.75\" y=\"549\" transform=\"translate(736.9,0) rotate(-90,-1.75,544)\" style=\"font-family: 'Open Sans', verdana, arial, sans-serif; font-size: 10px; fill: rgb(36, 36, 36); fill-opacity: 1; white-space: pre; opacity: 1;\">Rewriting</text></g><g class=\"xtick\"><text text-anchor=\"end\" x=\"-1.75\" y=\"549\" transform=\"translate(765.63,0) rotate(-90,-1.75,544)\" style=\"font-family: 'Open Sans', verdana, arial, sans-serif; font-size: 10px; fill: rgb(36, 36, 36); fill-opacity: 1; white-space: pre; opacity: 1;\">Summarization</text></g><g class=\"xtick2\"><text text-anchor=\"middle\" x=\"-1.75\" y=\"686.515625\" transform=\"translate(219.75,0)\" style=\"font-family: 'Open Sans', verdana, arial, sans-serif; font-size: 10px; fill: rgb(36, 36, 36); fill-opacity: 1; white-space: pre; opacity: 1;\">Hyperspecific</text></g><g class=\"xtick2\"><text text-anchor=\"middle\" x=\"-1.75\" y=\"686.515625\" transform=\"translate(593.25,0)\" style=\"font-family: 'Open Sans', verdana, arial, sans-serif; font-size: 10px; fill: rgb(36, 36, 36); fill-opacity: 1; white-space: pre; opacity: 1;\">Simple</text></g></g><g class=\"yaxislayer-above\"><path class=\"ytick ticks crisp\" d=\"M32,0h-5\" transform=\"translate(0,539)\" style=\"stroke: rgb(68, 68, 68); stroke-opacity: 1; stroke-width: 1px;\"/><path class=\"ytick ticks crisp\" d=\"M32,0h-5\" transform=\"translate(0,473.7)\" style=\"stroke: rgb(68, 68, 68); stroke-opacity: 1; stroke-width: 1px;\"/><path class=\"ytick ticks crisp\" d=\"M32,0h-5\" transform=\"translate(0,408.41)\" style=\"stroke: rgb(68, 68, 68); stroke-opacity: 1; stroke-width: 1px;\"/><path class=\"ytick ticks crisp\" d=\"M32,0h-5\" transform=\"translate(0,343.11)\" style=\"stroke: rgb(68, 68, 68); stroke-opacity: 1; stroke-width: 1px;\"/><path class=\"ytick ticks crisp\" d=\"M32,0h-5\" transform=\"translate(0,277.82)\" style=\"stroke: rgb(68, 68, 68); stroke-opacity: 1; stroke-width: 1px;\"/><path class=\"ytick ticks crisp\" d=\"M32,0h-5\" transform=\"translate(0,212.52)\" style=\"stroke: rgb(68, 68, 68); stroke-opacity: 1; stroke-width: 1px;\"/><path class=\"ytick ticks crisp\" d=\"M32,0h-5\" transform=\"translate(0,147.23000000000002)\" style=\"stroke: rgb(68, 68, 68); stroke-opacity: 1; stroke-width: 1px;\"/><path class=\"ytick ticks crisp\" d=\"M32,0h-5\" transform=\"translate(0,81.93)\" style=\"stroke: rgb(68, 68, 68); stroke-opacity: 1; stroke-width: 1px;\"/><g class=\"ytick\"><text text-anchor=\"end\" x=\"25\" y=\"3.5\" transform=\"translate(0,539)\" style=\"font-family: 'Open Sans', verdana, arial, sans-serif; font-size: 10px; fill: rgb(36, 36, 36); fill-opacity: 1; white-space: pre; opacity: 1;\">0</text></g><g class=\"ytick\"><text text-anchor=\"end\" x=\"25\" y=\"3.5\" style=\"font-family: 'Open Sans', verdana, arial, sans-serif; font-size: 10px; fill: rgb(36, 36, 36); fill-opacity: 1; white-space: pre; opacity: 1;\" transform=\"translate(0,473.7)\">10</text></g><g class=\"ytick\"><text text-anchor=\"end\" x=\"25\" y=\"3.5\" style=\"font-family: 'Open Sans', verdana, arial, sans-serif; font-size: 10px; fill: rgb(36, 36, 36); fill-opacity: 1; white-space: pre; opacity: 1;\" transform=\"translate(0,408.41)\">20</text></g><g class=\"ytick\"><text text-anchor=\"end\" x=\"25\" y=\"3.5\" style=\"font-family: 'Open Sans', verdana, arial, sans-serif; font-size: 10px; fill: rgb(36, 36, 36); fill-opacity: 1; white-space: pre; opacity: 1;\" transform=\"translate(0,343.11)\">30</text></g><g class=\"ytick\"><text text-anchor=\"end\" x=\"25\" y=\"3.5\" style=\"font-family: 'Open Sans', verdana, arial, sans-serif; font-size: 10px; fill: rgb(36, 36, 36); fill-opacity: 1; white-space: pre; opacity: 1;\" transform=\"translate(0,277.82)\">40</text></g><g class=\"ytick\"><text text-anchor=\"end\" x=\"25\" y=\"3.5\" style=\"font-family: 'Open Sans', verdana, arial, sans-serif; font-size: 10px; fill: rgb(36, 36, 36); fill-opacity: 1; white-space: pre; opacity: 1;\" transform=\"translate(0,212.52)\">50</text></g><g class=\"ytick\"><text text-anchor=\"end\" x=\"25\" y=\"3.5\" style=\"font-family: 'Open Sans', verdana, arial, sans-serif; font-size: 10px; fill: rgb(36, 36, 36); fill-opacity: 1; white-space: pre; opacity: 1;\" transform=\"translate(0,147.23000000000002)\">60</text></g><g class=\"ytick\"><text text-anchor=\"end\" x=\"25\" y=\"3.5\" style=\"font-family: 'Open Sans', verdana, arial, sans-serif; font-size: 10px; fill: rgb(36, 36, 36); fill-opacity: 1; white-space: pre; opacity: 1;\" transform=\"translate(0,81.93)\">70</text></g></g><g class=\"overaxes-above\"/></g></g><g class=\"polarlayer\"/><g class=\"smithlayer\"/><g class=\"ternarylayer\"/><g class=\"geolayer\"/><g class=\"funnelarealayer\"/><g class=\"pielayer\"/><g class=\"iciclelayer\"/><g class=\"treemaplayer\"/><g class=\"sunburstlayer\"/><g class=\"glimages\"/><defs id=\"topdefs-4c6cfc\"><g class=\"clips\"/><clipPath id=\"legend4c6cfc\"><rect width=\"310\" height=\"29\" x=\"0\" y=\"0\"/></clipPath></defs><g class=\"layer-above\"><g class=\"imagelayer\"/><g class=\"shapelayer\"/></g><g class=\"infolayer\"><g class=\"legend\" pointer-events=\"all\" transform=\"translate(33,12.239999999999995)\"><rect class=\"bg\" shape-rendering=\"crispEdges\" width=\"310\" height=\"29\" x=\"0\" y=\"0\" style=\"stroke: rgb(68, 68, 68); stroke-opacity: 1; fill: rgb(255, 255, 255); fill-opacity: 1; stroke-width: 0px;\"/><g class=\"scrollbox\" transform=\"\" clip-path=\"url(#legend4c6cfc)\"><text class=\"legendtitletext\" text-anchor=\"start\" x=\"2\" y=\"15.600000000000001\" style=\"font-family: 'Open Sans', verdana, arial, sans-serif; font-size: 12px; fill: rgb(36, 36, 36); fill-opacity: 1; white-space: pre;\">Preference:</text><g class=\"groups\"><g class=\"traces\" transform=\"translate(79.59375,14.5)\" style=\"opacity: 1;\"><text class=\"legendtext\" text-anchor=\"start\" x=\"40\" y=\"3.9\" style=\"font-family: 'Open Sans', verdana, arial, sans-serif; font-size: 10px; fill: rgb(36, 36, 36); fill-opacity: 1; white-space: pre;\">Bard</text><g class=\"layers\" style=\"opacity: 1;\"><g class=\"legendfill\"/><g class=\"legendlines\"/><g class=\"legendsymbols\"><g class=\"legendpoints\"><path class=\"legendundefined\" d=\"M6,6H-6V-6H6Z\" transform=\"translate(20,0)\" style=\"stroke-width: 0.5px; fill: rgb(26, 94, 143); fill-opacity: 1; stroke: rgb(255, 255, 255); stroke-opacity: 1;\"/></g></g></g><rect class=\"legendtoggle\" x=\"0\" y=\"-9.5\" width=\"65.859375\" height=\"19\" style=\"fill: rgb(0, 0, 0); fill-opacity: 0;\"/></g><g class=\"traces\" transform=\"translate(147.953125,14.5)\" style=\"opacity: 1;\"><text class=\"legendtext\" text-anchor=\"start\" x=\"40\" y=\"3.9\" style=\"font-family: 'Open Sans', verdana, arial, sans-serif; font-size: 10px; fill: rgb(36, 36, 36); fill-opacity: 1; white-space: pre;\">ChatGPT</text><g class=\"layers\" style=\"opacity: 1;\"><g class=\"legendfill\"/><g class=\"legendlines\"/><g class=\"legendsymbols\"><g class=\"legendpoints\"><path class=\"legendundefined\" d=\"M6,6H-6V-6H6Z\" transform=\"translate(20,0)\" style=\"stroke-width: 0.5px; fill: rgb(246, 73, 117); fill-opacity: 1; stroke: rgb(255, 255, 255); stroke-opacity: 1;\"/></g></g></g><rect class=\"legendtoggle\" x=\"0\" y=\"-9.5\" width=\"85.703125\" height=\"19\" style=\"fill: rgb(0, 0, 0); fill-opacity: 0;\"/></g><g class=\"traces\" transform=\"translate(236.15625,14.5)\" style=\"opacity: 1;\"><text class=\"legendtext\" text-anchor=\"start\" x=\"40\" y=\"3.9\" style=\"font-family: 'Open Sans', verdana, arial, sans-serif; font-size: 10px; fill: rgb(36, 36, 36); fill-opacity: 1; white-space: pre;\">Same</text><g class=\"layers\" style=\"opacity: 1;\"><g class=\"legendfill\"/><g class=\"legendlines\"/><g class=\"legendsymbols\"><g class=\"legendpoints\"><path class=\"legendundefined\" d=\"M6,6H-6V-6H6Z\" transform=\"translate(20,0)\" style=\"stroke-width: 0.5px; fill: rgb(211, 211, 211); fill-opacity: 1; stroke: rgb(255, 255, 255); stroke-opacity: 1;\"/></g></g></g><rect class=\"legendtoggle\" x=\"0\" y=\"-9.5\" width=\"71.03125\" height=\"19\" style=\"fill: rgb(0, 0, 0); fill-opacity: 0;\"/></g></g></g><rect class=\"scrollbar\" rx=\"20\" ry=\"3\" width=\"0\" height=\"0\" x=\"0\" y=\"0\" style=\"fill: rgb(128, 139, 164); fill-opacity: 1;\"/></g><g class=\"g-gtitle\"/><g class=\"g-xtitle\"/><g class=\"g-ytitle\"/></g></svg>",
            "application/vnd.plotly.v1+json": {
              "data": [
                {
                  "marker": {
                    "color": "#1a5e8f"
                  },
                  "name": "Bard",
                  "width": 0.8,
                  "x": [
                    [
                      "Hyperspecific",
                      "Simple",
                      "Hyperspecific",
                      "Simple",
                      "Hyperspecific",
                      "Simple",
                      "Hyperspecific",
                      "Simple",
                      "Hyperspecific",
                      "Simple",
                      "Hyperspecific",
                      "Simple",
                      "Hyperspecific",
                      "Simple",
                      "Hyperspecific",
                      "Simple",
                      "Hyperspecific",
                      "Simple",
                      "Hyperspecific",
                      "Simple",
                      "Hyperspecific",
                      "Simple",
                      "Hyperspecific",
                      "Simple",
                      "Hyperspecific",
                      "Simple"
                    ],
                    [
                      "Adversarial Dishonesty",
                      "Adversarial Dishonesty",
                      "Adversarial Harmfulness",
                      "Adversarial Harmfulness",
                      "Brainstorming",
                      "Brainstorming",
                      "Classification",
                      "Classification",
                      "Closed QA",
                      "Closed QA",
                      "Coding",
                      "Coding",
                      "Creative Writing",
                      "Creative Writing",
                      "Extraction",
                      "Extraction",
                      "Mathematical Reasoning",
                      "Mathematical Reasoning",
                      "Open QA",
                      "Open QA",
                      "Poetry",
                      "Poetry",
                      "Rewriting",
                      "Rewriting",
                      "Summarization",
                      "Summarization"
                    ]
                  ],
                  "y": [
                    5,
                    10,
                    3,
                    15,
                    11,
                    4,
                    6,
                    14,
                    6,
                    22,
                    6,
                    5,
                    8,
                    7,
                    8,
                    9,
                    8,
                    17,
                    6,
                    23,
                    8,
                    2,
                    8,
                    7,
                    8,
                    20
                  ],
                  "type": "bar"
                },
                {
                  "marker": {
                    "color": "#f64975"
                  },
                  "name": "ChatGPT",
                  "width": 0.8,
                  "x": [
                    [
                      "Hyperspecific",
                      "Simple",
                      "Hyperspecific",
                      "Simple",
                      "Hyperspecific",
                      "Simple",
                      "Hyperspecific",
                      "Simple",
                      "Hyperspecific",
                      "Simple",
                      "Hyperspecific",
                      "Simple",
                      "Hyperspecific",
                      "Simple",
                      "Hyperspecific",
                      "Simple",
                      "Hyperspecific",
                      "Simple",
                      "Hyperspecific",
                      "Simple",
                      "Hyperspecific",
                      "Simple",
                      "Hyperspecific",
                      "Simple",
                      "Hyperspecific",
                      "Simple"
                    ],
                    [
                      "Adversarial Dishonesty",
                      "Adversarial Dishonesty",
                      "Adversarial Harmfulness",
                      "Adversarial Harmfulness",
                      "Brainstorming",
                      "Brainstorming",
                      "Classification",
                      "Classification",
                      "Closed QA",
                      "Closed QA",
                      "Coding",
                      "Coding",
                      "Creative Writing",
                      "Creative Writing",
                      "Extraction",
                      "Extraction",
                      "Mathematical Reasoning",
                      "Mathematical Reasoning",
                      "Open QA",
                      "Open QA",
                      "Poetry",
                      "Poetry",
                      "Rewriting",
                      "Rewriting",
                      "Summarization",
                      "Summarization"
                    ]
                  ],
                  "y": [
                    10,
                    33,
                    11,
                    18,
                    42,
                    9,
                    12,
                    22,
                    18,
                    27,
                    18,
                    20,
                    55,
                    18,
                    22,
                    23,
                    19,
                    20,
                    10,
                    27,
                    42,
                    24,
                    26,
                    26,
                    14,
                    28
                  ],
                  "type": "bar"
                },
                {
                  "marker": {
                    "color": "lightgrey"
                  },
                  "name": "Same",
                  "width": 0.8,
                  "x": [
                    [
                      "Hyperspecific",
                      "Simple",
                      "Hyperspecific",
                      "Simple",
                      "Hyperspecific",
                      "Simple",
                      "Hyperspecific",
                      "Simple",
                      "Hyperspecific",
                      "Simple",
                      "Hyperspecific",
                      "Simple",
                      "Hyperspecific",
                      "Simple",
                      "Hyperspecific",
                      "Simple",
                      "Hyperspecific",
                      "Simple",
                      "Hyperspecific",
                      "Simple",
                      "Hyperspecific",
                      "Simple",
                      "Hyperspecific",
                      "Simple",
                      "Hyperspecific",
                      "Simple"
                    ],
                    [
                      "Adversarial Dishonesty",
                      "Adversarial Dishonesty",
                      "Adversarial Harmfulness",
                      "Adversarial Harmfulness",
                      "Brainstorming",
                      "Brainstorming",
                      "Classification",
                      "Classification",
                      "Closed QA",
                      "Closed QA",
                      "Coding",
                      "Coding",
                      "Creative Writing",
                      "Creative Writing",
                      "Extraction",
                      "Extraction",
                      "Mathematical Reasoning",
                      "Mathematical Reasoning",
                      "Open QA",
                      "Open QA",
                      "Poetry",
                      "Poetry",
                      "Rewriting",
                      "Rewriting",
                      "Summarization",
                      "Summarization"
                    ]
                  ],
                  "y": [
                    5,
                    7,
                    6,
                    17,
                    8,
                    2,
                    5,
                    10,
                    3,
                    17,
                    1,
                    3,
                    8,
                    3,
                    9,
                    6,
                    9,
                    7,
                    4,
                    16,
                    2,
                    1,
                    3,
                    4,
                    2,
                    5
                  ],
                  "type": "bar"
                }
              ],
              "layout": {
                "template": {
                  "data": {
                    "barpolar": [
                      {
                        "marker": {
                          "line": {
                            "color": "white",
                            "width": 0.5
                          },
                          "pattern": {
                            "fillmode": "overlay",
                            "size": 10,
                            "solidity": 0.2
                          }
                        },
                        "type": "barpolar"
                      }
                    ],
                    "bar": [
                      {
                        "error_x": {
                          "color": "rgb(36,36,36)"
                        },
                        "error_y": {
                          "color": "rgb(36,36,36)"
                        },
                        "marker": {
                          "line": {
                            "color": "white",
                            "width": 0.5
                          },
                          "pattern": {
                            "fillmode": "overlay",
                            "size": 10,
                            "solidity": 0.2
                          }
                        },
                        "type": "bar"
                      }
                    ],
                    "carpet": [
                      {
                        "aaxis": {
                          "endlinecolor": "rgb(36,36,36)",
                          "gridcolor": "white",
                          "linecolor": "white",
                          "minorgridcolor": "white",
                          "startlinecolor": "rgb(36,36,36)"
                        },
                        "baxis": {
                          "endlinecolor": "rgb(36,36,36)",
                          "gridcolor": "white",
                          "linecolor": "white",
                          "minorgridcolor": "white",
                          "startlinecolor": "rgb(36,36,36)"
                        },
                        "type": "carpet"
                      }
                    ],
                    "choropleth": [
                      {
                        "colorbar": {
                          "outlinewidth": 1,
                          "tickcolor": "rgb(36,36,36)",
                          "ticks": "outside"
                        },
                        "type": "choropleth"
                      }
                    ],
                    "contourcarpet": [
                      {
                        "colorbar": {
                          "outlinewidth": 1,
                          "tickcolor": "rgb(36,36,36)",
                          "ticks": "outside"
                        },
                        "type": "contourcarpet"
                      }
                    ],
                    "contour": [
                      {
                        "colorbar": {
                          "outlinewidth": 1,
                          "tickcolor": "rgb(36,36,36)",
                          "ticks": "outside"
                        },
                        "colorscale": [
                          [
                            0,
                            "#440154"
                          ],
                          [
                            0.1111111111111111,
                            "#482878"
                          ],
                          [
                            0.2222222222222222,
                            "#3e4989"
                          ],
                          [
                            0.3333333333333333,
                            "#31688e"
                          ],
                          [
                            0.4444444444444444,
                            "#26828e"
                          ],
                          [
                            0.5555555555555556,
                            "#1f9e89"
                          ],
                          [
                            0.6666666666666666,
                            "#35b779"
                          ],
                          [
                            0.7777777777777778,
                            "#6ece58"
                          ],
                          [
                            0.8888888888888888,
                            "#b5de2b"
                          ],
                          [
                            1,
                            "#fde725"
                          ]
                        ],
                        "type": "contour"
                      }
                    ],
                    "heatmapgl": [
                      {
                        "colorbar": {
                          "outlinewidth": 1,
                          "tickcolor": "rgb(36,36,36)",
                          "ticks": "outside"
                        },
                        "colorscale": [
                          [
                            0,
                            "#440154"
                          ],
                          [
                            0.1111111111111111,
                            "#482878"
                          ],
                          [
                            0.2222222222222222,
                            "#3e4989"
                          ],
                          [
                            0.3333333333333333,
                            "#31688e"
                          ],
                          [
                            0.4444444444444444,
                            "#26828e"
                          ],
                          [
                            0.5555555555555556,
                            "#1f9e89"
                          ],
                          [
                            0.6666666666666666,
                            "#35b779"
                          ],
                          [
                            0.7777777777777778,
                            "#6ece58"
                          ],
                          [
                            0.8888888888888888,
                            "#b5de2b"
                          ],
                          [
                            1,
                            "#fde725"
                          ]
                        ],
                        "type": "heatmapgl"
                      }
                    ],
                    "heatmap": [
                      {
                        "colorbar": {
                          "outlinewidth": 1,
                          "tickcolor": "rgb(36,36,36)",
                          "ticks": "outside"
                        },
                        "colorscale": [
                          [
                            0,
                            "#440154"
                          ],
                          [
                            0.1111111111111111,
                            "#482878"
                          ],
                          [
                            0.2222222222222222,
                            "#3e4989"
                          ],
                          [
                            0.3333333333333333,
                            "#31688e"
                          ],
                          [
                            0.4444444444444444,
                            "#26828e"
                          ],
                          [
                            0.5555555555555556,
                            "#1f9e89"
                          ],
                          [
                            0.6666666666666666,
                            "#35b779"
                          ],
                          [
                            0.7777777777777778,
                            "#6ece58"
                          ],
                          [
                            0.8888888888888888,
                            "#b5de2b"
                          ],
                          [
                            1,
                            "#fde725"
                          ]
                        ],
                        "type": "heatmap"
                      }
                    ],
                    "histogram2dcontour": [
                      {
                        "colorbar": {
                          "outlinewidth": 1,
                          "tickcolor": "rgb(36,36,36)",
                          "ticks": "outside"
                        },
                        "colorscale": [
                          [
                            0,
                            "#440154"
                          ],
                          [
                            0.1111111111111111,
                            "#482878"
                          ],
                          [
                            0.2222222222222222,
                            "#3e4989"
                          ],
                          [
                            0.3333333333333333,
                            "#31688e"
                          ],
                          [
                            0.4444444444444444,
                            "#26828e"
                          ],
                          [
                            0.5555555555555556,
                            "#1f9e89"
                          ],
                          [
                            0.6666666666666666,
                            "#35b779"
                          ],
                          [
                            0.7777777777777778,
                            "#6ece58"
                          ],
                          [
                            0.8888888888888888,
                            "#b5de2b"
                          ],
                          [
                            1,
                            "#fde725"
                          ]
                        ],
                        "type": "histogram2dcontour"
                      }
                    ],
                    "histogram2d": [
                      {
                        "colorbar": {
                          "outlinewidth": 1,
                          "tickcolor": "rgb(36,36,36)",
                          "ticks": "outside"
                        },
                        "colorscale": [
                          [
                            0,
                            "#440154"
                          ],
                          [
                            0.1111111111111111,
                            "#482878"
                          ],
                          [
                            0.2222222222222222,
                            "#3e4989"
                          ],
                          [
                            0.3333333333333333,
                            "#31688e"
                          ],
                          [
                            0.4444444444444444,
                            "#26828e"
                          ],
                          [
                            0.5555555555555556,
                            "#1f9e89"
                          ],
                          [
                            0.6666666666666666,
                            "#35b779"
                          ],
                          [
                            0.7777777777777778,
                            "#6ece58"
                          ],
                          [
                            0.8888888888888888,
                            "#b5de2b"
                          ],
                          [
                            1,
                            "#fde725"
                          ]
                        ],
                        "type": "histogram2d"
                      }
                    ],
                    "histogram": [
                      {
                        "marker": {
                          "line": {
                            "color": "white",
                            "width": 0.6
                          }
                        },
                        "type": "histogram"
                      }
                    ],
                    "mesh3d": [
                      {
                        "colorbar": {
                          "outlinewidth": 1,
                          "tickcolor": "rgb(36,36,36)",
                          "ticks": "outside"
                        },
                        "type": "mesh3d"
                      }
                    ],
                    "parcoords": [
                      {
                        "line": {
                          "colorbar": {
                            "outlinewidth": 1,
                            "tickcolor": "rgb(36,36,36)",
                            "ticks": "outside"
                          }
                        },
                        "type": "parcoords"
                      }
                    ],
                    "pie": [
                      {
                        "automargin": true,
                        "type": "pie"
                      }
                    ],
                    "scatter3d": [
                      {
                        "line": {
                          "colorbar": {
                            "outlinewidth": 1,
                            "tickcolor": "rgb(36,36,36)",
                            "ticks": "outside"
                          }
                        },
                        "marker": {
                          "colorbar": {
                            "outlinewidth": 1,
                            "tickcolor": "rgb(36,36,36)",
                            "ticks": "outside"
                          }
                        },
                        "type": "scatter3d"
                      }
                    ],
                    "scattercarpet": [
                      {
                        "marker": {
                          "colorbar": {
                            "outlinewidth": 1,
                            "tickcolor": "rgb(36,36,36)",
                            "ticks": "outside"
                          }
                        },
                        "type": "scattercarpet"
                      }
                    ],
                    "scattergeo": [
                      {
                        "marker": {
                          "colorbar": {
                            "outlinewidth": 1,
                            "tickcolor": "rgb(36,36,36)",
                            "ticks": "outside"
                          }
                        },
                        "type": "scattergeo"
                      }
                    ],
                    "scattergl": [
                      {
                        "marker": {
                          "colorbar": {
                            "outlinewidth": 1,
                            "tickcolor": "rgb(36,36,36)",
                            "ticks": "outside"
                          }
                        },
                        "type": "scattergl"
                      }
                    ],
                    "scattermapbox": [
                      {
                        "marker": {
                          "colorbar": {
                            "outlinewidth": 1,
                            "tickcolor": "rgb(36,36,36)",
                            "ticks": "outside"
                          }
                        },
                        "type": "scattermapbox"
                      }
                    ],
                    "scatterpolargl": [
                      {
                        "marker": {
                          "colorbar": {
                            "outlinewidth": 1,
                            "tickcolor": "rgb(36,36,36)",
                            "ticks": "outside"
                          }
                        },
                        "type": "scatterpolargl"
                      }
                    ],
                    "scatterpolar": [
                      {
                        "marker": {
                          "colorbar": {
                            "outlinewidth": 1,
                            "tickcolor": "rgb(36,36,36)",
                            "ticks": "outside"
                          }
                        },
                        "type": "scatterpolar"
                      }
                    ],
                    "scatter": [
                      {
                        "fillpattern": {
                          "fillmode": "overlay",
                          "size": 10,
                          "solidity": 0.2
                        },
                        "type": "scatter"
                      }
                    ],
                    "scatterternary": [
                      {
                        "marker": {
                          "colorbar": {
                            "outlinewidth": 1,
                            "tickcolor": "rgb(36,36,36)",
                            "ticks": "outside"
                          }
                        },
                        "type": "scatterternary"
                      }
                    ],
                    "surface": [
                      {
                        "colorbar": {
                          "outlinewidth": 1,
                          "tickcolor": "rgb(36,36,36)",
                          "ticks": "outside"
                        },
                        "colorscale": [
                          [
                            0,
                            "#440154"
                          ],
                          [
                            0.1111111111111111,
                            "#482878"
                          ],
                          [
                            0.2222222222222222,
                            "#3e4989"
                          ],
                          [
                            0.3333333333333333,
                            "#31688e"
                          ],
                          [
                            0.4444444444444444,
                            "#26828e"
                          ],
                          [
                            0.5555555555555556,
                            "#1f9e89"
                          ],
                          [
                            0.6666666666666666,
                            "#35b779"
                          ],
                          [
                            0.7777777777777778,
                            "#6ece58"
                          ],
                          [
                            0.8888888888888888,
                            "#b5de2b"
                          ],
                          [
                            1,
                            "#fde725"
                          ]
                        ],
                        "type": "surface"
                      }
                    ],
                    "table": [
                      {
                        "cells": {
                          "fill": {
                            "color": "rgb(237,237,237)"
                          },
                          "line": {
                            "color": "white"
                          }
                        },
                        "header": {
                          "fill": {
                            "color": "rgb(217,217,217)"
                          },
                          "line": {
                            "color": "white"
                          }
                        },
                        "type": "table"
                      }
                    ]
                  },
                  "layout": {
                    "annotationdefaults": {
                      "arrowhead": 0,
                      "arrowwidth": 1
                    },
                    "autotypenumbers": "strict",
                    "coloraxis": {
                      "colorbar": {
                        "outlinewidth": 1,
                        "tickcolor": "rgb(36,36,36)",
                        "ticks": "outside"
                      }
                    },
                    "colorscale": {
                      "diverging": [
                        [
                          0,
                          "rgb(103,0,31)"
                        ],
                        [
                          0.1,
                          "rgb(178,24,43)"
                        ],
                        [
                          0.2,
                          "rgb(214,96,77)"
                        ],
                        [
                          0.3,
                          "rgb(244,165,130)"
                        ],
                        [
                          0.4,
                          "rgb(253,219,199)"
                        ],
                        [
                          0.5,
                          "rgb(247,247,247)"
                        ],
                        [
                          0.6,
                          "rgb(209,229,240)"
                        ],
                        [
                          0.7,
                          "rgb(146,197,222)"
                        ],
                        [
                          0.8,
                          "rgb(67,147,195)"
                        ],
                        [
                          0.9,
                          "rgb(33,102,172)"
                        ],
                        [
                          1,
                          "rgb(5,48,97)"
                        ]
                      ],
                      "sequential": [
                        [
                          0,
                          "#440154"
                        ],
                        [
                          0.1111111111111111,
                          "#482878"
                        ],
                        [
                          0.2222222222222222,
                          "#3e4989"
                        ],
                        [
                          0.3333333333333333,
                          "#31688e"
                        ],
                        [
                          0.4444444444444444,
                          "#26828e"
                        ],
                        [
                          0.5555555555555556,
                          "#1f9e89"
                        ],
                        [
                          0.6666666666666666,
                          "#35b779"
                        ],
                        [
                          0.7777777777777778,
                          "#6ece58"
                        ],
                        [
                          0.8888888888888888,
                          "#b5de2b"
                        ],
                        [
                          1,
                          "#fde725"
                        ]
                      ],
                      "sequentialminus": [
                        [
                          0,
                          "#440154"
                        ],
                        [
                          0.1111111111111111,
                          "#482878"
                        ],
                        [
                          0.2222222222222222,
                          "#3e4989"
                        ],
                        [
                          0.3333333333333333,
                          "#31688e"
                        ],
                        [
                          0.4444444444444444,
                          "#26828e"
                        ],
                        [
                          0.5555555555555556,
                          "#1f9e89"
                        ],
                        [
                          0.6666666666666666,
                          "#35b779"
                        ],
                        [
                          0.7777777777777778,
                          "#6ece58"
                        ],
                        [
                          0.8888888888888888,
                          "#b5de2b"
                        ],
                        [
                          1,
                          "#fde725"
                        ]
                      ]
                    },
                    "colorway": [
                      "#1F77B4",
                      "#FF7F0E",
                      "#2CA02C",
                      "#D62728",
                      "#9467BD",
                      "#8C564B",
                      "#E377C2",
                      "#7F7F7F",
                      "#BCBD22",
                      "#17BECF"
                    ],
                    "font": {
                      "color": "rgb(36,36,36)"
                    },
                    "geo": {
                      "bgcolor": "white",
                      "lakecolor": "white",
                      "landcolor": "white",
                      "showlakes": true,
                      "showland": true,
                      "subunitcolor": "white"
                    },
                    "hoverlabel": {
                      "align": "left"
                    },
                    "hovermode": "closest",
                    "mapbox": {
                      "style": "light"
                    },
                    "paper_bgcolor": "white",
                    "plot_bgcolor": "white",
                    "polar": {
                      "angularaxis": {
                        "gridcolor": "rgb(232,232,232)",
                        "linecolor": "rgb(36,36,36)",
                        "showgrid": false,
                        "showline": true,
                        "ticks": "outside"
                      },
                      "bgcolor": "white",
                      "radialaxis": {
                        "gridcolor": "rgb(232,232,232)",
                        "linecolor": "rgb(36,36,36)",
                        "showgrid": false,
                        "showline": true,
                        "ticks": "outside"
                      }
                    },
                    "scene": {
                      "xaxis": {
                        "backgroundcolor": "white",
                        "gridcolor": "rgb(232,232,232)",
                        "gridwidth": 2,
                        "linecolor": "rgb(36,36,36)",
                        "showbackground": true,
                        "showgrid": false,
                        "showline": true,
                        "ticks": "outside",
                        "zeroline": false,
                        "zerolinecolor": "rgb(36,36,36)"
                      },
                      "yaxis": {
                        "backgroundcolor": "white",
                        "gridcolor": "rgb(232,232,232)",
                        "gridwidth": 2,
                        "linecolor": "rgb(36,36,36)",
                        "showbackground": true,
                        "showgrid": false,
                        "showline": true,
                        "ticks": "outside",
                        "zeroline": false,
                        "zerolinecolor": "rgb(36,36,36)"
                      },
                      "zaxis": {
                        "backgroundcolor": "white",
                        "gridcolor": "rgb(232,232,232)",
                        "gridwidth": 2,
                        "linecolor": "rgb(36,36,36)",
                        "showbackground": true,
                        "showgrid": false,
                        "showline": true,
                        "ticks": "outside",
                        "zeroline": false,
                        "zerolinecolor": "rgb(36,36,36)"
                      }
                    },
                    "shapedefaults": {
                      "fillcolor": "black",
                      "line": {
                        "width": 0
                      },
                      "opacity": 0.3
                    },
                    "ternary": {
                      "aaxis": {
                        "gridcolor": "rgb(232,232,232)",
                        "linecolor": "rgb(36,36,36)",
                        "showgrid": false,
                        "showline": true,
                        "ticks": "outside"
                      },
                      "baxis": {
                        "gridcolor": "rgb(232,232,232)",
                        "linecolor": "rgb(36,36,36)",
                        "showgrid": false,
                        "showline": true,
                        "ticks": "outside"
                      },
                      "bgcolor": "white",
                      "caxis": {
                        "gridcolor": "rgb(232,232,232)",
                        "linecolor": "rgb(36,36,36)",
                        "showgrid": false,
                        "showline": true,
                        "ticks": "outside"
                      }
                    },
                    "title": {
                      "x": 0.05
                    },
                    "xaxis": {
                      "automargin": true,
                      "gridcolor": "rgb(232,232,232)",
                      "linecolor": "rgb(36,36,36)",
                      "showgrid": false,
                      "showline": true,
                      "ticks": "outside",
                      "title": {
                        "standoff": 15
                      },
                      "zeroline": false,
                      "zerolinecolor": "rgb(36,36,36)"
                    },
                    "yaxis": {
                      "automargin": true,
                      "gridcolor": "rgb(232,232,232)",
                      "linecolor": "rgb(36,36,36)",
                      "showgrid": false,
                      "showline": true,
                      "ticks": "outside",
                      "title": {
                        "standoff": 15
                      },
                      "zeroline": false,
                      "zerolinecolor": "rgb(36,36,36)"
                    }
                  }
                },
                "title": {
                  "text": ""
                },
                "xaxis": {
                  "tickangle": -90
                },
                "bargap": 0,
                "font": {
                  "size": 10
                },
                "legend": {
                  "title": {
                    "text": "Preference:"
                  },
                  "orientation": "h",
                  "yanchor": "top",
                  "y": 10
                },
                "margin": {
                  "b": 40,
                  "t": 40,
                  "l": 20,
                  "r": 20
                },
                "barmode": "relative",
                "width": 800,
                "height": 700,
                "yaxis": {
                  "showgrid": true
                }
              },
              "config": {
                "plotlyServerURL": "https://plot.ly"
              }
            }
          },
          "metadata": {},
          "output_type": "display_data"
        }
      ],
      "execution_count": null
    },
    {
      "cell_type": "markdown",
      "id": "60fc5e1a-703b-427b-b43f-aa45c1c0846d",
      "metadata": {
        "id": "60fc5e1a-703b-427b-b43f-aa45c1c0846d"
      },
      "source": [
        "**Takeaways**\n",
        "\n",
        "---\n",
        "\n",
        "- The chart above with binned preferences shows that ChatGPT performed better than Bard in hyperspecific tasks.\n",
        "- The observation frequencies for simple requests in Adversarial Harmfulness, Closed QA, Mathematical Reasoning, and Open QA differ slightly. The statistical analysis will determine whether the model is statistically significant in these areas.\n"
      ]
    },
    {
      "cell_type": "markdown",
      "id": "13fa525291bda5a3",
      "metadata": {
        "id": "13fa525291bda5a3"
      },
      "source": [
        "## 3. Hypothesis Testing"
      ]
    },
    {
      "cell_type": "markdown",
      "id": "d0d2474d80118275",
      "metadata": {
        "id": "d0d2474d80118275"
      },
      "source": [
        "Here we will use statistical methods to:\n",
        "\n",
        "- Find out whether the prompt category and complexity impact the models rating.\n",
        "- Whether there is a difference in every group combination.\n",
        "\n",
        "$H_0:$ Preference is independent of the prompt category and complexity.\n",
        "\n",
        "$H_1:$ Preference is independent of the prompt category and complexity.\n",
        "\n",
        "$ \\alpha = 0.5$\n",
        "\n",
        "There are in total 26 combination - 13 categories x 2 levels of complexity. However, the dataset is imbalanced because some test combinations were replicated more times than others. Therefore, we will utilise parametric and non-parametric statistics to compare the results. The dataset rating results are in __Likert scale__ and numerical scale (Table 1, [1]). Two columns were added to bin the preference (Table 2) and run the tests with both data.\n",
        "\n",
        "**Total number of prompts**:  1003 (A prime number)\n",
        "\n",
        "\n",
        "<center>\n",
        "<table>\n",
        "<tr><th>Table 1: Preference and rating in Likert scale  </th><th>Table 2: Binned preference and rating </th></tr>\n",
        "<tr><td>\n",
        "\n",
        "|  Rating  | Preference              |\n",
        "|:--------:|-------------------------|\n",
        "|    1     | Bard slightly better    |\n",
        "|    2     | Bard better             |\n",
        "|    3     | Bard much better        |\n",
        "|    4     | About the same          |\n",
        "|    5     | ChatGPT slightly better |\n",
        "|    6     | ChatGPT better          |\n",
        "|    7     | ChatGPT much better     |\n",
        "\n",
        "</td><td>\n",
        "\n",
        "\n",
        "|  Binned Rating  | Binned Preference                                                         |\n",
        "|:---------------:|---------------------------------------------------------------------------|\n",
        "|      0 (4)      | Same (About the same)                                                     |\n",
        "|     1 (1-3)     | Bard (Bard much better, Bard better and Bard slightly better)             |\n",
        "|     2 (5-7)     | ChatGPT (ChatGPT much better, ChatGPT better and ChatGPT slightly better) |                                                      \n",
        "\n",
        "</td></tr> </table>\n",
        "\n",
        "</center>\n",
        "\n",
        "\n",
        "___\n",
        "\n",
        "**Statistical Analysis**\n",
        "\n",
        "\n",
        "---\n",
        "\n",
        "The methods to used in this analysis are:\n",
        "\n",
        "1. Contingency Tables - Nonparametric test for categorical frequencies.\n",
        "2. 2-way Analysis of Variance (ANOVA) - Parametric test which may not fulfil the normality, homogeneity of variance and independence assumption.\n",
        "3. Kruskal-Wallis - Nonparametric group comparison.\n",
        "\n",
        "If the test are significant with p-values < 0.05, post-hoc for the group comparison will be undertaken with following post-hoc test:\n",
        "\n",
        "1. Dunn\n",
        "\n",
        "\n",
        "References:\n",
        "[1] https://pmc.ncbi.nlm.nih.gov/articles/PMC3886444/\n",
        "\n"
      ]
    },
    {
      "cell_type": "markdown",
      "id": "22be76a462e3e0a4",
      "metadata": {
        "id": "22be76a462e3e0a4"
      },
      "source": [
        "### 3.1 Contingency Tables"
      ]
    },
    {
      "cell_type": "code",
      "id": "af8fb02130bec638",
      "metadata": {
        "ExecuteTime": {
          "end_time": "2025-02-21T17:02:29.878166Z",
          "start_time": "2025-02-21T17:02:29.833997Z"
        },
        "id": "af8fb02130bec638",
        "outputId": "0f031124-fb04-4e2d-9aa8-b4b77dcd2bc2"
      },
      "source": [
        "table_01 = pd.crosstab([df['Category'], df['Complexity']], df['Preference'])\n",
        "table_01"
      ],
      "outputs": [
        {
          "data": {
            "text/plain": [
              "Preference                             About the same  Bard better  \\\n",
              "Category                Complexity                                   \n",
              "Adversarial Dishonesty  Hyperspecific               5            1   \n",
              "                        Simple                      7            3   \n",
              "Adversarial Harmfulness Hyperspecific               6            1   \n",
              "                        Simple                     17            6   \n",
              "Brainstorming           Hyperspecific               8            4   \n",
              "                        Simple                      2            2   \n",
              "Classification          Hyperspecific               5            3   \n",
              "                        Simple                     10            6   \n",
              "Closed QA               Hyperspecific               3            3   \n",
              "                        Simple                     17            8   \n",
              "Coding                  Hyperspecific               1            3   \n",
              "                        Simple                      3            3   \n",
              "Creative Writing        Hyperspecific               8            4   \n",
              "                        Simple                      3            0   \n",
              "Extraction              Hyperspecific               9            3   \n",
              "                        Simple                      6            4   \n",
              "Mathematical Reasoning  Hyperspecific               9            4   \n",
              "                        Simple                      7            6   \n",
              "Open QA                 Hyperspecific               4            3   \n",
              "                        Simple                     16            6   \n",
              "Poetry                  Hyperspecific               2            3   \n",
              "                        Simple                      1            1   \n",
              "Rewriting               Hyperspecific               3            4   \n",
              "                        Simple                      4            3   \n",
              "Summarization           Hyperspecific               2            2   \n",
              "                        Simple                      5            7   \n",
              "\n",
              "Preference                             Bard much better  Bard slightly better  \\\n",
              "Category                Complexity                                              \n",
              "Adversarial Dishonesty  Hyperspecific                 2                     2   \n",
              "                        Simple                        2                     5   \n",
              "Adversarial Harmfulness Hyperspecific                 1                     1   \n",
              "                        Simple                        2                     7   \n",
              "Brainstorming           Hyperspecific                 3                     4   \n",
              "                        Simple                        1                     1   \n",
              "Classification          Hyperspecific                 2                     1   \n",
              "                        Simple                        2                     6   \n",
              "Closed QA               Hyperspecific                 1                     2   \n",
              "                        Simple                        4                    10   \n",
              "Coding                  Hyperspecific                 1                     2   \n",
              "                        Simple                        1                     1   \n",
              "Creative Writing        Hyperspecific                 1                     3   \n",
              "                        Simple                        2                     5   \n",
              "Extraction              Hyperspecific                 1                     4   \n",
              "                        Simple                        2                     3   \n",
              "Mathematical Reasoning  Hyperspecific                 3                     1   \n",
              "                        Simple                        9                     2   \n",
              "Open QA                 Hyperspecific                 2                     1   \n",
              "                        Simple                        1                    16   \n",
              "Poetry                  Hyperspecific                 2                     3   \n",
              "                        Simple                        0                     1   \n",
              "Rewriting               Hyperspecific                 1                     3   \n",
              "                        Simple                        2                     2   \n",
              "Summarization           Hyperspecific                 2                     4   \n",
              "                        Simple                        7                     6   \n",
              "\n",
              "Preference                             ChatGPT better  ChatGPT much better  \\\n",
              "Category                Complexity                                           \n",
              "Adversarial Dishonesty  Hyperspecific               4                    5   \n",
              "                        Simple                      5                   17   \n",
              "Adversarial Harmfulness Hyperspecific               1                    8   \n",
              "                        Simple                      5                    4   \n",
              "Brainstorming           Hyperspecific              12                   19   \n",
              "                        Simple                      2                    3   \n",
              "Classification          Hyperspecific               8                    3   \n",
              "                        Simple                      4                    9   \n",
              "Closed QA               Hyperspecific               5                    7   \n",
              "                        Simple                      8                   14   \n",
              "Coding                  Hyperspecific               2                   12   \n",
              "                        Simple                      7                    9   \n",
              "Creative Writing        Hyperspecific              19                   23   \n",
              "                        Simple                      6                   11   \n",
              "Extraction              Hyperspecific               3                   12   \n",
              "                        Simple                      7                    9   \n",
              "Mathematical Reasoning  Hyperspecific               8                    7   \n",
              "                        Simple                      7                    4   \n",
              "Open QA                 Hyperspecific               2                    4   \n",
              "                        Simple                     12                    7   \n",
              "Poetry                  Hyperspecific              21                   12   \n",
              "                        Simple                     10                    8   \n",
              "Rewriting               Hyperspecific               8                   11   \n",
              "                        Simple                     10                   13   \n",
              "Summarization           Hyperspecific               6                    4   \n",
              "                        Simple                     11                    7   \n",
              "\n",
              "Preference                             ChatGPT slightly better  \n",
              "Category                Complexity                              \n",
              "Adversarial Dishonesty  Hyperspecific                        1  \n",
              "                        Simple                              11  \n",
              "Adversarial Harmfulness Hyperspecific                        2  \n",
              "                        Simple                               9  \n",
              "Brainstorming           Hyperspecific                       11  \n",
              "                        Simple                               4  \n",
              "Classification          Hyperspecific                        1  \n",
              "                        Simple                               9  \n",
              "Closed QA               Hyperspecific                        6  \n",
              "                        Simple                               5  \n",
              "Coding                  Hyperspecific                        4  \n",
              "                        Simple                               4  \n",
              "Creative Writing        Hyperspecific                       13  \n",
              "                        Simple                               1  \n",
              "Extraction              Hyperspecific                        7  \n",
              "                        Simple                               7  \n",
              "Mathematical Reasoning  Hyperspecific                        4  \n",
              "                        Simple                               9  \n",
              "Open QA                 Hyperspecific                        4  \n",
              "                        Simple                               8  \n",
              "Poetry                  Hyperspecific                        9  \n",
              "                        Simple                               6  \n",
              "Rewriting               Hyperspecific                        7  \n",
              "                        Simple                               3  \n",
              "Summarization           Hyperspecific                        4  \n",
              "                        Simple                              10  "
            ],
            "text/html": [
              "<div>\n",
              "<style scoped>\n",
              "    .dataframe tbody tr th:only-of-type {\n",
              "        vertical-align: middle;\n",
              "    }\n",
              "\n",
              "    .dataframe tbody tr th {\n",
              "        vertical-align: top;\n",
              "    }\n",
              "\n",
              "    .dataframe thead th {\n",
              "        text-align: right;\n",
              "    }\n",
              "</style>\n",
              "<table border=\"1\" class=\"dataframe\">\n",
              "  <thead>\n",
              "    <tr style=\"text-align: right;\">\n",
              "      <th></th>\n",
              "      <th>Preference</th>\n",
              "      <th>About the same</th>\n",
              "      <th>Bard better</th>\n",
              "      <th>Bard much better</th>\n",
              "      <th>Bard slightly better</th>\n",
              "      <th>ChatGPT better</th>\n",
              "      <th>ChatGPT much better</th>\n",
              "      <th>ChatGPT slightly better</th>\n",
              "    </tr>\n",
              "    <tr>\n",
              "      <th>Category</th>\n",
              "      <th>Complexity</th>\n",
              "      <th></th>\n",
              "      <th></th>\n",
              "      <th></th>\n",
              "      <th></th>\n",
              "      <th></th>\n",
              "      <th></th>\n",
              "      <th></th>\n",
              "    </tr>\n",
              "  </thead>\n",
              "  <tbody>\n",
              "    <tr>\n",
              "      <th rowspan=\"2\" valign=\"top\">Adversarial Dishonesty</th>\n",
              "      <th>Hyperspecific</th>\n",
              "      <td>5</td>\n",
              "      <td>1</td>\n",
              "      <td>2</td>\n",
              "      <td>2</td>\n",
              "      <td>4</td>\n",
              "      <td>5</td>\n",
              "      <td>1</td>\n",
              "    </tr>\n",
              "    <tr>\n",
              "      <th>Simple</th>\n",
              "      <td>7</td>\n",
              "      <td>3</td>\n",
              "      <td>2</td>\n",
              "      <td>5</td>\n",
              "      <td>5</td>\n",
              "      <td>17</td>\n",
              "      <td>11</td>\n",
              "    </tr>\n",
              "    <tr>\n",
              "      <th rowspan=\"2\" valign=\"top\">Adversarial Harmfulness</th>\n",
              "      <th>Hyperspecific</th>\n",
              "      <td>6</td>\n",
              "      <td>1</td>\n",
              "      <td>1</td>\n",
              "      <td>1</td>\n",
              "      <td>1</td>\n",
              "      <td>8</td>\n",
              "      <td>2</td>\n",
              "    </tr>\n",
              "    <tr>\n",
              "      <th>Simple</th>\n",
              "      <td>17</td>\n",
              "      <td>6</td>\n",
              "      <td>2</td>\n",
              "      <td>7</td>\n",
              "      <td>5</td>\n",
              "      <td>4</td>\n",
              "      <td>9</td>\n",
              "    </tr>\n",
              "    <tr>\n",
              "      <th rowspan=\"2\" valign=\"top\">Brainstorming</th>\n",
              "      <th>Hyperspecific</th>\n",
              "      <td>8</td>\n",
              "      <td>4</td>\n",
              "      <td>3</td>\n",
              "      <td>4</td>\n",
              "      <td>12</td>\n",
              "      <td>19</td>\n",
              "      <td>11</td>\n",
              "    </tr>\n",
              "    <tr>\n",
              "      <th>Simple</th>\n",
              "      <td>2</td>\n",
              "      <td>2</td>\n",
              "      <td>1</td>\n",
              "      <td>1</td>\n",
              "      <td>2</td>\n",
              "      <td>3</td>\n",
              "      <td>4</td>\n",
              "    </tr>\n",
              "    <tr>\n",
              "      <th rowspan=\"2\" valign=\"top\">Classification</th>\n",
              "      <th>Hyperspecific</th>\n",
              "      <td>5</td>\n",
              "      <td>3</td>\n",
              "      <td>2</td>\n",
              "      <td>1</td>\n",
              "      <td>8</td>\n",
              "      <td>3</td>\n",
              "      <td>1</td>\n",
              "    </tr>\n",
              "    <tr>\n",
              "      <th>Simple</th>\n",
              "      <td>10</td>\n",
              "      <td>6</td>\n",
              "      <td>2</td>\n",
              "      <td>6</td>\n",
              "      <td>4</td>\n",
              "      <td>9</td>\n",
              "      <td>9</td>\n",
              "    </tr>\n",
              "    <tr>\n",
              "      <th rowspan=\"2\" valign=\"top\">Closed QA</th>\n",
              "      <th>Hyperspecific</th>\n",
              "      <td>3</td>\n",
              "      <td>3</td>\n",
              "      <td>1</td>\n",
              "      <td>2</td>\n",
              "      <td>5</td>\n",
              "      <td>7</td>\n",
              "      <td>6</td>\n",
              "    </tr>\n",
              "    <tr>\n",
              "      <th>Simple</th>\n",
              "      <td>17</td>\n",
              "      <td>8</td>\n",
              "      <td>4</td>\n",
              "      <td>10</td>\n",
              "      <td>8</td>\n",
              "      <td>14</td>\n",
              "      <td>5</td>\n",
              "    </tr>\n",
              "    <tr>\n",
              "      <th rowspan=\"2\" valign=\"top\">Coding</th>\n",
              "      <th>Hyperspecific</th>\n",
              "      <td>1</td>\n",
              "      <td>3</td>\n",
              "      <td>1</td>\n",
              "      <td>2</td>\n",
              "      <td>2</td>\n",
              "      <td>12</td>\n",
              "      <td>4</td>\n",
              "    </tr>\n",
              "    <tr>\n",
              "      <th>Simple</th>\n",
              "      <td>3</td>\n",
              "      <td>3</td>\n",
              "      <td>1</td>\n",
              "      <td>1</td>\n",
              "      <td>7</td>\n",
              "      <td>9</td>\n",
              "      <td>4</td>\n",
              "    </tr>\n",
              "    <tr>\n",
              "      <th rowspan=\"2\" valign=\"top\">Creative Writing</th>\n",
              "      <th>Hyperspecific</th>\n",
              "      <td>8</td>\n",
              "      <td>4</td>\n",
              "      <td>1</td>\n",
              "      <td>3</td>\n",
              "      <td>19</td>\n",
              "      <td>23</td>\n",
              "      <td>13</td>\n",
              "    </tr>\n",
              "    <tr>\n",
              "      <th>Simple</th>\n",
              "      <td>3</td>\n",
              "      <td>0</td>\n",
              "      <td>2</td>\n",
              "      <td>5</td>\n",
              "      <td>6</td>\n",
              "      <td>11</td>\n",
              "      <td>1</td>\n",
              "    </tr>\n",
              "    <tr>\n",
              "      <th rowspan=\"2\" valign=\"top\">Extraction</th>\n",
              "      <th>Hyperspecific</th>\n",
              "      <td>9</td>\n",
              "      <td>3</td>\n",
              "      <td>1</td>\n",
              "      <td>4</td>\n",
              "      <td>3</td>\n",
              "      <td>12</td>\n",
              "      <td>7</td>\n",
              "    </tr>\n",
              "    <tr>\n",
              "      <th>Simple</th>\n",
              "      <td>6</td>\n",
              "      <td>4</td>\n",
              "      <td>2</td>\n",
              "      <td>3</td>\n",
              "      <td>7</td>\n",
              "      <td>9</td>\n",
              "      <td>7</td>\n",
              "    </tr>\n",
              "    <tr>\n",
              "      <th rowspan=\"2\" valign=\"top\">Mathematical Reasoning</th>\n",
              "      <th>Hyperspecific</th>\n",
              "      <td>9</td>\n",
              "      <td>4</td>\n",
              "      <td>3</td>\n",
              "      <td>1</td>\n",
              "      <td>8</td>\n",
              "      <td>7</td>\n",
              "      <td>4</td>\n",
              "    </tr>\n",
              "    <tr>\n",
              "      <th>Simple</th>\n",
              "      <td>7</td>\n",
              "      <td>6</td>\n",
              "      <td>9</td>\n",
              "      <td>2</td>\n",
              "      <td>7</td>\n",
              "      <td>4</td>\n",
              "      <td>9</td>\n",
              "    </tr>\n",
              "    <tr>\n",
              "      <th rowspan=\"2\" valign=\"top\">Open QA</th>\n",
              "      <th>Hyperspecific</th>\n",
              "      <td>4</td>\n",
              "      <td>3</td>\n",
              "      <td>2</td>\n",
              "      <td>1</td>\n",
              "      <td>2</td>\n",
              "      <td>4</td>\n",
              "      <td>4</td>\n",
              "    </tr>\n",
              "    <tr>\n",
              "      <th>Simple</th>\n",
              "      <td>16</td>\n",
              "      <td>6</td>\n",
              "      <td>1</td>\n",
              "      <td>16</td>\n",
              "      <td>12</td>\n",
              "      <td>7</td>\n",
              "      <td>8</td>\n",
              "    </tr>\n",
              "    <tr>\n",
              "      <th rowspan=\"2\" valign=\"top\">Poetry</th>\n",
              "      <th>Hyperspecific</th>\n",
              "      <td>2</td>\n",
              "      <td>3</td>\n",
              "      <td>2</td>\n",
              "      <td>3</td>\n",
              "      <td>21</td>\n",
              "      <td>12</td>\n",
              "      <td>9</td>\n",
              "    </tr>\n",
              "    <tr>\n",
              "      <th>Simple</th>\n",
              "      <td>1</td>\n",
              "      <td>1</td>\n",
              "      <td>0</td>\n",
              "      <td>1</td>\n",
              "      <td>10</td>\n",
              "      <td>8</td>\n",
              "      <td>6</td>\n",
              "    </tr>\n",
              "    <tr>\n",
              "      <th rowspan=\"2\" valign=\"top\">Rewriting</th>\n",
              "      <th>Hyperspecific</th>\n",
              "      <td>3</td>\n",
              "      <td>4</td>\n",
              "      <td>1</td>\n",
              "      <td>3</td>\n",
              "      <td>8</td>\n",
              "      <td>11</td>\n",
              "      <td>7</td>\n",
              "    </tr>\n",
              "    <tr>\n",
              "      <th>Simple</th>\n",
              "      <td>4</td>\n",
              "      <td>3</td>\n",
              "      <td>2</td>\n",
              "      <td>2</td>\n",
              "      <td>10</td>\n",
              "      <td>13</td>\n",
              "      <td>3</td>\n",
              "    </tr>\n",
              "    <tr>\n",
              "      <th rowspan=\"2\" valign=\"top\">Summarization</th>\n",
              "      <th>Hyperspecific</th>\n",
              "      <td>2</td>\n",
              "      <td>2</td>\n",
              "      <td>2</td>\n",
              "      <td>4</td>\n",
              "      <td>6</td>\n",
              "      <td>4</td>\n",
              "      <td>4</td>\n",
              "    </tr>\n",
              "    <tr>\n",
              "      <th>Simple</th>\n",
              "      <td>5</td>\n",
              "      <td>7</td>\n",
              "      <td>7</td>\n",
              "      <td>6</td>\n",
              "      <td>11</td>\n",
              "      <td>7</td>\n",
              "      <td>10</td>\n",
              "    </tr>\n",
              "  </tbody>\n",
              "</table>\n",
              "</div>"
            ]
          },
          "execution_count": 10,
          "metadata": {},
          "output_type": "execute_result"
        }
      ],
      "execution_count": null
    },
    {
      "cell_type": "markdown",
      "id": "1fd95860fda675e9",
      "metadata": {
        "id": "1fd95860fda675e9"
      },
      "source": [
        "1. We can observe that:\n",
        "    -  **Simple** prompts in **Creative Writing** category have no instance of preference \"Bard better\"\n",
        "    -  **Simple** prompts in the **Poetry** category have no instance of preference \"Bard much better\"\n",
        "\n",
        "2. There are also several factors combinations with preference frequencies less than 5 which can impact the Chi-square of variables independence for the contingency table. We will use the Permutation method and Montecarlo simulations to better accuracy of the results.\n",
        "\n",
        "**Next Steps:**\n",
        "- Chi-square test and Fisher exact, verify the p-value and the expected frequencies for preferences and the binned preferences.\n"
      ]
    },
    {
      "cell_type": "code",
      "id": "294ccd8813c7484d",
      "metadata": {
        "ExecuteTime": {
          "end_time": "2025-02-21T17:02:32.520030Z",
          "start_time": "2025-02-21T17:02:32.498216Z"
        },
        "id": "294ccd8813c7484d",
        "outputId": "3dccdc55-f012-436a-b677-1acb50ac9f39"
      },
      "source": [
        "table_02 = pd.crosstab([df['Category'], df['Complexity']], df['Binned_Preference'])\n",
        "table_02"
      ],
      "outputs": [
        {
          "data": {
            "text/plain": [
              "Binned_Preference                      Bard  ChatGPT  Same\n",
              "Category                Complexity                        \n",
              "Adversarial Dishonesty  Hyperspecific     5       10     5\n",
              "                        Simple           10       33     7\n",
              "Adversarial Harmfulness Hyperspecific     3       11     6\n",
              "                        Simple           15       18    17\n",
              "Brainstorming           Hyperspecific    11       42     8\n",
              "                        Simple            4        9     2\n",
              "Classification          Hyperspecific     6       12     5\n",
              "                        Simple           14       22    10\n",
              "Closed QA               Hyperspecific     6       18     3\n",
              "                        Simple           22       27    17\n",
              "Coding                  Hyperspecific     6       18     1\n",
              "                        Simple            5       20     3\n",
              "Creative Writing        Hyperspecific     8       55     8\n",
              "                        Simple            7       18     3\n",
              "Extraction              Hyperspecific     8       22     9\n",
              "                        Simple            9       23     6\n",
              "Mathematical Reasoning  Hyperspecific     8       19     9\n",
              "                        Simple           17       20     7\n",
              "Open QA                 Hyperspecific     6       10     4\n",
              "                        Simple           23       27    16\n",
              "Poetry                  Hyperspecific     8       42     2\n",
              "                        Simple            2       24     1\n",
              "Rewriting               Hyperspecific     8       26     3\n",
              "                        Simple            7       26     4\n",
              "Summarization           Hyperspecific     8       14     2\n",
              "                        Simple           20       28     5"
            ],
            "text/html": [
              "<div>\n",
              "<style scoped>\n",
              "    .dataframe tbody tr th:only-of-type {\n",
              "        vertical-align: middle;\n",
              "    }\n",
              "\n",
              "    .dataframe tbody tr th {\n",
              "        vertical-align: top;\n",
              "    }\n",
              "\n",
              "    .dataframe thead th {\n",
              "        text-align: right;\n",
              "    }\n",
              "</style>\n",
              "<table border=\"1\" class=\"dataframe\">\n",
              "  <thead>\n",
              "    <tr style=\"text-align: right;\">\n",
              "      <th></th>\n",
              "      <th>Binned_Preference</th>\n",
              "      <th>Bard</th>\n",
              "      <th>ChatGPT</th>\n",
              "      <th>Same</th>\n",
              "    </tr>\n",
              "    <tr>\n",
              "      <th>Category</th>\n",
              "      <th>Complexity</th>\n",
              "      <th></th>\n",
              "      <th></th>\n",
              "      <th></th>\n",
              "    </tr>\n",
              "  </thead>\n",
              "  <tbody>\n",
              "    <tr>\n",
              "      <th rowspan=\"2\" valign=\"top\">Adversarial Dishonesty</th>\n",
              "      <th>Hyperspecific</th>\n",
              "      <td>5</td>\n",
              "      <td>10</td>\n",
              "      <td>5</td>\n",
              "    </tr>\n",
              "    <tr>\n",
              "      <th>Simple</th>\n",
              "      <td>10</td>\n",
              "      <td>33</td>\n",
              "      <td>7</td>\n",
              "    </tr>\n",
              "    <tr>\n",
              "      <th rowspan=\"2\" valign=\"top\">Adversarial Harmfulness</th>\n",
              "      <th>Hyperspecific</th>\n",
              "      <td>3</td>\n",
              "      <td>11</td>\n",
              "      <td>6</td>\n",
              "    </tr>\n",
              "    <tr>\n",
              "      <th>Simple</th>\n",
              "      <td>15</td>\n",
              "      <td>18</td>\n",
              "      <td>17</td>\n",
              "    </tr>\n",
              "    <tr>\n",
              "      <th rowspan=\"2\" valign=\"top\">Brainstorming</th>\n",
              "      <th>Hyperspecific</th>\n",
              "      <td>11</td>\n",
              "      <td>42</td>\n",
              "      <td>8</td>\n",
              "    </tr>\n",
              "    <tr>\n",
              "      <th>Simple</th>\n",
              "      <td>4</td>\n",
              "      <td>9</td>\n",
              "      <td>2</td>\n",
              "    </tr>\n",
              "    <tr>\n",
              "      <th rowspan=\"2\" valign=\"top\">Classification</th>\n",
              "      <th>Hyperspecific</th>\n",
              "      <td>6</td>\n",
              "      <td>12</td>\n",
              "      <td>5</td>\n",
              "    </tr>\n",
              "    <tr>\n",
              "      <th>Simple</th>\n",
              "      <td>14</td>\n",
              "      <td>22</td>\n",
              "      <td>10</td>\n",
              "    </tr>\n",
              "    <tr>\n",
              "      <th rowspan=\"2\" valign=\"top\">Closed QA</th>\n",
              "      <th>Hyperspecific</th>\n",
              "      <td>6</td>\n",
              "      <td>18</td>\n",
              "      <td>3</td>\n",
              "    </tr>\n",
              "    <tr>\n",
              "      <th>Simple</th>\n",
              "      <td>22</td>\n",
              "      <td>27</td>\n",
              "      <td>17</td>\n",
              "    </tr>\n",
              "    <tr>\n",
              "      <th rowspan=\"2\" valign=\"top\">Coding</th>\n",
              "      <th>Hyperspecific</th>\n",
              "      <td>6</td>\n",
              "      <td>18</td>\n",
              "      <td>1</td>\n",
              "    </tr>\n",
              "    <tr>\n",
              "      <th>Simple</th>\n",
              "      <td>5</td>\n",
              "      <td>20</td>\n",
              "      <td>3</td>\n",
              "    </tr>\n",
              "    <tr>\n",
              "      <th rowspan=\"2\" valign=\"top\">Creative Writing</th>\n",
              "      <th>Hyperspecific</th>\n",
              "      <td>8</td>\n",
              "      <td>55</td>\n",
              "      <td>8</td>\n",
              "    </tr>\n",
              "    <tr>\n",
              "      <th>Simple</th>\n",
              "      <td>7</td>\n",
              "      <td>18</td>\n",
              "      <td>3</td>\n",
              "    </tr>\n",
              "    <tr>\n",
              "      <th rowspan=\"2\" valign=\"top\">Extraction</th>\n",
              "      <th>Hyperspecific</th>\n",
              "      <td>8</td>\n",
              "      <td>22</td>\n",
              "      <td>9</td>\n",
              "    </tr>\n",
              "    <tr>\n",
              "      <th>Simple</th>\n",
              "      <td>9</td>\n",
              "      <td>23</td>\n",
              "      <td>6</td>\n",
              "    </tr>\n",
              "    <tr>\n",
              "      <th rowspan=\"2\" valign=\"top\">Mathematical Reasoning</th>\n",
              "      <th>Hyperspecific</th>\n",
              "      <td>8</td>\n",
              "      <td>19</td>\n",
              "      <td>9</td>\n",
              "    </tr>\n",
              "    <tr>\n",
              "      <th>Simple</th>\n",
              "      <td>17</td>\n",
              "      <td>20</td>\n",
              "      <td>7</td>\n",
              "    </tr>\n",
              "    <tr>\n",
              "      <th rowspan=\"2\" valign=\"top\">Open QA</th>\n",
              "      <th>Hyperspecific</th>\n",
              "      <td>6</td>\n",
              "      <td>10</td>\n",
              "      <td>4</td>\n",
              "    </tr>\n",
              "    <tr>\n",
              "      <th>Simple</th>\n",
              "      <td>23</td>\n",
              "      <td>27</td>\n",
              "      <td>16</td>\n",
              "    </tr>\n",
              "    <tr>\n",
              "      <th rowspan=\"2\" valign=\"top\">Poetry</th>\n",
              "      <th>Hyperspecific</th>\n",
              "      <td>8</td>\n",
              "      <td>42</td>\n",
              "      <td>2</td>\n",
              "    </tr>\n",
              "    <tr>\n",
              "      <th>Simple</th>\n",
              "      <td>2</td>\n",
              "      <td>24</td>\n",
              "      <td>1</td>\n",
              "    </tr>\n",
              "    <tr>\n",
              "      <th rowspan=\"2\" valign=\"top\">Rewriting</th>\n",
              "      <th>Hyperspecific</th>\n",
              "      <td>8</td>\n",
              "      <td>26</td>\n",
              "      <td>3</td>\n",
              "    </tr>\n",
              "    <tr>\n",
              "      <th>Simple</th>\n",
              "      <td>7</td>\n",
              "      <td>26</td>\n",
              "      <td>4</td>\n",
              "    </tr>\n",
              "    <tr>\n",
              "      <th rowspan=\"2\" valign=\"top\">Summarization</th>\n",
              "      <th>Hyperspecific</th>\n",
              "      <td>8</td>\n",
              "      <td>14</td>\n",
              "      <td>2</td>\n",
              "    </tr>\n",
              "    <tr>\n",
              "      <th>Simple</th>\n",
              "      <td>20</td>\n",
              "      <td>28</td>\n",
              "      <td>5</td>\n",
              "    </tr>\n",
              "  </tbody>\n",
              "</table>\n",
              "</div>"
            ]
          },
          "execution_count": 11,
          "metadata": {},
          "output_type": "execute_result"
        }
      ],
      "execution_count": null
    },
    {
      "cell_type": "markdown",
      "id": "8a4b6a259367fecf",
      "metadata": {
        "id": "8a4b6a259367fecf"
      },
      "source": [
        "### 3.2 Contingency Table Comparison Functions"
      ]
    },
    {
      "cell_type": "code",
      "id": "95eb00d4a1a16189",
      "metadata": {
        "ExecuteTime": {
          "end_time": "2025-02-21T17:02:42.460005Z",
          "start_time": "2025-02-21T17:02:42.450983Z"
        },
        "id": "95eb00d4a1a16189"
      },
      "source": [
        "# Contingency test functions\n",
        "\n",
        "def contingency_test(table, test='fisher', resampling_method='montecarlo'):\n",
        "\n",
        "    sampling_dict = {'montecarlo': MonteCarloMethod(), 'permutation': PermutationMethod(), 'none':None}\n",
        "\n",
        "    if test == 'fisher':\n",
        "        res = fisher_exact(table, method=sampling_dict[resampling_method.lower()])\n",
        "        print(f'Fisher stats: {res.statistic} | pvalue: {res.pvalue}')\n",
        "\n",
        "        return res.statistic, res.pvalue\n",
        "    else:\n",
        "        res = chi2_contingency(table, correction=False, method=sampling_dict[resampling_method.lower()])\n",
        "        # Get the expected frequency values and computes the percent of groups with < 5 expected observations\n",
        "        freq = res.expected_freq\n",
        "        exp_freq = len(np.where(freq < 5)[0]) / len(freq.reshape(-1)) * 100\n",
        "        print(f'Chi-square stats: {res.statistic} | pvalue: {res.pvalue} | Expected observations with frequencies < 5: {exp_freq:.2f}%')\n",
        "\n",
        "        return res.statistic, res.pvalue,\n",
        "\n",
        "\n",
        "def run_contingency_test(data, test_list, resampling_list, likert='all preferences'):\n",
        "\n",
        "    assert isinstance(data, pd.DataFrame)\n",
        "    assert isinstance(test_list, list)\n",
        "    assert isinstance(resampling_list, list)\n",
        "\n",
        "    stats_dict = defaultdict(list)\n",
        "\n",
        "    test_counts = 0\n",
        "    for i, test in enumerate(test_list):\n",
        "        for ii, method in enumerate(resampling_list):\n",
        "            test_counts += 1\n",
        "            print(f'Test no: {test_counts} | Hypothesis: {test} | Method: {method}')\n",
        "            result = contingency_test(data, test=test, resampling_method=method)\n",
        "            st, pval = result[0], result[1]\n",
        "            stats_dict['likert'] = likert\n",
        "            stats_dict['test'].append(test)\n",
        "            stats_dict['resampling'].append(method)\n",
        "            stats_dict['stat'].append(st)\n",
        "            stats_dict['pvalue'].append(pval)\n",
        "            if pval < 0.05:\n",
        "                stats_dict['Ho'].append('reject')\n",
        "            else:\n",
        "                stats_dict['Ho'].append('accept')\n",
        "            print(f'-----------'*10)\n",
        "\n",
        "    return pd.DataFrame.from_dict(stats_dict)\n"
      ],
      "outputs": [],
      "execution_count": null
    },
    {
      "cell_type": "markdown",
      "id": "3fd70313f9888729",
      "metadata": {
        "id": "3fd70313f9888729"
      },
      "source": [
        "### 3.3 Run Test"
      ]
    },
    {
      "cell_type": "code",
      "id": "6347a4326211b641",
      "metadata": {
        "ExecuteTime": {
          "end_time": "2025-02-21T17:02:49.385534Z",
          "start_time": "2025-02-21T17:02:49.381233Z"
        },
        "id": "6347a4326211b641"
      },
      "source": [
        "param_dict = dict(hypo_test = ['fisher', 'chi-square'], resampling = ['Montecarlo', 'Permutation', 'None'],\n",
        "                  likert='all preferences', binned_likert = 'Bard, Same, GPT' )"
      ],
      "outputs": [],
      "execution_count": null
    },
    {
      "cell_type": "code",
      "id": "9baaecf4550a8af",
      "metadata": {
        "ExecuteTime": {
          "end_time": "2025-02-21T17:03:01.412734Z",
          "start_time": "2025-02-21T17:02:51.955967Z"
        },
        "id": "9baaecf4550a8af",
        "outputId": "7d6f2447-0845-43bd-d25d-d7c503c15f43"
      },
      "source": [
        "# Use table_01 with original preference scale\n",
        "stats_df = run_contingency_test(table_01, test_list=param_dict[\"hypo_test\"], resampling_list=param_dict['resampling'],\n",
        "                                       likert=param_dict['likert'])"
      ],
      "outputs": [
        {
          "name": "stdout",
          "output_type": "stream",
          "text": [
            "Test no: 1 | Hypothesis: fisher | Method: Montecarlo\n",
            "Fisher stats: 4.460718085773558e-139 | pvalue: 0.0001\n",
            "--------------------------------------------------------------------------------------------------------------\n",
            "Test no: 2 | Hypothesis: fisher | Method: Permutation\n",
            "Fisher stats: 4.460718085773558e-139 | pvalue: 0.0001\n",
            "--------------------------------------------------------------------------------------------------------------\n",
            "Test no: 3 | Hypothesis: fisher | Method: None\n",
            "Fisher stats: 4.460718085773558e-139 | pvalue: 0.0005\n",
            "--------------------------------------------------------------------------------------------------------------\n",
            "Test no: 4 | Hypothesis: chi-square | Method: Montecarlo\n",
            "Chi-square stats: 219.62653844835157 | pvalue: 0.0001 | Expected observations with frequencies < 5: 56.04%\n",
            "--------------------------------------------------------------------------------------------------------------\n",
            "Test no: 5 | Hypothesis: chi-square | Method: Permutation\n",
            "Chi-square stats: 219.62653844835157 | pvalue: 0.0001 | Expected observations with frequencies < 5: 56.04%\n",
            "--------------------------------------------------------------------------------------------------------------\n",
            "Test no: 6 | Hypothesis: chi-square | Method: None\n",
            "Chi-square stats: 219.62653844835157 | pvalue: 0.0001831975373217207 | Expected observations with frequencies < 5: 56.04%\n",
            "--------------------------------------------------------------------------------------------------------------\n"
          ]
        }
      ],
      "execution_count": null
    },
    {
      "cell_type": "code",
      "id": "89df8a95affe73bf",
      "metadata": {
        "ExecuteTime": {
          "end_time": "2025-02-21T17:03:09.593757Z",
          "start_time": "2025-02-21T17:03:01.422474Z"
        },
        "id": "89df8a95affe73bf",
        "outputId": "2ac14f4b-8a89-432d-bd9d-328e5c71bd58"
      },
      "source": [
        "# Use table_02 grouped by binned preferences\n",
        "binned_stats_df = run_contingency_test(table_02, test_list=param_dict[\"hypo_test\"], resampling_list=param_dict['resampling'],\n",
        "                                       likert=param_dict['binned_likert'])"
      ],
      "outputs": [
        {
          "name": "stdout",
          "output_type": "stream",
          "text": [
            "Test no: 1 | Hypothesis: fisher | Method: Montecarlo\n",
            "Fisher stats: 2.1140213624554804e-59 | pvalue: 0.0001\n",
            "--------------------------------------------------------------------------------------------------------------\n",
            "Test no: 2 | Hypothesis: fisher | Method: Permutation\n",
            "Fisher stats: 2.1140213624554804e-59 | pvalue: 0.0001\n",
            "--------------------------------------------------------------------------------------------------------------\n",
            "Test no: 3 | Hypothesis: fisher | Method: None\n",
            "Fisher stats: 2.1140213624554804e-59 | pvalue: 0.0002\n",
            "--------------------------------------------------------------------------------------------------------------\n",
            "Test no: 4 | Hypothesis: chi-square | Method: Montecarlo\n",
            "Chi-square stats: 102.25841414264765 | pvalue: 0.0001 | Expected observations with frequencies < 5: 19.23%\n",
            "--------------------------------------------------------------------------------------------------------------\n",
            "Test no: 5 | Hypothesis: chi-square | Method: Permutation\n",
            "Chi-square stats: 102.25841414264765 | pvalue: 0.0002 | Expected observations with frequencies < 5: 19.23%\n",
            "--------------------------------------------------------------------------------------------------------------\n",
            "Test no: 6 | Hypothesis: chi-square | Method: None\n",
            "Chi-square stats: 102.25841414264765 | pvalue: 1.8751801853084325e-05 | Expected observations with frequencies < 5: 19.23%\n",
            "--------------------------------------------------------------------------------------------------------------\n"
          ]
        }
      ],
      "execution_count": null
    },
    {
      "cell_type": "code",
      "id": "3df597bf-30b1-42da-b9ce-279478aac668",
      "metadata": {
        "ExecuteTime": {
          "end_time": "2025-02-21T17:03:12.065787Z",
          "start_time": "2025-02-21T17:03:12.052006Z"
        },
        "id": "3df597bf-30b1-42da-b9ce-279478aac668",
        "outputId": "c8109b4d-3fc5-4c50-d4e6-645c9e372cb4"
      },
      "source": [
        "contingency_stats = pd.concat([stats_df, binned_stats_df], axis=0, ignore_index=True)\n",
        "contingency_stats"
      ],
      "outputs": [
        {
          "data": {
            "text/plain": [
              "             likert        test   resampling           stat    pvalue      Ho\n",
              "0   all preferences      fisher   Montecarlo  4.460718e-139  0.000100  reject\n",
              "1   all preferences      fisher  Permutation  4.460718e-139  0.000100  reject\n",
              "2   all preferences      fisher         None  4.460718e-139  0.000500  reject\n",
              "3   all preferences  chi-square   Montecarlo   2.196265e+02  0.000100  reject\n",
              "4   all preferences  chi-square  Permutation   2.196265e+02  0.000100  reject\n",
              "5   all preferences  chi-square         None   2.196265e+02  0.000183  reject\n",
              "6   Bard, Same, GPT      fisher   Montecarlo   2.114021e-59  0.000100  reject\n",
              "7   Bard, Same, GPT      fisher  Permutation   2.114021e-59  0.000100  reject\n",
              "8   Bard, Same, GPT      fisher         None   2.114021e-59  0.000200  reject\n",
              "9   Bard, Same, GPT  chi-square   Montecarlo   1.022584e+02  0.000100  reject\n",
              "10  Bard, Same, GPT  chi-square  Permutation   1.022584e+02  0.000200  reject\n",
              "11  Bard, Same, GPT  chi-square         None   1.022584e+02  0.000019  reject"
            ],
            "text/html": [
              "<div>\n",
              "<style scoped>\n",
              "    .dataframe tbody tr th:only-of-type {\n",
              "        vertical-align: middle;\n",
              "    }\n",
              "\n",
              "    .dataframe tbody tr th {\n",
              "        vertical-align: top;\n",
              "    }\n",
              "\n",
              "    .dataframe thead th {\n",
              "        text-align: right;\n",
              "    }\n",
              "</style>\n",
              "<table border=\"1\" class=\"dataframe\">\n",
              "  <thead>\n",
              "    <tr style=\"text-align: right;\">\n",
              "      <th></th>\n",
              "      <th>likert</th>\n",
              "      <th>test</th>\n",
              "      <th>resampling</th>\n",
              "      <th>stat</th>\n",
              "      <th>pvalue</th>\n",
              "      <th>Ho</th>\n",
              "    </tr>\n",
              "  </thead>\n",
              "  <tbody>\n",
              "    <tr>\n",
              "      <th>0</th>\n",
              "      <td>all preferences</td>\n",
              "      <td>fisher</td>\n",
              "      <td>Montecarlo</td>\n",
              "      <td>4.460718e-139</td>\n",
              "      <td>0.000100</td>\n",
              "      <td>reject</td>\n",
              "    </tr>\n",
              "    <tr>\n",
              "      <th>1</th>\n",
              "      <td>all preferences</td>\n",
              "      <td>fisher</td>\n",
              "      <td>Permutation</td>\n",
              "      <td>4.460718e-139</td>\n",
              "      <td>0.000100</td>\n",
              "      <td>reject</td>\n",
              "    </tr>\n",
              "    <tr>\n",
              "      <th>2</th>\n",
              "      <td>all preferences</td>\n",
              "      <td>fisher</td>\n",
              "      <td>None</td>\n",
              "      <td>4.460718e-139</td>\n",
              "      <td>0.000500</td>\n",
              "      <td>reject</td>\n",
              "    </tr>\n",
              "    <tr>\n",
              "      <th>3</th>\n",
              "      <td>all preferences</td>\n",
              "      <td>chi-square</td>\n",
              "      <td>Montecarlo</td>\n",
              "      <td>2.196265e+02</td>\n",
              "      <td>0.000100</td>\n",
              "      <td>reject</td>\n",
              "    </tr>\n",
              "    <tr>\n",
              "      <th>4</th>\n",
              "      <td>all preferences</td>\n",
              "      <td>chi-square</td>\n",
              "      <td>Permutation</td>\n",
              "      <td>2.196265e+02</td>\n",
              "      <td>0.000100</td>\n",
              "      <td>reject</td>\n",
              "    </tr>\n",
              "    <tr>\n",
              "      <th>5</th>\n",
              "      <td>all preferences</td>\n",
              "      <td>chi-square</td>\n",
              "      <td>None</td>\n",
              "      <td>2.196265e+02</td>\n",
              "      <td>0.000183</td>\n",
              "      <td>reject</td>\n",
              "    </tr>\n",
              "    <tr>\n",
              "      <th>6</th>\n",
              "      <td>Bard, Same, GPT</td>\n",
              "      <td>fisher</td>\n",
              "      <td>Montecarlo</td>\n",
              "      <td>2.114021e-59</td>\n",
              "      <td>0.000100</td>\n",
              "      <td>reject</td>\n",
              "    </tr>\n",
              "    <tr>\n",
              "      <th>7</th>\n",
              "      <td>Bard, Same, GPT</td>\n",
              "      <td>fisher</td>\n",
              "      <td>Permutation</td>\n",
              "      <td>2.114021e-59</td>\n",
              "      <td>0.000100</td>\n",
              "      <td>reject</td>\n",
              "    </tr>\n",
              "    <tr>\n",
              "      <th>8</th>\n",
              "      <td>Bard, Same, GPT</td>\n",
              "      <td>fisher</td>\n",
              "      <td>None</td>\n",
              "      <td>2.114021e-59</td>\n",
              "      <td>0.000200</td>\n",
              "      <td>reject</td>\n",
              "    </tr>\n",
              "    <tr>\n",
              "      <th>9</th>\n",
              "      <td>Bard, Same, GPT</td>\n",
              "      <td>chi-square</td>\n",
              "      <td>Montecarlo</td>\n",
              "      <td>1.022584e+02</td>\n",
              "      <td>0.000100</td>\n",
              "      <td>reject</td>\n",
              "    </tr>\n",
              "    <tr>\n",
              "      <th>10</th>\n",
              "      <td>Bard, Same, GPT</td>\n",
              "      <td>chi-square</td>\n",
              "      <td>Permutation</td>\n",
              "      <td>1.022584e+02</td>\n",
              "      <td>0.000200</td>\n",
              "      <td>reject</td>\n",
              "    </tr>\n",
              "    <tr>\n",
              "      <th>11</th>\n",
              "      <td>Bard, Same, GPT</td>\n",
              "      <td>chi-square</td>\n",
              "      <td>None</td>\n",
              "      <td>1.022584e+02</td>\n",
              "      <td>0.000019</td>\n",
              "      <td>reject</td>\n",
              "    </tr>\n",
              "  </tbody>\n",
              "</table>\n",
              "</div>"
            ]
          },
          "execution_count": 16,
          "metadata": {},
          "output_type": "execute_result"
        }
      ],
      "execution_count": null
    },
    {
      "cell_type": "markdown",
      "id": "8291fe8fc2b5ab9",
      "metadata": {
        "id": "8291fe8fc2b5ab9"
      },
      "source": [
        "**Result**\n",
        "___\n",
        "\n",
        "We can observe that:\n",
        "\n",
        "- All test combination for the Chi-square and Fisher exact tests showed p-values < 0.05.\n",
        "- For full preference rating, the Fisher exact and Chi-square tests without resampling showed very similar p-values 0.0002 and 0.000183. This table had two preferences without observation and several with less than 5 observation.\n",
        "- Using the Permutation or Montecarlo sampling methods did not trigger p-values >= 0.05\n",
        "- Apart from the tes Chi-square test without resampling method, all p-values for the grouped preferences showed the a p-value 0.0001.\n",
        "\n",
        "____\n",
        "\n",
        "**Reject the null hypothesis:** $H_0$\n",
        "\n",
        "\n",
        "The results show that there is sufficient evidence to reject the $H_0$.\n",
        "\n",
        "Therefore, we can say with 95% certainty that the rating preference is dependent on the prompt category and complexity.\n",
        "\n"
      ]
    },
    {
      "cell_type": "markdown",
      "id": "ae5651d58dbb58f6",
      "metadata": {
        "id": "ae5651d58dbb58f6"
      },
      "source": [
        "___\n",
        "\n",
        "#### Stats notes\n",
        "\n",
        "\n",
        "[Statsmodels](https://www.statsmodels.org/stable/generated/statsmodels.stats.contingency_tables.Table.test_nominal_association.html#statsmodels.stats.contingency_tables.Table.test_nominal_associationalso) provides the function ```Table.test_nominal_association()``` to assess independence between rows and columns using chi^2 testing in contingency tables. The rows and columns are treated as nominal (unordered) categorical variables.\n",
        "```\n",
        "import statsmodels.api as sm\n",
        "\n",
        "table = sm.stats.Table(table_02)\n",
        "\n",
        "print(table.table_orig)\n",
        "print(table.fittedvalues)\n",
        "print(table.resid_pearson)\n",
        "print(table.chi2_contribs)\n",
        "result = table.test_nominal_association()\n",
        "print(result.pvalue, result)\n",
        "\n",
        "```\n",
        "\n",
        "Running the above code for table_02 is equivalent to  ```chi2_contingency(table_02, correction=False, method=None)```."
      ]
    },
    {
      "cell_type": "markdown",
      "id": "576b5b91fd1d326d",
      "metadata": {
        "id": "576b5b91fd1d326d"
      },
      "source": [
        "### 3.4 Associations - Effect of the size"
      ]
    },
    {
      "cell_type": "markdown",
      "id": "4f9040c31c0465c3",
      "metadata": {
        "id": "4f9040c31c0465c3"
      },
      "source": [
        "We will use Cramer's V coefficient for the non-square tables to measure how strongly the categorical variables in the contingency tables are associated. There are disputes about the threshold for associations. We would use the threshold:\n",
        "\n",
        "- Weak association: $coefficient >= 0.2$\n",
        "- Moderate association: $0.2 < coefficient < 0.6$\n",
        "- Strong association: $coefficient > 0.6$\n",
        "\n",
        "**References**:\n",
        "1. https://www.ibm.com/docs/en/cognos-analytics/11.1.0?topic=terms-cramrs-v\n",
        "2. https://cran.r-project.org/web/packages/effectsize/vignettes/xtabs.html\n",
        "3. https://stats.stackexchange.com/questions/332086/what-are-the-thresholds-for-strength-of-association\n",
        "4. https://real-statistics.com/chi-square-and-f-distributions/effect-size-chi-square/\n",
        "5. https://imaging.mrc-cbu.cam.ac.uk/statswiki/FAQ/effectSize\n"
      ]
    },
    {
      "cell_type": "code",
      "id": "4407a5427ef760fe",
      "metadata": {
        "ExecuteTime": {
          "end_time": "2025-02-21T17:03:58.491032Z",
          "start_time": "2025-02-21T17:03:58.485517Z"
        },
        "id": "4407a5427ef760fe"
      },
      "source": [
        "def measure_associations(table):\n",
        "\n",
        "    cramer = association(table, method=\"cramer\")\n",
        "    if cramer > 0.6:\n",
        "        print(f\"Strong Cramer's V association: {cramer}\")\n",
        "\n",
        "    elif cramer <= 0.2:\n",
        "        print(f\"Weak Cramer's V association: {cramer}\")\n",
        "    else:\n",
        "        print(f\"Moderate Cramer's V association: {cramer}\")\n",
        "    return cramer"
      ],
      "outputs": [],
      "execution_count": null
    },
    {
      "cell_type": "code",
      "id": "5c714debd80531b7",
      "metadata": {
        "ExecuteTime": {
          "end_time": "2025-02-21T17:04:04.781286Z",
          "start_time": "2025-02-21T17:04:04.774576Z"
        },
        "id": "5c714debd80531b7",
        "outputId": "b23e7290-ddfa-4438-cd18-eb56c620ea0f"
      },
      "source": [
        "print(f'Table with all preferences: table_01')\n",
        "table_01_associations = measure_associations(table_01)\n",
        "print('-----------' * 5)\n",
        "print(f'Table with binned preferences table_02')\n",
        "table_02_associations = measure_associations(table_02)"
      ],
      "outputs": [
        {
          "name": "stdout",
          "output_type": "stream",
          "text": [
            "Table with all preferences: table_01\n",
            "Weak Cramer's V association: 0.1910364841069512\n",
            "-------------------------------------------------------\n",
            "Table with binned preferences table_02\n",
            "Moderate Cramer's V association: 0.2257792688370967\n"
          ]
        }
      ],
      "execution_count": null
    },
    {
      "cell_type": "markdown",
      "id": "c26e39f70d7cc272",
      "metadata": {
        "id": "c26e39f70d7cc272"
      },
      "source": [
        "### 3.5 ANOVA"
      ]
    },
    {
      "cell_type": "code",
      "id": "aef96fdba9a63980",
      "metadata": {
        "ExecuteTime": {
          "end_time": "2025-02-21T17:04:14.260330Z",
          "start_time": "2025-02-21T17:04:14.244301Z"
        },
        "id": "aef96fdba9a63980",
        "outputId": "13a13b02-f54c-4e7c-97ad-80c28758389c"
      },
      "source": [
        "df_sorted = df[['Category', 'Complexity', 'Rating', 'Binned_Rating']].sort_values(['Category', 'Complexity']).reset_index(drop=True)\n",
        "df_sorted.head()"
      ],
      "outputs": [
        {
          "data": {
            "text/plain": [
              "                 Category     Complexity  Rating  Binned_Rating\n",
              "0  Adversarial Dishonesty  Hyperspecific     6.0              2\n",
              "1  Adversarial Dishonesty  Hyperspecific     3.0              1\n",
              "2  Adversarial Dishonesty  Hyperspecific     4.0              0\n",
              "3  Adversarial Dishonesty  Hyperspecific     1.0              1\n",
              "4  Adversarial Dishonesty  Hyperspecific     7.0              2"
            ],
            "text/html": [
              "<div>\n",
              "<style scoped>\n",
              "    .dataframe tbody tr th:only-of-type {\n",
              "        vertical-align: middle;\n",
              "    }\n",
              "\n",
              "    .dataframe tbody tr th {\n",
              "        vertical-align: top;\n",
              "    }\n",
              "\n",
              "    .dataframe thead th {\n",
              "        text-align: right;\n",
              "    }\n",
              "</style>\n",
              "<table border=\"1\" class=\"dataframe\">\n",
              "  <thead>\n",
              "    <tr style=\"text-align: right;\">\n",
              "      <th></th>\n",
              "      <th>Category</th>\n",
              "      <th>Complexity</th>\n",
              "      <th>Rating</th>\n",
              "      <th>Binned_Rating</th>\n",
              "    </tr>\n",
              "  </thead>\n",
              "  <tbody>\n",
              "    <tr>\n",
              "      <th>0</th>\n",
              "      <td>Adversarial Dishonesty</td>\n",
              "      <td>Hyperspecific</td>\n",
              "      <td>6.0</td>\n",
              "      <td>2</td>\n",
              "    </tr>\n",
              "    <tr>\n",
              "      <th>1</th>\n",
              "      <td>Adversarial Dishonesty</td>\n",
              "      <td>Hyperspecific</td>\n",
              "      <td>3.0</td>\n",
              "      <td>1</td>\n",
              "    </tr>\n",
              "    <tr>\n",
              "      <th>2</th>\n",
              "      <td>Adversarial Dishonesty</td>\n",
              "      <td>Hyperspecific</td>\n",
              "      <td>4.0</td>\n",
              "      <td>0</td>\n",
              "    </tr>\n",
              "    <tr>\n",
              "      <th>3</th>\n",
              "      <td>Adversarial Dishonesty</td>\n",
              "      <td>Hyperspecific</td>\n",
              "      <td>1.0</td>\n",
              "      <td>1</td>\n",
              "    </tr>\n",
              "    <tr>\n",
              "      <th>4</th>\n",
              "      <td>Adversarial Dishonesty</td>\n",
              "      <td>Hyperspecific</td>\n",
              "      <td>7.0</td>\n",
              "      <td>2</td>\n",
              "    </tr>\n",
              "  </tbody>\n",
              "</table>\n",
              "</div>"
            ]
          },
          "execution_count": 19,
          "metadata": {},
          "output_type": "execute_result"
        }
      ],
      "execution_count": null
    },
    {
      "cell_type": "code",
      "id": "5f1a019255ec2220",
      "metadata": {
        "ExecuteTime": {
          "end_time": "2025-02-21T17:05:01.161738Z",
          "start_time": "2025-02-21T17:05:01.125442Z"
        },
        "id": "5f1a019255ec2220",
        "outputId": "45a64adf-c228-4e47-b176-b4e8bd7d5e2d"
      },
      "source": [
        "model = ols('Rating ~ C(Category, Sum) * C(Complexity, Sum)', data=df_sorted).fit()\n",
        "aov = sm.stats.anova_lm(model, typ=2) # Show results in a dataframe\n",
        "print(aov)\n",
        "print(f'R-squared: {model.rsquared}')"
      ],
      "outputs": [
        {
          "name": "stdout",
          "output_type": "stream",
          "text": [
            "                                          sum_sq     df         F    PR(>F)\n",
            "C(Category, Sum)                      161.270746   12.0  4.128031  0.000002\n",
            "C(Complexity, Sum)                     10.825791    1.0  3.325280  0.068528\n",
            "C(Category, Sum):C(Complexity, Sum)    34.029462   12.0  0.871049  0.576531\n",
            "Residual                             3180.724004  977.0       NaN       NaN\n",
            "R-squared: 0.07074555652706516\n"
          ]
        }
      ],
      "execution_count": null
    },
    {
      "cell_type": "code",
      "id": "7fb490ee781b1fd8",
      "metadata": {
        "ExecuteTime": {
          "end_time": "2025-02-21T17:05:08.308680Z",
          "start_time": "2025-02-21T17:05:08.302058Z"
        },
        "id": "7fb490ee781b1fd8",
        "outputId": "53ebfd00-737f-4989-9542-b827ae394ced"
      },
      "source": [
        "model.pvalues"
      ],
      "outputs": [
        {
          "data": {
            "text/plain": [
              "Intercept                                                                          0.000000\n",
              "C(Category, Sum)[S.Adversarial Dishonesty]                                         0.778543\n",
              "C(Category, Sum)[S.Adversarial Harmfulness]                                        0.322695\n",
              "C(Category, Sum)[S.Brainstorming]                                                  0.851862\n",
              "C(Category, Sum)[S.Classification]                                                 0.128761\n",
              "C(Category, Sum)[S.Closed QA]                                                      0.408694\n",
              "C(Category, Sum)[S.Coding]                                                         0.058003\n",
              "C(Category, Sum)[S.Creative Writing]                                               0.006221\n",
              "C(Category, Sum)[S.Extraction]                                                     0.865931\n",
              "C(Category, Sum)[S.Mathematical Reasoning]                                         0.003021\n",
              "C(Category, Sum)[S.Open QA]                                                        0.025435\n",
              "C(Category, Sum)[S.Poetry]                                                         0.000450\n",
              "C(Category, Sum)[S.Rewriting]                                                      0.060895\n",
              "C(Complexity, Sum)[S.Hyperspecific]                                                0.072525\n",
              "C(Category, Sum)[S.Adversarial Dishonesty]:C(Complexity, Sum)[S.Hyperspecific]     0.172039\n",
              "C(Category, Sum)[S.Adversarial Harmfulness]:C(Complexity, Sum)[S.Hyperspecific]    0.097885\n",
              "C(Category, Sum)[S.Brainstorming]:C(Complexity, Sum)[S.Hyperspecific]              0.491515\n",
              "C(Category, Sum)[S.Classification]:C(Complexity, Sum)[S.Hyperspecific]             0.832669\n",
              "C(Category, Sum)[S.Closed QA]:C(Complexity, Sum)[S.Hyperspecific]                  0.366731\n",
              "C(Category, Sum)[S.Coding]:C(Complexity, Sum)[S.Hyperspecific]                     0.745325\n",
              "C(Category, Sum)[S.Creative Writing]:C(Complexity, Sum)[S.Hyperspecific]           0.960897\n",
              "C(Category, Sum)[S.Extraction]:C(Complexity, Sum)[S.Hyperspecific]                 0.769944\n",
              "C(Category, Sum)[S.Mathematical Reasoning]:C(Complexity, Sum)[S.Hyperspecific]     0.161114\n",
              "C(Category, Sum)[S.Open QA]:C(Complexity, Sum)[S.Hyperspecific]                    0.639112\n",
              "C(Category, Sum)[S.Poetry]:C(Complexity, Sum)[S.Hyperspecific]                     0.160503\n",
              "C(Category, Sum)[S.Rewriting]:C(Complexity, Sum)[S.Hyperspecific]                  0.341389\n",
              "dtype: float64"
            ]
          },
          "execution_count": 30,
          "metadata": {},
          "output_type": "execute_result"
        }
      ],
      "execution_count": null
    },
    {
      "cell_type": "markdown",
      "id": "05c733a7-074c-4849-aca7-eb8968f98736",
      "metadata": {
        "id": "05c733a7-074c-4849-aca7-eb8968f98736"
      },
      "source": [
        "---\n",
        "\n",
        "Results Discussion:\n",
        "___\n",
        "\n",
        "\n",
        "- The results from the ANOVA showed that the only factor that impact the preference rating amongst Bard and ChatGPT is the **Category** with a pvalue of 0.000002.\n",
        "\n",
        "- There are four categories with pvalues < 0.05 that are significantly impacted the rating:\n",
        "  - Creative Writing\n",
        "  - Mathematical Reasoning\n",
        "  - Open QA\n",
        "  - Poetry\n",
        "- No interactions were found statistically significant in the rating preference.\n",
        "- However, the R-squared only justifies 7% of the data variance in the model. This was expected due to the imbalanced dataset.\n"
      ]
    },
    {
      "cell_type": "code",
      "id": "14d3d87ffa249eea",
      "metadata": {
        "ExecuteTime": {
          "end_time": "2025-02-21T17:06:51.840856Z",
          "start_time": "2025-02-21T17:06:51.805779Z"
        },
        "id": "14d3d87ffa249eea",
        "outputId": "2399f39a-b892-49f0-82db-6efbd9f2141f"
      },
      "source": [
        "binned_model = ols('Binned_Rating ~ C(Category, Sum) * C(Complexity, Sum)', data=df_sorted).fit()\n",
        "binned_aov = sm.stats.anova_lm(binned_model, typ=2)\n",
        "print(binned_aov)\n",
        "print(f'R-squared: {binned_model.rsquared}')"
      ],
      "outputs": [
        {
          "name": "stdout",
          "output_type": "stream",
          "text": [
            "                                         sum_sq     df         F        PR(>F)\n",
            "C(Category, Sum)                      33.640404   12.0  5.200179  1.614284e-08\n",
            "C(Complexity, Sum)                     0.673669    1.0  1.249641  2.638959e-01\n",
            "C(Category, Sum):C(Complexity, Sum)    5.506006   12.0  0.851126  5.973343e-01\n",
            "Residual                             526.691390  977.0       NaN           NaN\n",
            "R-squared: 0.07888011718265953\n"
          ]
        }
      ],
      "execution_count": null
    },
    {
      "cell_type": "code",
      "id": "178a28a2d4ad328c",
      "metadata": {
        "ExecuteTime": {
          "end_time": "2025-02-21T17:06:53.752423Z",
          "start_time": "2025-02-21T17:06:53.744558Z"
        },
        "id": "178a28a2d4ad328c",
        "outputId": "a76cb421-5f3f-4d95-ab29-8a1123e43084"
      },
      "source": [
        "binned_model.pvalues"
      ],
      "outputs": [
        {
          "data": {
            "text/plain": [
              "Intercept                                                                          6.854945e-312\n",
              "C(Category, Sum)[S.Adversarial Dishonesty]                                          5.613244e-01\n",
              "C(Category, Sum)[S.Adversarial Harmfulness]                                         1.101024e-03\n",
              "C(Category, Sum)[S.Brainstorming]                                                   4.677179e-01\n",
              "C(Category, Sum)[S.Classification]                                                  8.225469e-02\n",
              "C(Category, Sum)[S.Closed QA]                                                       2.930181e-01\n",
              "C(Category, Sum)[S.Coding]                                                          3.388262e-02\n",
              "C(Category, Sum)[S.Creative Writing]                                                4.459575e-02\n",
              "C(Category, Sum)[S.Extraction]                                                      5.487209e-01\n",
              "C(Category, Sum)[S.Mathematical Reasoning]                                          5.718111e-02\n",
              "C(Category, Sum)[S.Open QA]                                                         2.230213e-02\n",
              "C(Category, Sum)[S.Poetry]                                                          1.083315e-05\n",
              "C(Category, Sum)[S.Rewriting]                                                       4.059918e-02\n",
              "C(Complexity, Sum)[S.Hyperspecific]                                                 2.816345e-01\n",
              "C(Category, Sum)[S.Adversarial Dishonesty]:C(Complexity, Sum)[S.Hyperspecific]      8.086383e-02\n",
              "C(Category, Sum)[S.Adversarial Harmfulness]:C(Complexity, Sum)[S.Hyperspecific]     3.451339e-01\n",
              "C(Category, Sum)[S.Brainstorming]:C(Complexity, Sum)[S.Hyperspecific]               8.574372e-01\n",
              "C(Category, Sum)[S.Classification]:C(Complexity, Sum)[S.Hyperspecific]              9.508135e-01\n",
              "C(Category, Sum)[S.Closed QA]:C(Complexity, Sum)[S.Hyperspecific]                   3.164338e-02\n",
              "C(Category, Sum)[S.Coding]:C(Complexity, Sum)[S.Hyperspecific]                      9.243834e-01\n",
              "C(Category, Sum)[S.Creative Writing]:C(Complexity, Sum)[S.Hyperspecific]            6.521928e-01\n",
              "C(Category, Sum)[S.Extraction]:C(Complexity, Sum)[S.Hyperspecific]                  2.984449e-01\n",
              "C(Category, Sum)[S.Mathematical Reasoning]:C(Complexity, Sum)[S.Hyperspecific]      6.517257e-01\n",
              "C(Category, Sum)[S.Open QA]:C(Complexity, Sum)[S.Hyperspecific]                     6.612281e-01\n",
              "C(Category, Sum)[S.Poetry]:C(Complexity, Sum)[S.Hyperspecific]                      4.144218e-01\n",
              "C(Category, Sum)[S.Rewriting]:C(Complexity, Sum)[S.Hyperspecific]                   8.674576e-01\n",
              "dtype: float64"
            ]
          },
          "execution_count": 32,
          "metadata": {},
          "output_type": "execute_result"
        }
      ],
      "execution_count": null
    },
    {
      "cell_type": "markdown",
      "id": "d06750bc-375b-4c84-b80c-896499e77e9e",
      "metadata": {
        "id": "d06750bc-375b-4c84-b80c-896499e77e9e"
      },
      "source": [
        "---\n",
        "\n",
        "Results Discussion:\n",
        "___\n",
        "\n",
        "\n",
        "- The results from the ANOVA showed that the only factor that impact the preference rating amongst Bard and ChatGPT is the **Category** with a pvalue of 1.614284e-08.\n",
        "\n",
        "- There are six categories showed statistical difference with respect the other categories (pvalues < 0.05):\n",
        "\n",
        "  - Adversarial and Harmfulness\n",
        "  - Coding\n",
        "  - Creative Writing\n",
        "  - Open QA\n",
        "  - Poetry\n",
        "  - Rewriting\n",
        "    \n",
        "- The **interaction** of hyperspecific prompts in the Close QA category had statically significance on the models rating.\n",
        "- Creative Writing, Open QA and Poetry are categories found in data set with the Likert-like rating and the binned rating.\n",
        "- The R-squared only explains 8% of the data variance in the model. This was expected due to the imbalanced dataset."
      ]
    },
    {
      "cell_type": "code",
      "id": "a72bbdb24823ecd8",
      "metadata": {
        "ExecuteTime": {
          "end_time": "2025-02-21T17:07:43.297536Z",
          "start_time": "2025-02-21T17:07:43.277919Z"
        },
        "id": "a72bbdb24823ecd8",
        "outputId": "ec6f6c89-d27e-41cd-b93a-f4dde766f381"
      },
      "source": [
        "def eta_squared(aov_table):\n",
        "    aov_table['eta_sq'] = 'NaN'\n",
        "    aov_table['eta_sq'] = aov_table[:-1]['sum_sq']/sum(aov_table['sum_sq'])\n",
        "    return aov\n",
        "def omega_squared(aov_table):\n",
        "    mse = aov_table['sum_sq'].iloc[-1]/aov_table['df'].iloc[-1]\n",
        "    aov_table['omega_sq'] = 'NaN'\n",
        "    aov_table['omega_sq'] = (aov_table[:-1]['sum_sq']-(aov_table[:-1]['df']*mse))/(sum(aov_table['sum_sq'])+mse)\n",
        "    return aov\n",
        "eta_squared(aov)\n",
        "omega_squared(aov)\n",
        "eta_squared(binned_aov)\n",
        "omega_squared(binned_aov)"
      ],
      "outputs": [
        {
          "data": {
            "text/plain": [
              "                                          sum_sq     df         F    PR(>F)  \\\n",
              "C(Category, Sum)                      161.270746   12.0  4.128031  0.000002   \n",
              "C(Complexity, Sum)                     10.825791    1.0  3.325280  0.068528   \n",
              "C(Category, Sum):C(Complexity, Sum)    34.029462   12.0  0.871049  0.576531   \n",
              "Residual                             3180.724004  977.0       NaN       NaN   \n",
              "\n",
              "                                       eta_sq  omega_sq  \n",
              "C(Category, Sum)                     0.047617  0.036047  \n",
              "C(Complexity, Sum)                   0.003196  0.002233  \n",
              "C(Category, Sum):C(Complexity, Sum)  0.010048 -0.001486  \n",
              "Residual                                  NaN       NaN  "
            ],
            "text/html": [
              "<div>\n",
              "<style scoped>\n",
              "    .dataframe tbody tr th:only-of-type {\n",
              "        vertical-align: middle;\n",
              "    }\n",
              "\n",
              "    .dataframe tbody tr th {\n",
              "        vertical-align: top;\n",
              "    }\n",
              "\n",
              "    .dataframe thead th {\n",
              "        text-align: right;\n",
              "    }\n",
              "</style>\n",
              "<table border=\"1\" class=\"dataframe\">\n",
              "  <thead>\n",
              "    <tr style=\"text-align: right;\">\n",
              "      <th></th>\n",
              "      <th>sum_sq</th>\n",
              "      <th>df</th>\n",
              "      <th>F</th>\n",
              "      <th>PR(&gt;F)</th>\n",
              "      <th>eta_sq</th>\n",
              "      <th>omega_sq</th>\n",
              "    </tr>\n",
              "  </thead>\n",
              "  <tbody>\n",
              "    <tr>\n",
              "      <th>C(Category, Sum)</th>\n",
              "      <td>161.270746</td>\n",
              "      <td>12.0</td>\n",
              "      <td>4.128031</td>\n",
              "      <td>0.000002</td>\n",
              "      <td>0.047617</td>\n",
              "      <td>0.036047</td>\n",
              "    </tr>\n",
              "    <tr>\n",
              "      <th>C(Complexity, Sum)</th>\n",
              "      <td>10.825791</td>\n",
              "      <td>1.0</td>\n",
              "      <td>3.325280</td>\n",
              "      <td>0.068528</td>\n",
              "      <td>0.003196</td>\n",
              "      <td>0.002233</td>\n",
              "    </tr>\n",
              "    <tr>\n",
              "      <th>C(Category, Sum):C(Complexity, Sum)</th>\n",
              "      <td>34.029462</td>\n",
              "      <td>12.0</td>\n",
              "      <td>0.871049</td>\n",
              "      <td>0.576531</td>\n",
              "      <td>0.010048</td>\n",
              "      <td>-0.001486</td>\n",
              "    </tr>\n",
              "    <tr>\n",
              "      <th>Residual</th>\n",
              "      <td>3180.724004</td>\n",
              "      <td>977.0</td>\n",
              "      <td>NaN</td>\n",
              "      <td>NaN</td>\n",
              "      <td>NaN</td>\n",
              "      <td>NaN</td>\n",
              "    </tr>\n",
              "  </tbody>\n",
              "</table>\n",
              "</div>"
            ]
          },
          "execution_count": 33,
          "metadata": {},
          "output_type": "execute_result"
        }
      ],
      "execution_count": null
    },
    {
      "cell_type": "code",
      "id": "4a7b0c653055eac2",
      "metadata": {
        "ExecuteTime": {
          "end_time": "2025-02-21T17:07:46.525544Z",
          "start_time": "2025-02-21T17:07:46.521072Z"
        },
        "id": "4a7b0c653055eac2"
      },
      "source": [
        "concat_anova = pd.concat([aov, binned_aov], axis=0)"
      ],
      "outputs": [],
      "execution_count": null
    },
    {
      "cell_type": "code",
      "id": "466c4fa170c1701d",
      "metadata": {
        "ExecuteTime": {
          "end_time": "2025-02-21T17:07:48.055918Z",
          "start_time": "2025-02-21T17:07:48.050569Z"
        },
        "id": "466c4fa170c1701d"
      },
      "source": [
        "concat_anova['rating_scale'] =  ['likert', 'likert', 'likert', 'likert', 'binned_likert', 'binned_likert', 'binned_likert', 'binned_likert']"
      ],
      "outputs": [],
      "execution_count": null
    },
    {
      "cell_type": "code",
      "id": "fd371324a11960d4",
      "metadata": {
        "ExecuteTime": {
          "end_time": "2025-02-21T17:07:49.767107Z",
          "start_time": "2025-02-21T17:07:49.751383Z"
        },
        "id": "fd371324a11960d4",
        "outputId": "b0461aed-d6e3-4de0-8d0e-03cdc71d57b9"
      },
      "source": [
        "print(f'Anovas Results')\n",
        "concat_anova"
      ],
      "outputs": [
        {
          "name": "stdout",
          "output_type": "stream",
          "text": [
            "Anovas Results\n"
          ]
        },
        {
          "data": {
            "text/plain": [
              "                                          sum_sq     df         F  \\\n",
              "C(Category, Sum)                      161.270746   12.0  4.128031   \n",
              "C(Complexity, Sum)                     10.825791    1.0  3.325280   \n",
              "C(Category, Sum):C(Complexity, Sum)    34.029462   12.0  0.871049   \n",
              "Residual                             3180.724004  977.0       NaN   \n",
              "C(Category, Sum)                       33.640404   12.0  5.200179   \n",
              "C(Complexity, Sum)                      0.673669    1.0  1.249641   \n",
              "C(Category, Sum):C(Complexity, Sum)     5.506006   12.0  0.851126   \n",
              "Residual                              526.691390  977.0       NaN   \n",
              "\n",
              "                                           PR(>F)    eta_sq  omega_sq  \\\n",
              "C(Category, Sum)                     2.489183e-06  0.047617  0.036047   \n",
              "C(Complexity, Sum)                   6.852782e-02  0.003196  0.002233   \n",
              "C(Category, Sum):C(Complexity, Sum)  5.765312e-01  0.010048 -0.001486   \n",
              "Residual                                      NaN       NaN       NaN   \n",
              "C(Category, Sum)                     1.614284e-08  0.059382  0.047917   \n",
              "C(Complexity, Sum)                   2.638959e-01  0.001189  0.000237   \n",
              "C(Category, Sum):C(Complexity, Sum)  5.973343e-01  0.009719 -0.001698   \n",
              "Residual                                      NaN       NaN       NaN   \n",
              "\n",
              "                                      rating_scale  \n",
              "C(Category, Sum)                            likert  \n",
              "C(Complexity, Sum)                          likert  \n",
              "C(Category, Sum):C(Complexity, Sum)         likert  \n",
              "Residual                                    likert  \n",
              "C(Category, Sum)                     binned_likert  \n",
              "C(Complexity, Sum)                   binned_likert  \n",
              "C(Category, Sum):C(Complexity, Sum)  binned_likert  \n",
              "Residual                             binned_likert  "
            ],
            "text/html": [
              "<div>\n",
              "<style scoped>\n",
              "    .dataframe tbody tr th:only-of-type {\n",
              "        vertical-align: middle;\n",
              "    }\n",
              "\n",
              "    .dataframe tbody tr th {\n",
              "        vertical-align: top;\n",
              "    }\n",
              "\n",
              "    .dataframe thead th {\n",
              "        text-align: right;\n",
              "    }\n",
              "</style>\n",
              "<table border=\"1\" class=\"dataframe\">\n",
              "  <thead>\n",
              "    <tr style=\"text-align: right;\">\n",
              "      <th></th>\n",
              "      <th>sum_sq</th>\n",
              "      <th>df</th>\n",
              "      <th>F</th>\n",
              "      <th>PR(&gt;F)</th>\n",
              "      <th>eta_sq</th>\n",
              "      <th>omega_sq</th>\n",
              "      <th>rating_scale</th>\n",
              "    </tr>\n",
              "  </thead>\n",
              "  <tbody>\n",
              "    <tr>\n",
              "      <th>C(Category, Sum)</th>\n",
              "      <td>161.270746</td>\n",
              "      <td>12.0</td>\n",
              "      <td>4.128031</td>\n",
              "      <td>2.489183e-06</td>\n",
              "      <td>0.047617</td>\n",
              "      <td>0.036047</td>\n",
              "      <td>likert</td>\n",
              "    </tr>\n",
              "    <tr>\n",
              "      <th>C(Complexity, Sum)</th>\n",
              "      <td>10.825791</td>\n",
              "      <td>1.0</td>\n",
              "      <td>3.325280</td>\n",
              "      <td>6.852782e-02</td>\n",
              "      <td>0.003196</td>\n",
              "      <td>0.002233</td>\n",
              "      <td>likert</td>\n",
              "    </tr>\n",
              "    <tr>\n",
              "      <th>C(Category, Sum):C(Complexity, Sum)</th>\n",
              "      <td>34.029462</td>\n",
              "      <td>12.0</td>\n",
              "      <td>0.871049</td>\n",
              "      <td>5.765312e-01</td>\n",
              "      <td>0.010048</td>\n",
              "      <td>-0.001486</td>\n",
              "      <td>likert</td>\n",
              "    </tr>\n",
              "    <tr>\n",
              "      <th>Residual</th>\n",
              "      <td>3180.724004</td>\n",
              "      <td>977.0</td>\n",
              "      <td>NaN</td>\n",
              "      <td>NaN</td>\n",
              "      <td>NaN</td>\n",
              "      <td>NaN</td>\n",
              "      <td>likert</td>\n",
              "    </tr>\n",
              "    <tr>\n",
              "      <th>C(Category, Sum)</th>\n",
              "      <td>33.640404</td>\n",
              "      <td>12.0</td>\n",
              "      <td>5.200179</td>\n",
              "      <td>1.614284e-08</td>\n",
              "      <td>0.059382</td>\n",
              "      <td>0.047917</td>\n",
              "      <td>binned_likert</td>\n",
              "    </tr>\n",
              "    <tr>\n",
              "      <th>C(Complexity, Sum)</th>\n",
              "      <td>0.673669</td>\n",
              "      <td>1.0</td>\n",
              "      <td>1.249641</td>\n",
              "      <td>2.638959e-01</td>\n",
              "      <td>0.001189</td>\n",
              "      <td>0.000237</td>\n",
              "      <td>binned_likert</td>\n",
              "    </tr>\n",
              "    <tr>\n",
              "      <th>C(Category, Sum):C(Complexity, Sum)</th>\n",
              "      <td>5.506006</td>\n",
              "      <td>12.0</td>\n",
              "      <td>0.851126</td>\n",
              "      <td>5.973343e-01</td>\n",
              "      <td>0.009719</td>\n",
              "      <td>-0.001698</td>\n",
              "      <td>binned_likert</td>\n",
              "    </tr>\n",
              "    <tr>\n",
              "      <th>Residual</th>\n",
              "      <td>526.691390</td>\n",
              "      <td>977.0</td>\n",
              "      <td>NaN</td>\n",
              "      <td>NaN</td>\n",
              "      <td>NaN</td>\n",
              "      <td>NaN</td>\n",
              "      <td>binned_likert</td>\n",
              "    </tr>\n",
              "  </tbody>\n",
              "</table>\n",
              "</div>"
            ]
          },
          "execution_count": 36,
          "metadata": {},
          "output_type": "execute_result"
        }
      ],
      "execution_count": null
    },
    {
      "cell_type": "markdown",
      "id": "6bc775007caabb9b",
      "metadata": {
        "id": "6bc775007caabb9b"
      },
      "source": [
        "### 3.6 Kruskal-Wallis test"
      ]
    },
    {
      "cell_type": "code",
      "id": "34fadbacb5fc1c50",
      "metadata": {
        "ExecuteTime": {
          "end_time": "2025-02-21T17:07:53.507198Z",
          "start_time": "2025-02-21T17:07:53.488650Z"
        },
        "id": "34fadbacb5fc1c50",
        "outputId": "ef623879-d81e-4bc2-a7ab-2581bcc62e5f"
      },
      "source": [
        "# 1. Create groups by combining categorical variables\n",
        "df['combined'] = df['Category'] + '-' + df['Complexity']\n",
        "\n",
        "# 2. Find the groups\n",
        "groups_dict = df.groupby(['Category', 'Complexity']).groups\n",
        "groups = [df['Rating'].iloc[idx].values for idx in groups_dict.values()]\n",
        "\n",
        "# 3. Kruskal-Wallis Test\n",
        "kruskal_result = stats.kruskal(*groups)\n",
        "\n",
        "stat, pvalue = kruskal_result.statistic,  kruskal_result.pvalue\n",
        "\n",
        "if pvalue < 0.05:\n",
        "    print(f\"Fail to accept null hypothesis | p-value: {pvalue:.5} | statistic: {stat:.4}\")\n",
        "\n",
        "else:\n",
        "    print(f\"Fail to reject the null hypothesis: |p-value: {pvalue:.5} | | statistic: {stat:.4}\")\n",
        "\n"
      ],
      "outputs": [
        {
          "name": "stdout",
          "output_type": "stream",
          "text": [
            "Fail to accept null hypothesis | p-value: 6.9686e-07 | statistic: 74.92\n"
          ]
        }
      ],
      "execution_count": null
    },
    {
      "cell_type": "markdown",
      "id": "d7db40c3-867c-4d1e-8b43-68d1bd173247",
      "metadata": {
        "id": "d7db40c3-867c-4d1e-8b43-68d1bd173247"
      },
      "source": [
        "\n",
        "\n",
        "Results Discussion:\n",
        "\n",
        "- There are 26 groups from the combination of factors Category and Complexity:\n",
        "   - Category: 13 leves\n",
        "   - Complexity: 2 levels\n",
        "\n",
        "- The Kruskal-Wallis test rejected the hypothesis that all treatments' rating distributions are identical with a 5% uncertainty.\n",
        "\n"
      ]
    },
    {
      "cell_type": "markdown",
      "id": "442d6cd9fc7e0d0c",
      "metadata": {
        "id": "442d6cd9fc7e0d0c"
      },
      "source": [
        "## 4. Post-hoc"
      ]
    },
    {
      "cell_type": "markdown",
      "id": "42cfae97dd2b121e",
      "metadata": {
        "id": "42cfae97dd2b121e"
      },
      "source": [
        "We will use the Dunn post-hoc test with Sidak p-value adjustment to fund which groups from the Kruskal-Wallis are significant different.\n",
        "$$p_{value} = 1 – (1-p)^m$$"
      ]
    },
    {
      "cell_type": "code",
      "id": "e92cc912abdeea7",
      "metadata": {
        "ExecuteTime": {
          "end_time": "2025-02-21T17:07:57.454914Z",
          "start_time": "2025-02-21T17:07:57.353802Z"
        },
        "id": "e92cc912abdeea7"
      },
      "source": [
        "dunn = sp.posthoc_conover(df, val_col='Rating', group_col ='combined', sort=True, p_adjust='sidak')"
      ],
      "outputs": [],
      "execution_count": null
    },
    {
      "cell_type": "code",
      "id": "7423f0e0d2958c55",
      "metadata": {
        "ExecuteTime": {
          "end_time": "2025-02-21T17:07:59.224131Z",
          "start_time": "2025-02-21T17:07:59.220648Z"
        },
        "id": "7423f0e0d2958c55"
      },
      "source": [
        "indices = np.where(dunn.values < 0.05)"
      ],
      "outputs": [],
      "execution_count": null
    },
    {
      "cell_type": "code",
      "id": "8c9dceb98864547e",
      "metadata": {
        "ExecuteTime": {
          "end_time": "2025-02-21T17:08:01.101618Z",
          "start_time": "2025-02-21T17:08:01.094924Z"
        },
        "id": "8c9dceb98864547e"
      },
      "source": [
        "pairs = defaultdict(list)\n",
        "\n",
        "for i, j in zip(indices[0], indices[1]):\n",
        "    row = dunn.index[i]\n",
        "    col = dunn.columns[j]\n",
        "    p_val = dunn.iloc[i, j].round(4)\n",
        "    pair = (row, col)\n",
        "    if pair in pairs['pairs'] or (col, row) in pairs['pairs']:\n",
        "        continue\n",
        "    else:\n",
        "        pairs['pairs'].append(pair)\n",
        "        pairs['pval'].append(p_val)"
      ],
      "outputs": [],
      "execution_count": null
    },
    {
      "cell_type": "code",
      "id": "892b101b18381b44",
      "metadata": {
        "ExecuteTime": {
          "end_time": "2025-02-21T17:08:03.273071Z",
          "start_time": "2025-02-21T17:08:03.268660Z"
        },
        "id": "892b101b18381b44"
      },
      "source": [
        "dunn_significant_pairs = pd.DataFrame(pairs)\n",
        "dunn_significant_pairs.sort_values('pairs', ascending=True, inplace=True)"
      ],
      "outputs": [],
      "execution_count": null
    },
    {
      "cell_type": "code",
      "id": "ea61610f-45b7-49e6-9eb7-fb7ee91323c8",
      "metadata": {
        "ExecuteTime": {
          "end_time": "2025-02-21T17:08:04.922247Z",
          "start_time": "2025-02-21T17:08:04.918131Z"
        },
        "id": "ea61610f-45b7-49e6-9eb7-fb7ee91323c8",
        "outputId": "564c2bf9-ab44-4dd7-9779-d838aadd55b8"
      },
      "source": [
        "for pair in dunn_significant_pairs['pairs']:\n",
        "    print(f'Significant different pairs: {pair}')"
      ],
      "outputs": [
        {
          "name": "stdout",
          "output_type": "stream",
          "text": [
            "Significant different pairs: ('Adversarial Harmfulness-Simple', 'Creative Writing-Hyperspecific')\n",
            "Significant different pairs: ('Adversarial Harmfulness-Simple', 'Poetry-Hyperspecific')\n",
            "Significant different pairs: ('Adversarial Harmfulness-Simple', 'Poetry-Simple')\n",
            "Significant different pairs: ('Creative Writing-Hyperspecific', 'Mathematical Reasoning-Simple')\n",
            "Significant different pairs: ('Creative Writing-Hyperspecific', 'Open QA-Simple')\n",
            "Significant different pairs: ('Mathematical Reasoning-Simple', 'Poetry-Hyperspecific')\n",
            "Significant different pairs: ('Mathematical Reasoning-Simple', 'Poetry-Simple')\n"
          ]
        }
      ],
      "execution_count": null
    },
    {
      "cell_type": "markdown",
      "id": "7827dbece4025152",
      "metadata": {
        "id": "7827dbece4025152"
      },
      "source": [
        "## Conclusion"
      ]
    },
    {
      "cell_type": "markdown",
      "id": "e29a7813-30d8-4128-bf2c-67418822bdf5",
      "metadata": {
        "id": "e29a7813-30d8-4128-bf2c-67418822bdf5"
      },
      "source": [
        "---\n",
        "\n",
        "- ChatGPT performs better at all the 13 categories and prompt complexity levels.\n",
        "- ChatGPT degrades its performance in simple tasks.\n",
        "- Bard improves its performance when dealing with simple prompts specially in Mathematical Reasoning and OpenQA categories\n",
        "- Bards performs better in the Poetry category when the prompt is hyperspecific.\n",
        "- There were only 7 groups that showed significant difference in the ratings (refer to post-hoc test).\n",
        "- The categories with significant difference are: Adversarial Harmfulness, Creative Writing, Maths and Reasoning, Open QA and Poetry.\n",
        "\n",
        "---\n",
        "**ANOVA**\n",
        "\n",
        "- The ANOVA with the Likert scale identified four categories as significant: Creative Writing, Maths and Reasoning, Open QA and Poetry.\n",
        "- The ANOVA with the binned scale identified six categories as significant: Adversarial and Harmfulness, Coding, Creative Writing, Open QA, Poetry, Rewriting.\n",
        "- Creative Writing, Open QA and Poetry are common significant categories identified by the two ANOVA models.\n",
        "- There was an **interaction** effect for the prompts complexity and in the Close QA category.\n"
      ]
    }
  ],
  "metadata": {
    "kernelspec": {
      "display_name": "Python (bedrockAI)",
      "language": "python",
      "name": "bedrockai"
    },
    "language_info": {
      "codemirror_mode": {
        "name": "ipython",
        "version": 3
      },
      "file_extension": ".py",
      "mimetype": "text/x-python",
      "name": "python",
      "nbconvert_exporter": "python",
      "pygments_lexer": "ipython3",
      "version": "3.12.6"
    },
    "colab": {
      "provenance": []
    }
  },
  "nbformat": 4,
  "nbformat_minor": 5
}